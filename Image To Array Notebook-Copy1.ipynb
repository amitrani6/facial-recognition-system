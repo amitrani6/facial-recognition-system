{
 "cells": [
  {
   "cell_type": "code",
   "execution_count": 1,
   "metadata": {},
   "outputs": [
    {
     "name": "stderr",
     "output_type": "stream",
     "text": [
      "Using TensorFlow backend.\n"
     ]
    }
   ],
   "source": [
    "import pandas as pd\n",
    "import numpy as np\n",
    "from numpy import asarray\n",
    "\n",
    "from PIL import Image\n",
    "from mtcnn.mtcnn import MTCNN\n",
    "\n",
    "from numpy import load\n",
    "from numpy import expand_dims\n",
    "from numpy import savez_compressed\n",
    "from keras.models import load_model\n",
    " \n",
    "import json\n",
    "\n",
    "from tqdm import tqdm\n",
    "from tqdm import tqdm_notebook\n",
    "\n",
    "import matplotlib.pyplot as plt\n",
    "%matplotlib inline\n",
    "\n",
    "import warnings\n",
    "warnings.filterwarnings('ignore')"
   ]
  },
  {
   "cell_type": "markdown",
   "metadata": {},
   "source": [
    "## The Main DataFrames:"
   ]
  },
  {
   "cell_type": "code",
   "execution_count": 2,
   "metadata": {},
   "outputs": [],
   "source": [
    "#Load the converted metadata files for the images\n",
    "photo_df = pd.read_csv('photo_info_df/All_photo_data.csv')"
   ]
  },
  {
   "cell_type": "code",
   "execution_count": 3,
   "metadata": {
    "scrolled": true
   },
   "outputs": [
    {
     "data": {
      "text/html": [
       "<div>\n",
       "<style scoped>\n",
       "    .dataframe tbody tr th:only-of-type {\n",
       "        vertical-align: middle;\n",
       "    }\n",
       "\n",
       "    .dataframe tbody tr th {\n",
       "        vertical-align: top;\n",
       "    }\n",
       "\n",
       "    .dataframe thead th {\n",
       "        text-align: right;\n",
       "    }\n",
       "</style>\n",
       "<table border=\"1\" class=\"dataframe\">\n",
       "  <thead>\n",
       "    <tr style=\"text-align: right;\">\n",
       "      <th></th>\n",
       "      <th>name</th>\n",
       "      <th>dob</th>\n",
       "      <th>gender</th>\n",
       "      <th>photo_taken</th>\n",
       "      <th>age_when_taken</th>\n",
       "      <th>file_path</th>\n",
       "      <th>face_location</th>\n",
       "      <th>face_score</th>\n",
       "    </tr>\n",
       "  </thead>\n",
       "  <tbody>\n",
       "    <tr>\n",
       "      <th>0</th>\n",
       "      <td>Fred Astaire</td>\n",
       "      <td>1899-05-10</td>\n",
       "      <td>1.0</td>\n",
       "      <td>1968</td>\n",
       "      <td>69</td>\n",
       "      <td>image_data/imdb_data/01/nm0000001_rm124825600_...</td>\n",
       "      <td>[1072.926  161.838 1214.784  303.696]</td>\n",
       "      <td>1.459693</td>\n",
       "    </tr>\n",
       "    <tr>\n",
       "      <th>1</th>\n",
       "      <td>Fred Astaire</td>\n",
       "      <td>1899-05-10</td>\n",
       "      <td>1.0</td>\n",
       "      <td>1970</td>\n",
       "      <td>71</td>\n",
       "      <td>image_data/imdb_data/01/nm0000001_rm3343756032...</td>\n",
       "      <td>[477.184 100.352 622.592 245.76 ]</td>\n",
       "      <td>2.543198</td>\n",
       "    </tr>\n",
       "    <tr>\n",
       "      <th>2</th>\n",
       "      <td>Fred Astaire</td>\n",
       "      <td>1899-05-10</td>\n",
       "      <td>1.0</td>\n",
       "      <td>1968</td>\n",
       "      <td>69</td>\n",
       "      <td>image_data/imdb_data/01/nm0000001_rm577153792_...</td>\n",
       "      <td>[114.96964309 114.96964309 451.68657236 451.68...</td>\n",
       "      <td>3.455579</td>\n",
       "    </tr>\n",
       "    <tr>\n",
       "      <th>3</th>\n",
       "      <td>Fred Astaire</td>\n",
       "      <td>1899-05-10</td>\n",
       "      <td>1.0</td>\n",
       "      <td>1968</td>\n",
       "      <td>69</td>\n",
       "      <td>image_data/imdb_data/01/nm0000001_rm946909184_...</td>\n",
       "      <td>[622.88550564 424.21750384 844.33900767 645.67...</td>\n",
       "      <td>1.872117</td>\n",
       "    </tr>\n",
       "    <tr>\n",
       "      <th>4</th>\n",
       "      <td>Fred Astaire</td>\n",
       "      <td>1899-05-10</td>\n",
       "      <td>1.0</td>\n",
       "      <td>1968</td>\n",
       "      <td>69</td>\n",
       "      <td>image_data/imdb_data/01/nm0000001_rm980463616_...</td>\n",
       "      <td>[1013.85900236  233.88204221 1201.5861278   42...</td>\n",
       "      <td>1.158766</td>\n",
       "    </tr>\n",
       "  </tbody>\n",
       "</table>\n",
       "</div>"
      ],
      "text/plain": [
       "           name         dob  gender  photo_taken  age_when_taken  \\\n",
       "0  Fred Astaire  1899-05-10     1.0         1968              69   \n",
       "1  Fred Astaire  1899-05-10     1.0         1970              71   \n",
       "2  Fred Astaire  1899-05-10     1.0         1968              69   \n",
       "3  Fred Astaire  1899-05-10     1.0         1968              69   \n",
       "4  Fred Astaire  1899-05-10     1.0         1968              69   \n",
       "\n",
       "                                           file_path  \\\n",
       "0  image_data/imdb_data/01/nm0000001_rm124825600_...   \n",
       "1  image_data/imdb_data/01/nm0000001_rm3343756032...   \n",
       "2  image_data/imdb_data/01/nm0000001_rm577153792_...   \n",
       "3  image_data/imdb_data/01/nm0000001_rm946909184_...   \n",
       "4  image_data/imdb_data/01/nm0000001_rm980463616_...   \n",
       "\n",
       "                                       face_location  face_score  \n",
       "0              [1072.926  161.838 1214.784  303.696]    1.459693  \n",
       "1                  [477.184 100.352 622.592 245.76 ]    2.543198  \n",
       "2  [114.96964309 114.96964309 451.68657236 451.68...    3.455579  \n",
       "3  [622.88550564 424.21750384 844.33900767 645.67...    1.872117  \n",
       "4  [1013.85900236  233.88204221 1201.5861278   42...    1.158766  "
      ]
     },
     "execution_count": 3,
     "metadata": {},
     "output_type": "execute_result"
    }
   ],
   "source": [
    "photo_df.head()"
   ]
  },
  {
   "cell_type": "code",
   "execution_count": 4,
   "metadata": {
    "scrolled": false
   },
   "outputs": [
    {
     "name": "stdout",
     "output_type": "stream",
     "text": [
      "<class 'pandas.core.frame.DataFrame'>\n",
      "RangeIndex: 372917 entries, 0 to 372916\n",
      "Data columns (total 8 columns):\n",
      "name              372917 non-null object\n",
      "dob               372917 non-null object\n",
      "gender            372917 non-null float64\n",
      "photo_taken       372917 non-null int64\n",
      "age_when_taken    372917 non-null int64\n",
      "file_path         372917 non-null object\n",
      "face_location     372917 non-null object\n",
      "face_score        372917 non-null float64\n",
      "dtypes: float64(2), int64(2), object(4)\n",
      "memory usage: 22.8+ MB\n"
     ]
    }
   ],
   "source": [
    "#There are 372917 total images across 53690 individuals\n",
    "photo_df.info()"
   ]
  },
  {
   "cell_type": "code",
   "execution_count": 5,
   "metadata": {
    "scrolled": true
   },
   "outputs": [
    {
     "data": {
      "text/plain": [
       "53690"
      ]
     },
     "execution_count": 5,
     "metadata": {},
     "output_type": "execute_result"
    }
   ],
   "source": [
    "photo_df.name.nunique()"
   ]
  },
  {
   "cell_type": "code",
   "execution_count": 6,
   "metadata": {},
   "outputs": [],
   "source": [
    "#photo_df[photo_df['file_path'].str.contains(\"image_data/imdb_data/\", case=False)]"
   ]
  },
  {
   "cell_type": "code",
   "execution_count": 9,
   "metadata": {},
   "outputs": [],
   "source": [
    "def obtain_image_array(filename):\n",
    "    \n",
    "    # load the image\n",
    "    image = Image.open(filename)\n",
    "    image = image.convert('RGB')\n",
    "    image_array = asarray(image)\n",
    "    \n",
    "    face_array_resized = Image.fromarray(image_array)\n",
    "    face_array_resized = face_array_resized.resize((160,160))\n",
    "    \n",
    "    return face_array_resized"
   ]
  },
  {
   "cell_type": "code",
   "execution_count": 11,
   "metadata": {
    "scrolled": true
   },
   "outputs": [
    {
     "name": "stderr",
     "output_type": "stream",
     "text": [
      "100%|██████████| 372917/372917 [2:56:52<00:00, 35.14it/s]      \n"
     ]
    }
   ],
   "source": [
    "tqdm.pandas()\n",
    "photo_df['resized_array'] = photo_df['file_path'].progress_apply(lambda x: obtain_image_array(x))"
   ]
  },
  {
   "cell_type": "code",
   "execution_count": 12,
   "metadata": {},
   "outputs": [],
   "source": [
    "photo_df.to_csv('photo_info_df/photo_data_with_image_arrays.csv', index = False)"
   ]
  },
  {
   "cell_type": "code",
   "execution_count": 13,
   "metadata": {},
   "outputs": [
    {
     "data": {
      "text/html": [
       "<div>\n",
       "<style scoped>\n",
       "    .dataframe tbody tr th:only-of-type {\n",
       "        vertical-align: middle;\n",
       "    }\n",
       "\n",
       "    .dataframe tbody tr th {\n",
       "        vertical-align: top;\n",
       "    }\n",
       "\n",
       "    .dataframe thead th {\n",
       "        text-align: right;\n",
       "    }\n",
       "</style>\n",
       "<table border=\"1\" class=\"dataframe\">\n",
       "  <thead>\n",
       "    <tr style=\"text-align: right;\">\n",
       "      <th></th>\n",
       "      <th>name</th>\n",
       "      <th>dob</th>\n",
       "      <th>gender</th>\n",
       "      <th>photo_taken</th>\n",
       "      <th>age_when_taken</th>\n",
       "      <th>file_path</th>\n",
       "      <th>face_location</th>\n",
       "      <th>face_score</th>\n",
       "      <th>resized_array</th>\n",
       "    </tr>\n",
       "  </thead>\n",
       "  <tbody>\n",
       "    <tr>\n",
       "      <th>0</th>\n",
       "      <td>Fred Astaire</td>\n",
       "      <td>1899-05-10</td>\n",
       "      <td>1.0</td>\n",
       "      <td>1968</td>\n",
       "      <td>69</td>\n",
       "      <td>image_data/imdb_data/01/nm0000001_rm124825600_...</td>\n",
       "      <td>[1072.926  161.838 1214.784  303.696]</td>\n",
       "      <td>1.459693</td>\n",
       "      <td>&lt;PIL.Image.Image image mode=RGB size=160x160 a...</td>\n",
       "    </tr>\n",
       "    <tr>\n",
       "      <th>1</th>\n",
       "      <td>Fred Astaire</td>\n",
       "      <td>1899-05-10</td>\n",
       "      <td>1.0</td>\n",
       "      <td>1970</td>\n",
       "      <td>71</td>\n",
       "      <td>image_data/imdb_data/01/nm0000001_rm3343756032...</td>\n",
       "      <td>[477.184 100.352 622.592 245.76 ]</td>\n",
       "      <td>2.543198</td>\n",
       "      <td>&lt;PIL.Image.Image image mode=RGB size=160x160 a...</td>\n",
       "    </tr>\n",
       "    <tr>\n",
       "      <th>2</th>\n",
       "      <td>Fred Astaire</td>\n",
       "      <td>1899-05-10</td>\n",
       "      <td>1.0</td>\n",
       "      <td>1968</td>\n",
       "      <td>69</td>\n",
       "      <td>image_data/imdb_data/01/nm0000001_rm577153792_...</td>\n",
       "      <td>[114.96964309 114.96964309 451.68657236 451.68...</td>\n",
       "      <td>3.455579</td>\n",
       "      <td>&lt;PIL.Image.Image image mode=RGB size=160x160 a...</td>\n",
       "    </tr>\n",
       "    <tr>\n",
       "      <th>3</th>\n",
       "      <td>Fred Astaire</td>\n",
       "      <td>1899-05-10</td>\n",
       "      <td>1.0</td>\n",
       "      <td>1968</td>\n",
       "      <td>69</td>\n",
       "      <td>image_data/imdb_data/01/nm0000001_rm946909184_...</td>\n",
       "      <td>[622.88550564 424.21750384 844.33900767 645.67...</td>\n",
       "      <td>1.872117</td>\n",
       "      <td>&lt;PIL.Image.Image image mode=RGB size=160x160 a...</td>\n",
       "    </tr>\n",
       "    <tr>\n",
       "      <th>4</th>\n",
       "      <td>Fred Astaire</td>\n",
       "      <td>1899-05-10</td>\n",
       "      <td>1.0</td>\n",
       "      <td>1968</td>\n",
       "      <td>69</td>\n",
       "      <td>image_data/imdb_data/01/nm0000001_rm980463616_...</td>\n",
       "      <td>[1013.85900236  233.88204221 1201.5861278   42...</td>\n",
       "      <td>1.158766</td>\n",
       "      <td>&lt;PIL.Image.Image image mode=RGB size=160x160 a...</td>\n",
       "    </tr>\n",
       "  </tbody>\n",
       "</table>\n",
       "</div>"
      ],
      "text/plain": [
       "           name         dob  gender  photo_taken  age_when_taken  \\\n",
       "0  Fred Astaire  1899-05-10     1.0         1968              69   \n",
       "1  Fred Astaire  1899-05-10     1.0         1970              71   \n",
       "2  Fred Astaire  1899-05-10     1.0         1968              69   \n",
       "3  Fred Astaire  1899-05-10     1.0         1968              69   \n",
       "4  Fred Astaire  1899-05-10     1.0         1968              69   \n",
       "\n",
       "                                           file_path  \\\n",
       "0  image_data/imdb_data/01/nm0000001_rm124825600_...   \n",
       "1  image_data/imdb_data/01/nm0000001_rm3343756032...   \n",
       "2  image_data/imdb_data/01/nm0000001_rm577153792_...   \n",
       "3  image_data/imdb_data/01/nm0000001_rm946909184_...   \n",
       "4  image_data/imdb_data/01/nm0000001_rm980463616_...   \n",
       "\n",
       "                                       face_location  face_score  \\\n",
       "0              [1072.926  161.838 1214.784  303.696]    1.459693   \n",
       "1                  [477.184 100.352 622.592 245.76 ]    2.543198   \n",
       "2  [114.96964309 114.96964309 451.68657236 451.68...    3.455579   \n",
       "3  [622.88550564 424.21750384 844.33900767 645.67...    1.872117   \n",
       "4  [1013.85900236  233.88204221 1201.5861278   42...    1.158766   \n",
       "\n",
       "                                       resized_array  \n",
       "0  <PIL.Image.Image image mode=RGB size=160x160 a...  \n",
       "1  <PIL.Image.Image image mode=RGB size=160x160 a...  \n",
       "2  <PIL.Image.Image image mode=RGB size=160x160 a...  \n",
       "3  <PIL.Image.Image image mode=RGB size=160x160 a...  \n",
       "4  <PIL.Image.Image image mode=RGB size=160x160 a...  "
      ]
     },
     "execution_count": 13,
     "metadata": {},
     "output_type": "execute_result"
    }
   ],
   "source": [
    "photo_df.head()"
   ]
  },
  {
   "cell_type": "code",
   "execution_count": null,
   "metadata": {},
   "outputs": [],
   "source": [
    "photo_df.to_json('photo_info_df/photo_data_with_image_arrays.json', index = False)"
   ]
  },
  {
   "cell_type": "code",
   "execution_count": null,
   "metadata": {},
   "outputs": [],
   "source": []
  },
  {
   "cell_type": "code",
   "execution_count": null,
   "metadata": {},
   "outputs": [],
   "source": []
  },
  {
   "cell_type": "code",
   "execution_count": null,
   "metadata": {},
   "outputs": [],
   "source": []
  },
  {
   "cell_type": "code",
   "execution_count": 8,
   "metadata": {},
   "outputs": [],
   "source": [
    "photo_df_A = photo_df[:50000]\n",
    "photo_df_B = photo_df[50000:100000]\n",
    "photo_df_C = photo_df[100000:150000]\n",
    "photo_df_D = photo_df[150000:200000]\n",
    "photo_df_E = photo_df[200000:250000]\n",
    "photo_df_F = photo_df[250000:300000]\n",
    "photo_df_G = photo_df[300000:350000]\n",
    "photo_df_H = photo_df[350000:]"
   ]
  },
  {
   "cell_type": "code",
   "execution_count": 9,
   "metadata": {},
   "outputs": [
    {
     "name": "stderr",
     "output_type": "stream",
     "text": [
      "100%|██████████| 50000/50000 [04:00<00:00, 207.71it/s]\n"
     ]
    }
   ],
   "source": [
    "#This block of code obtains the image tensor from the image files (Part A)\n",
    "tqdm.pandas()\n",
    "photo_df_A['original_image_array'] = photo_df_A['file_path'].progress_apply(lambda x: obtain_image_array(x))\n"
   ]
  },
  {
   "cell_type": "code",
   "execution_count": null,
   "metadata": {},
   "outputs": [],
   "source": [
    "photo_df_A.to_json('photo_info_df/photo_data_with_image_arrays_A.json')"
   ]
  },
  {
   "cell_type": "code",
   "execution_count": null,
   "metadata": {},
   "outputs": [],
   "source": [
    "photo_df_A = pd.read_json('photo_info_df/photo_data_with_image_arrays_A.json')\n",
    "photo_df_A.head()"
   ]
  },
  {
   "cell_type": "code",
   "execution_count": null,
   "metadata": {},
   "outputs": [],
   "source": []
  },
  {
   "cell_type": "code",
   "execution_count": null,
   "metadata": {},
   "outputs": [],
   "source": []
  },
  {
   "cell_type": "code",
   "execution_count": null,
   "metadata": {},
   "outputs": [],
   "source": [
    "#This block of code obtains the image tensor from the image files (Part A)\n",
    "tqdm.pandas()\n",
    "photo_df_B['original_image_array'] = photo_df_B['file_path'].progress_apply(lambda x: obtain_image_array(x))\n"
   ]
  },
  {
   "cell_type": "code",
   "execution_count": null,
   "metadata": {},
   "outputs": [],
   "source": [
    "photo_df_B.to_json('photo_info_df/photo_data_with_image_arrays_B.json', index = False)"
   ]
  },
  {
   "cell_type": "code",
   "execution_count": null,
   "metadata": {},
   "outputs": [],
   "source": [
    "photo_df_B = pd.read_json('photo_info_df/photo_data_with_image_arrays_B.json', index = False)\n",
    "photo_df_B.head()"
   ]
  },
  {
   "cell_type": "code",
   "execution_count": null,
   "metadata": {},
   "outputs": [],
   "source": [
    "#This block of code obtains the image tensor from the image files (Part A)\n",
    "tqdm.pandas()\n",
    "photo_df_C['original_image_array'] = photo_df_C['file_path'].progress_apply(lambda x: obtain_image_array(x))\n"
   ]
  },
  {
   "cell_type": "code",
   "execution_count": null,
   "metadata": {},
   "outputs": [],
   "source": [
    "photo_df_C.to_json('photo_info_df/photo_data_with_image_arrays_C.json', index = False)"
   ]
  },
  {
   "cell_type": "code",
   "execution_count": null,
   "metadata": {},
   "outputs": [],
   "source": [
    "photo_df_C = pd.read_json('photo_info_df/photo_data_with_image_arrays_C.json', index = False)\n",
    "photo_df_C.head()"
   ]
  },
  {
   "cell_type": "code",
   "execution_count": null,
   "metadata": {},
   "outputs": [],
   "source": [
    "#This block of code obtains the image tensor from the image files (Part A)\n",
    "tqdm.pandas()\n",
    "photo_df_D['original_image_array'] = photo_df_D['file_path'].progress_apply(lambda x: obtain_image_array(x))\n"
   ]
  },
  {
   "cell_type": "code",
   "execution_count": null,
   "metadata": {},
   "outputs": [],
   "source": [
    "photo_df_D.to_json('photo_info_df/photo_data_with_image_arrays_D.json', index = False)"
   ]
  },
  {
   "cell_type": "code",
   "execution_count": null,
   "metadata": {},
   "outputs": [],
   "source": [
    "photo_df_D = pd.read_json('photo_info_df/photo_data_with_image_arrays_D.json', index = False)\n",
    "photo_df_D.head()"
   ]
  },
  {
   "cell_type": "code",
   "execution_count": null,
   "metadata": {},
   "outputs": [],
   "source": [
    "#This block of code obtains the image tensor from the image files (Part A)\n",
    "tqdm.pandas()\n",
    "photo_df_E['original_image_array'] = photo_df_E['file_path'].progress_apply(lambda x: obtain_image_array(x))\n"
   ]
  },
  {
   "cell_type": "code",
   "execution_count": null,
   "metadata": {},
   "outputs": [],
   "source": [
    "photo_df_E.to_json('photo_info_df/photo_data_with_image_arrays_E.json', index = False)"
   ]
  },
  {
   "cell_type": "code",
   "execution_count": null,
   "metadata": {},
   "outputs": [],
   "source": [
    "photo_df_E = pd.read_json('photo_info_df/photo_data_with_image_arrays_E.json', index = False)\n",
    "photo_df_E.head()"
   ]
  },
  {
   "cell_type": "code",
   "execution_count": null,
   "metadata": {},
   "outputs": [],
   "source": [
    "#This block of code obtains the image tensor from the image files (Part A)\n",
    "tqdm.pandas()\n",
    "photo_df_F['original_image_array'] = photo_df_F['file_path'].progress_apply(lambda x: obtain_image_array(x))\n"
   ]
  },
  {
   "cell_type": "code",
   "execution_count": null,
   "metadata": {},
   "outputs": [],
   "source": [
    "photo_df_F.to_json('photo_info_df/photo_data_with_image_arrays_F.json', index = False)"
   ]
  },
  {
   "cell_type": "code",
   "execution_count": null,
   "metadata": {},
   "outputs": [],
   "source": [
    "photo_df_F = pd.read_json('photo_info_df/photo_data_with_image_arrays_F.json', index = False)\n",
    "photo_df_F.head()"
   ]
  },
  {
   "cell_type": "code",
   "execution_count": null,
   "metadata": {},
   "outputs": [],
   "source": [
    "#This block of code obtains the image tensor from the image files (Part A)\n",
    "tqdm.pandas()\n",
    "photo_df_G['original_image_array'] = photo_df_G['file_path'].progress_apply(lambda x: obtain_image_array(x))\n"
   ]
  },
  {
   "cell_type": "code",
   "execution_count": null,
   "metadata": {},
   "outputs": [],
   "source": [
    "photo_df_G.to_json('photo_info_df/photo_data_with_image_arrays_G.json', index = False)"
   ]
  },
  {
   "cell_type": "code",
   "execution_count": null,
   "metadata": {},
   "outputs": [],
   "source": [
    "photo_df_G = pd.read_json('photo_info_df/photo_data_with_image_arrays_G.json', index = False)\n",
    "photo_df_G.head()"
   ]
  },
  {
   "cell_type": "code",
   "execution_count": null,
   "metadata": {},
   "outputs": [],
   "source": [
    "#This block of code obtains the image tensor from the image files (Part A)\n",
    "tqdm.pandas()\n",
    "photo_df_H['original_image_array'] = photo_df_H['file_path'].progress_apply(lambda x: obtain_image_array(x))\n"
   ]
  },
  {
   "cell_type": "code",
   "execution_count": null,
   "metadata": {},
   "outputs": [],
   "source": [
    "photo_df_H.to_json('photo_info_df/photo_data_with_image_arrays_H.json', index = False)"
   ]
  },
  {
   "cell_type": "code",
   "execution_count": null,
   "metadata": {},
   "outputs": [],
   "source": [
    "photo_df_H = pd.read_json('photo_info_df/photo_data_with_image_arrays_H.json', index = False)\n",
    "photo_df_H.head()"
   ]
  },
  {
   "cell_type": "code",
   "execution_count": null,
   "metadata": {},
   "outputs": [],
   "source": [
    "#This block combines and saves the dataframes\n",
    "photo_df = pd.concat([photo_df_A, photo_df_B, photo_df_C, photo_df_D]).reset_index(drop=True)\n",
    "photo_df.to_csv('photo_info_df/photo_data_with_image_arrays.csv', index = False)"
   ]
  },
  {
   "cell_type": "code",
   "execution_count": null,
   "metadata": {},
   "outputs": [],
   "source": [
    "photo_df.head()"
   ]
  },
  {
   "cell_type": "code",
   "execution_count": null,
   "metadata": {},
   "outputs": [],
   "source": [
    "def resize_picture(filename, dimensions = (160,160), margin = 0):\n",
    "            \n",
    "    # load the image\n",
    "    #image = Image.open(filename)\n",
    "    #image = image.convert('RGB')\n",
    "    #image_array = asarray(image)\n",
    "    \n",
    "    image_array = filename\n",
    "    \n",
    "    #Set a margin boolean and while loop to try margin value\n",
    "    margin_error = True\n",
    "    \n",
    "    while margin_error:\n",
    "    \n",
    "        try:\n",
    "            #Crop the face further with MTCNN\n",
    "            detector = MTCNN()\n",
    "    \n",
    "            #Obtain the first detected face in the cropped face picture\n",
    "            first_detected_face = detector.detect_faces(image_array)[0]\n",
    "        \n",
    "            # get coordinates\n",
    "            x1, y1, width, height = first_detected_face['box']\n",
    "            x2, y2 = x1 + width + margin, y1 + height + margin       \n",
    "            x1 -= margin\n",
    "            y1 -= margin \n",
    "        \n",
    "            face_array = image_array[y1:y2, x1:x2]\n",
    "    \n",
    "        except:\n",
    "        \n",
    "            face_array = image_array\n",
    "        \n",
    "        try:\n",
    "            face_array_resized = Image.fromarray(face_array)\n",
    "            face_array_resized = face_array_resized.resize(dimensions)\n",
    "            \n",
    "            margin_error = False\n",
    "            break\n",
    "            \n",
    "        except:\n",
    "            \n",
    "            if margin > 0: \n",
    "                margin -= 1\n",
    "            else:\n",
    "                face_array_resized = Image.fromarray(image_array)\n",
    "                face_array_resized = face_array_resized.resize(dimensions)\n",
    "                break\n",
    "    \n",
    "    return asarray(face_array_resized)"
   ]
  },
  {
   "cell_type": "code",
   "execution_count": null,
   "metadata": {},
   "outputs": [],
   "source": [
    "picture1 = resize_picture(photo_df.file_path[0], dimensions = (160,160), margin = 10)[1]"
   ]
  },
  {
   "cell_type": "code",
   "execution_count": null,
   "metadata": {},
   "outputs": [],
   "source": [
    "def plot_face(face_data):\n",
    "    \n",
    "    # plot face\n",
    "    plt.axis('off')\n",
    "    plt.imshow(face_data)"
   ]
  },
  {
   "cell_type": "code",
   "execution_count": null,
   "metadata": {
    "scrolled": true
   },
   "outputs": [],
   "source": [
    "plot_face(picture1)"
   ]
  },
  {
   "cell_type": "code",
   "execution_count": null,
   "metadata": {},
   "outputs": [],
   "source": [
    "#photo_df[photo_df['file_path'].str.contains(\"961400_1953-02-05_2011\", case=False)]\n",
    "#photo_df[photo_df['face_score']<=1]\n",
    "photo_df.file_path[photo_df['face_score'] == photo_df['face_score'].max()]\n",
    "photo_df.file_path[54153]"
   ]
  },
  {
   "cell_type": "code",
   "execution_count": null,
   "metadata": {},
   "outputs": [],
   "source": [
    "test = photo_df[:100].copy()"
   ]
  },
  {
   "cell_type": "code",
   "execution_count": null,
   "metadata": {},
   "outputs": [],
   "source": [
    "#tqdm.pandas()\n",
    "#test['original_image_array'] = test['file_path'].progress_apply(lambda x: resize_picture(x, dimensions = (160,160), margin = 8))\n",
    "\n"
   ]
  },
  {
   "cell_type": "code",
   "execution_count": null,
   "metadata": {},
   "outputs": [],
   "source": [
    "tqdm.pandas()\n",
    "test['original_image_array'] = test['file_path'].progress_apply(lambda x: obtain_image_array(x))\n",
    "\n"
   ]
  },
  {
   "cell_type": "code",
   "execution_count": null,
   "metadata": {},
   "outputs": [],
   "source": [
    "tqdm.pandas()\n",
    "test['fn_resized_array'] = test['original_image_array'].progress_apply(lambda x: resize_picture(x, dimensions = (160,160), margin = 8))\n",
    "\n"
   ]
  },
  {
   "cell_type": "code",
   "execution_count": null,
   "metadata": {},
   "outputs": [],
   "source": [
    "test.fn_resized_array[3].shape"
   ]
  },
  {
   "cell_type": "markdown",
   "metadata": {},
   "source": [
    "### Preparation For The Model"
   ]
  },
  {
   "cell_type": "code",
   "execution_count": null,
   "metadata": {},
   "outputs": [],
   "source": [
    "#The following function is from 'Deep Learning for Computer Vision' by Jason Brownlee, Page (508)\n",
    "\n",
    "# get the face embedding for one face\n",
    "def get_embedding(model, face_pixels):\n",
    "    # scale pixel values\n",
    "    face_pixels = face_pixels.astype('float32')\n",
    "    # standardize pixel values across channels (global)\n",
    "    mean, std = face_pixels.mean(), face_pixels.std()\n",
    "    face_pixels = (face_pixels - mean) / std\n",
    "    # transform face into one sample\n",
    "    samples = expand_dims(face_pixels, axis=0)\n",
    "    # make prediction to get embedding\n",
    "    yhat = model.predict(samples)\n",
    "    return yhat[0]"
   ]
  },
  {
   "cell_type": "markdown",
   "metadata": {},
   "source": [
    "### The Model"
   ]
  },
  {
   "cell_type": "code",
   "execution_count": null,
   "metadata": {},
   "outputs": [],
   "source": [
    "# load the FaceNet model\n",
    "facenet_model = load_model('FaceNet_Model/facenet_keras.h5')\n",
    "facenet_model.load_weights('FaceNet_Model/facenet_keras_weights.h5')\n",
    "print(facenet_model.inputs)\n",
    "print(facenet_model.outputs)"
   ]
  },
  {
   "cell_type": "code",
   "execution_count": null,
   "metadata": {
    "scrolled": true
   },
   "outputs": [],
   "source": [
    "get_embedding(facenet_model, picture1)"
   ]
  },
  {
   "cell_type": "code",
   "execution_count": null,
   "metadata": {
    "scrolled": true
   },
   "outputs": [],
   "source": [
    "\n"
   ]
  },
  {
   "cell_type": "code",
   "execution_count": null,
   "metadata": {},
   "outputs": [],
   "source": []
  },
  {
   "cell_type": "code",
   "execution_count": null,
   "metadata": {},
   "outputs": [],
   "source": []
  }
 ],
 "metadata": {
  "kernelspec": {
   "display_name": "Python 3",
   "language": "python",
   "name": "python3"
  },
  "language_info": {
   "codemirror_mode": {
    "name": "ipython",
    "version": 3
   },
   "file_extension": ".py",
   "mimetype": "text/x-python",
   "name": "python",
   "nbconvert_exporter": "python",
   "pygments_lexer": "ipython3",
   "version": "3.7.2"
  }
 },
 "nbformat": 4,
 "nbformat_minor": 2
}
