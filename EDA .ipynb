{
 "cells": [
  {
   "cell_type": "markdown",
   "metadata": {},
   "source": [
    "# Doppelgänger: A Face Similarity Project\n",
    "\n",
    "I analyze the face of user(s) and output the most similar face from a database of well-known figures."
   ]
  },
  {
   "cell_type": "code",
   "execution_count": 1,
   "metadata": {},
   "outputs": [],
   "source": [
    "import pandas as pd\n",
    "import numpy as np\n",
    "\n",
    "import datetime\n",
    "from datetime import tzinfo, timedelta, datetime\n",
    "\n",
    "import matplotlib.pyplot as plt\n",
    "import seaborn as sns\n",
    "%matplotlib inline\n",
    "\n",
    "import warnings\n",
    "warnings.filterwarnings('ignore')\n",
    "\n",
    "import os.path\n",
    "from os import path"
   ]
  },
  {
   "cell_type": "markdown",
   "metadata": {},
   "source": [
    "# Where is the data from?\n",
    "\n",
    "The data was downloaded from the website of two age and gender detectors called \"IMDB-WIKI – 500k+ face images with age and gender labels\" (Rasmus Rothe, Radu Timofte, Luc Van Gool - ETH Zürich’s Computer Vision Lab)\n",
    "\n",
    "The images were webcrawled from the IMDB profiles of celebrities and Wikipedia pages of articles of people by popularity (visits) at some point before February 2016 (when the images were created).\n",
    "\n",
    "\n",
    "## What does the data look like?\n",
    "\n",
    "All files are downloadable as .tar archives. There is a wiki_data folder and imdb_data folder that contain subfolders of images and a .mat file of metadata.\n",
    "\n",
    "The authors used matlab for all of their coding and storage of their text metadata. I converted the metadata to python myself, which is essentially decompressing/flattenting the arrays and dictionaries that appear when the .mat files are read in by scipy. I saved my conversion work as pandas DataFrames in csv format.\n",
    "\n",
    "You have the ability to download the full images in batches or the cropped images of the faces.\n",
    "    - Stored in subfolders numbered 0-99\n",
    "    - File types of the images are .jpg\n"
   ]
  },
  {
   "cell_type": "markdown",
   "metadata": {},
   "source": [
    "# Step 1: Load the metadata for both datasets"
   ]
  },
  {
   "cell_type": "code",
   "execution_count": 2,
   "metadata": {},
   "outputs": [],
   "source": [
    "#Load the dataframes from each dataset\n",
    "imdb_photo_info = pd.read_csv('Photo_Dataframes/imdb_photo_metadata.csv')\n",
    "wiki_photo_info = pd.read_csv('Photo_Dataframes/wiki_photo_metadata.csv')\n",
    "\n",
    "#Concat the dataframes to create one main dataframe\n",
    "photo_info = pd.concat([imdb_photo_info, wiki_photo_info]).reset_index(drop=True)\n"
   ]
  },
  {
   "cell_type": "code",
   "execution_count": 3,
   "metadata": {
    "scrolled": false
   },
   "outputs": [
    {
     "data": {
      "text/html": [
       "<div>\n",
       "<style scoped>\n",
       "    .dataframe tbody tr th:only-of-type {\n",
       "        vertical-align: middle;\n",
       "    }\n",
       "\n",
       "    .dataframe tbody tr th {\n",
       "        vertical-align: top;\n",
       "    }\n",
       "\n",
       "    .dataframe thead th {\n",
       "        text-align: right;\n",
       "    }\n",
       "</style>\n",
       "<table border=\"1\" class=\"dataframe\">\n",
       "  <thead>\n",
       "    <tr style=\"text-align: right;\">\n",
       "      <th></th>\n",
       "      <th>name</th>\n",
       "      <th>dob</th>\n",
       "      <th>gender</th>\n",
       "      <th>photo_taken</th>\n",
       "      <th>file_path</th>\n",
       "      <th>face_location</th>\n",
       "      <th>face_score</th>\n",
       "      <th>second_face_score</th>\n",
       "    </tr>\n",
       "  </thead>\n",
       "  <tbody>\n",
       "    <tr>\n",
       "      <th>0</th>\n",
       "      <td>Fred Astaire</td>\n",
       "      <td>693726</td>\n",
       "      <td>1.0</td>\n",
       "      <td>1968</td>\n",
       "      <td>image_data/imdb_data/01/nm0000001_rm124825600_...</td>\n",
       "      <td>[1072.926  161.838 1214.784  303.696]</td>\n",
       "      <td>1.459693</td>\n",
       "      <td>1.118973</td>\n",
       "    </tr>\n",
       "    <tr>\n",
       "      <th>1</th>\n",
       "      <td>Fred Astaire</td>\n",
       "      <td>693726</td>\n",
       "      <td>1.0</td>\n",
       "      <td>1970</td>\n",
       "      <td>image_data/imdb_data/01/nm0000001_rm3343756032...</td>\n",
       "      <td>[477.184 100.352 622.592 245.76 ]</td>\n",
       "      <td>2.543198</td>\n",
       "      <td>1.852008</td>\n",
       "    </tr>\n",
       "    <tr>\n",
       "      <th>2</th>\n",
       "      <td>Fred Astaire</td>\n",
       "      <td>693726</td>\n",
       "      <td>1.0</td>\n",
       "      <td>1968</td>\n",
       "      <td>image_data/imdb_data/01/nm0000001_rm577153792_...</td>\n",
       "      <td>[114.96964309 114.96964309 451.68657236 451.68...</td>\n",
       "      <td>3.455579</td>\n",
       "      <td>2.985660</td>\n",
       "    </tr>\n",
       "    <tr>\n",
       "      <th>3</th>\n",
       "      <td>Fred Astaire</td>\n",
       "      <td>693726</td>\n",
       "      <td>1.0</td>\n",
       "      <td>1968</td>\n",
       "      <td>image_data/imdb_data/01/nm0000001_rm946909184_...</td>\n",
       "      <td>[622.88550564 424.21750384 844.33900767 645.67...</td>\n",
       "      <td>1.872117</td>\n",
       "      <td>NaN</td>\n",
       "    </tr>\n",
       "    <tr>\n",
       "      <th>4</th>\n",
       "      <td>Fred Astaire</td>\n",
       "      <td>693726</td>\n",
       "      <td>1.0</td>\n",
       "      <td>1968</td>\n",
       "      <td>image_data/imdb_data/01/nm0000001_rm980463616_...</td>\n",
       "      <td>[1013.85900236  233.88204221 1201.5861278   42...</td>\n",
       "      <td>1.158766</td>\n",
       "      <td>NaN</td>\n",
       "    </tr>\n",
       "  </tbody>\n",
       "</table>\n",
       "</div>"
      ],
      "text/plain": [
       "           name     dob  gender  photo_taken  \\\n",
       "0  Fred Astaire  693726     1.0         1968   \n",
       "1  Fred Astaire  693726     1.0         1970   \n",
       "2  Fred Astaire  693726     1.0         1968   \n",
       "3  Fred Astaire  693726     1.0         1968   \n",
       "4  Fred Astaire  693726     1.0         1968   \n",
       "\n",
       "                                           file_path  \\\n",
       "0  image_data/imdb_data/01/nm0000001_rm124825600_...   \n",
       "1  image_data/imdb_data/01/nm0000001_rm3343756032...   \n",
       "2  image_data/imdb_data/01/nm0000001_rm577153792_...   \n",
       "3  image_data/imdb_data/01/nm0000001_rm946909184_...   \n",
       "4  image_data/imdb_data/01/nm0000001_rm980463616_...   \n",
       "\n",
       "                                       face_location  face_score  \\\n",
       "0              [1072.926  161.838 1214.784  303.696]    1.459693   \n",
       "1                  [477.184 100.352 622.592 245.76 ]    2.543198   \n",
       "2  [114.96964309 114.96964309 451.68657236 451.68...    3.455579   \n",
       "3  [622.88550564 424.21750384 844.33900767 645.67...    1.872117   \n",
       "4  [1013.85900236  233.88204221 1201.5861278   42...    1.158766   \n",
       "\n",
       "   second_face_score  \n",
       "0           1.118973  \n",
       "1           1.852008  \n",
       "2           2.985660  \n",
       "3                NaN  \n",
       "4                NaN  "
      ]
     },
     "execution_count": 3,
     "metadata": {},
     "output_type": "execute_result"
    }
   ],
   "source": [
    "#Prior to any data cleanup there are 522,927 photos in the combined dataset\n",
    "#62,204 come from wikipedia and 460,723 come from imdb\n",
    "photo_info.head()"
   ]
  },
  {
   "cell_type": "code",
   "execution_count": 4,
   "metadata": {
    "scrolled": true
   },
   "outputs": [
    {
     "name": "stdout",
     "output_type": "stream",
     "text": [
      "<class 'pandas.core.frame.DataFrame'>\n",
      "RangeIndex: 522927 entries, 0 to 522926\n",
      "Data columns (total 8 columns):\n",
      "name                 522927 non-null object\n",
      "dob                  522927 non-null int64\n",
      "gender               511946 non-null float64\n",
      "photo_taken          522927 non-null int64\n",
      "file_path            522927 non-null object\n",
      "face_location        522927 non-null object\n",
      "face_score           522927 non-null float64\n",
      "second_face_score    217885 non-null float64\n",
      "dtypes: float64(3), int64(2), object(3)\n",
      "memory usage: 31.9+ MB\n"
     ]
    }
   ],
   "source": [
    "photo_info.info()"
   ]
  },
  {
   "cell_type": "markdown",
   "metadata": {},
   "source": [
    "## The metadata mainframe information\n",
    "\n",
    "\n",
    "### Given:\n",
    "-**name:** Name of the person\n",
    "\n",
    "-**dob:** date of birth (Matlab serial date number)\n",
    "\n",
    "-**gender:** 0 for female and 1 for male, NaN if unknown\n",
    "\n",
    "-**photo_taken:** year when the photo was taken\n",
    "\n",
    "-**full_path:** path to file\n",
    "\n",
    "-**face_location:** location of the face. To crop the face in Matlab run img(face_location(2):face_location(4),face_location(1):face_location(3),:))\n",
    "\n",
    "-**face_score:** detector score (the higher the better). Inf implies that no face was found in the image and the face_location then just returns the entire image\n",
    "\n",
    "**Not Seen In This Notebook:**\n",
    "\n",
    "-**second_face_score:** detector score of the face with the second highest score. This is useful to ignore images with more than one face. second_face_score is NaN if no second face was detected.**Not Seen In This Notebook**\n",
    "\n",
    "-**celeb_names (IMDB only):** list of all celebrity names\n",
    "\n",
    "-**celeb_id (IMDB only):** index of celebrity name\n",
    "\n",
    "\n",
    "### Created:\n",
    "\n",
    "-**age_when_taken** birthdate subtracted from photo_taken"
   ]
  },
  {
   "cell_type": "markdown",
   "metadata": {},
   "source": [
    "# Step 2: Initial Analysis"
   ]
  },
  {
   "cell_type": "code",
   "execution_count": 5,
   "metadata": {},
   "outputs": [
    {
     "data": {
      "text/plain": [
       "(0, 8)"
      ]
     },
     "execution_count": 5,
     "metadata": {},
     "output_type": "execute_result"
    },
    {
     "data": {
      "image/png": "[encoded data removed]",
      "text/plain": [
       "<Figure size 720x288 with 1 Axes>"
      ]
     },
     "metadata": {
      "needs_background": "light"
     },
     "output_type": "display_data"
    }
   ],
   "source": [
    "plt.figure(figsize=(10,4))\n",
    "photo_info['face_score'][photo_info['face_score']>0].hist(bins=10, grid=False, xlabelsize=12, ylabelsize=12)\n",
    "plt.xlabel(\"Primary Face Score\", fontsize=15)\n",
    "plt.ylabel(\"Frequency\",fontsize=15)\n",
    "plt.title('Distribution of Face Scores (Not Including NINF)',fontsize=15)\n",
    "plt.xlim(0, 8)"
   ]
  },
  {
   "cell_type": "markdown",
   "metadata": {},
   "source": [
    "# Step 3: Convert The Birthdays"
   ]
  },
  {
   "cell_type": "code",
   "execution_count": 6,
   "metadata": {},
   "outputs": [],
   "source": [
    "#Remove rows where the matlab birthdays will not convert to pandas because of incorrect information\n",
    "#If the matlab number only contains the year then it won't properly convert (522,798 remaining)\n",
    "photo_info = photo_info[photo_info['dob'] >= 2000].reset_index(drop=True)"
   ]
  },
  {
   "cell_type": "code",
   "execution_count": 7,
   "metadata": {},
   "outputs": [],
   "source": [
    "#A function that converts the matlab datetime object to the pandas datetime format \n",
    "def convert_matlab_dob(birthday):\n",
    "    return (datetime.fromordinal(int(birthday)) + timedelta(days=birthday%1) - timedelta(days = 366)).date()"
   ]
  },
  {
   "cell_type": "code",
   "execution_count": 8,
   "metadata": {},
   "outputs": [],
   "source": [
    "photo_info['dob'] = photo_info['dob'].apply(convert_matlab_dob)"
   ]
  },
  {
   "cell_type": "code",
   "execution_count": 9,
   "metadata": {},
   "outputs": [],
   "source": [
    "#Creates an \"age_when_taken\" column (year photo taken - dob)\n",
    "year_birth_extraction = lambda x: (int(x.year))\n",
    "photo_info['age_when_taken'] = photo_info.photo_taken - photo_info.dob.map(year_birth_extraction)"
   ]
  },
  {
   "cell_type": "code",
   "execution_count": 10,
   "metadata": {},
   "outputs": [
    {
     "data": {
      "text/html": [
       "<div>\n",
       "<style scoped>\n",
       "    .dataframe tbody tr th:only-of-type {\n",
       "        vertical-align: middle;\n",
       "    }\n",
       "\n",
       "    .dataframe tbody tr th {\n",
       "        vertical-align: top;\n",
       "    }\n",
       "\n",
       "    .dataframe thead th {\n",
       "        text-align: right;\n",
       "    }\n",
       "</style>\n",
       "<table border=\"1\" class=\"dataframe\">\n",
       "  <thead>\n",
       "    <tr style=\"text-align: right;\">\n",
       "      <th></th>\n",
       "      <th>name</th>\n",
       "      <th>dob</th>\n",
       "      <th>gender</th>\n",
       "      <th>photo_taken</th>\n",
       "      <th>file_path</th>\n",
       "      <th>face_location</th>\n",
       "      <th>face_score</th>\n",
       "      <th>second_face_score</th>\n",
       "      <th>age_when_taken</th>\n",
       "    </tr>\n",
       "  </thead>\n",
       "  <tbody>\n",
       "    <tr>\n",
       "      <th>0</th>\n",
       "      <td>Fred Astaire</td>\n",
       "      <td>1899-05-10</td>\n",
       "      <td>1.0</td>\n",
       "      <td>1968</td>\n",
       "      <td>image_data/imdb_data/01/nm0000001_rm124825600_...</td>\n",
       "      <td>[1072.926  161.838 1214.784  303.696]</td>\n",
       "      <td>1.459693</td>\n",
       "      <td>1.118973</td>\n",
       "      <td>69</td>\n",
       "    </tr>\n",
       "    <tr>\n",
       "      <th>1</th>\n",
       "      <td>Fred Astaire</td>\n",
       "      <td>1899-05-10</td>\n",
       "      <td>1.0</td>\n",
       "      <td>1970</td>\n",
       "      <td>image_data/imdb_data/01/nm0000001_rm3343756032...</td>\n",
       "      <td>[477.184 100.352 622.592 245.76 ]</td>\n",
       "      <td>2.543198</td>\n",
       "      <td>1.852008</td>\n",
       "      <td>71</td>\n",
       "    </tr>\n",
       "    <tr>\n",
       "      <th>2</th>\n",
       "      <td>Fred Astaire</td>\n",
       "      <td>1899-05-10</td>\n",
       "      <td>1.0</td>\n",
       "      <td>1968</td>\n",
       "      <td>image_data/imdb_data/01/nm0000001_rm577153792_...</td>\n",
       "      <td>[114.96964309 114.96964309 451.68657236 451.68...</td>\n",
       "      <td>3.455579</td>\n",
       "      <td>2.985660</td>\n",
       "      <td>69</td>\n",
       "    </tr>\n",
       "    <tr>\n",
       "      <th>3</th>\n",
       "      <td>Fred Astaire</td>\n",
       "      <td>1899-05-10</td>\n",
       "      <td>1.0</td>\n",
       "      <td>1968</td>\n",
       "      <td>image_data/imdb_data/01/nm0000001_rm946909184_...</td>\n",
       "      <td>[622.88550564 424.21750384 844.33900767 645.67...</td>\n",
       "      <td>1.872117</td>\n",
       "      <td>NaN</td>\n",
       "      <td>69</td>\n",
       "    </tr>\n",
       "    <tr>\n",
       "      <th>4</th>\n",
       "      <td>Fred Astaire</td>\n",
       "      <td>1899-05-10</td>\n",
       "      <td>1.0</td>\n",
       "      <td>1968</td>\n",
       "      <td>image_data/imdb_data/01/nm0000001_rm980463616_...</td>\n",
       "      <td>[1013.85900236  233.88204221 1201.5861278   42...</td>\n",
       "      <td>1.158766</td>\n",
       "      <td>NaN</td>\n",
       "      <td>69</td>\n",
       "    </tr>\n",
       "  </tbody>\n",
       "</table>\n",
       "</div>"
      ],
      "text/plain": [
       "           name         dob  gender  photo_taken  \\\n",
       "0  Fred Astaire  1899-05-10     1.0         1968   \n",
       "1  Fred Astaire  1899-05-10     1.0         1970   \n",
       "2  Fred Astaire  1899-05-10     1.0         1968   \n",
       "3  Fred Astaire  1899-05-10     1.0         1968   \n",
       "4  Fred Astaire  1899-05-10     1.0         1968   \n",
       "\n",
       "                                           file_path  \\\n",
       "0  image_data/imdb_data/01/nm0000001_rm124825600_...   \n",
       "1  image_data/imdb_data/01/nm0000001_rm3343756032...   \n",
       "2  image_data/imdb_data/01/nm0000001_rm577153792_...   \n",
       "3  image_data/imdb_data/01/nm0000001_rm946909184_...   \n",
       "4  image_data/imdb_data/01/nm0000001_rm980463616_...   \n",
       "\n",
       "                                       face_location  face_score  \\\n",
       "0              [1072.926  161.838 1214.784  303.696]    1.459693   \n",
       "1                  [477.184 100.352 622.592 245.76 ]    2.543198   \n",
       "2  [114.96964309 114.96964309 451.68657236 451.68...    3.455579   \n",
       "3  [622.88550564 424.21750384 844.33900767 645.67...    1.872117   \n",
       "4  [1013.85900236  233.88204221 1201.5861278   42...    1.158766   \n",
       "\n",
       "   second_face_score  age_when_taken  \n",
       "0           1.118973              69  \n",
       "1           1.852008              71  \n",
       "2           2.985660              69  \n",
       "3                NaN              69  \n",
       "4                NaN              69  "
      ]
     },
     "execution_count": 10,
     "metadata": {},
     "output_type": "execute_result"
    }
   ],
   "source": [
    "photo_info.head()"
   ]
  },
  {
   "cell_type": "code",
   "execution_count": 11,
   "metadata": {},
   "outputs": [
    {
     "data": {
      "text/plain": [
       "Text(0, 0.5, 'Frequency')"
      ]
     },
     "execution_count": 11,
     "metadata": {},
     "output_type": "execute_result"
    },
    {
     "data": {
      "image/png": "[encoded data removed]",
      "text/plain": [
       "<Figure size 720x288 with 1 Axes>"
      ]
     },
     "metadata": {
      "needs_background": "light"
     },
     "output_type": "display_data"
    }
   ],
   "source": [
    "plt.figure(figsize=(10,4))\n",
    "df = photo_info[photo_info.gender == 1.0]\n",
    "sns.distplot(df['age_when_taken'], kde=False, bins = 100, label='Male')\n",
    "\n",
    "df =photo_info[photo_info.gender == 0.0]\n",
    "sns.distplot(df['age_when_taken'],  kde=False, bins = 100, label='Female')\n",
    "\n",
    "\n",
    "\n",
    "# Plot formatting\n",
    "plt.legend(prop={'size': 12})\n",
    "plt.xlim(0, 125)\n",
    "plt.title('Age of Person When Photo Taken By Gender', fontsize=15)\n",
    "plt.xlabel('Age', fontsize=15)\n",
    "plt.ylabel('Frequency', fontsize=15)"
   ]
  },
  {
   "cell_type": "code",
   "execution_count": 12,
   "metadata": {},
   "outputs": [
    {
     "data": {
      "text/html": [
       "<div>\n",
       "<style scoped>\n",
       "    .dataframe tbody tr th:only-of-type {\n",
       "        vertical-align: middle;\n",
       "    }\n",
       "\n",
       "    .dataframe tbody tr th {\n",
       "        vertical-align: top;\n",
       "    }\n",
       "\n",
       "    .dataframe thead th {\n",
       "        text-align: right;\n",
       "    }\n",
       "</style>\n",
       "<table border=\"1\" class=\"dataframe\">\n",
       "  <thead>\n",
       "    <tr style=\"text-align: right;\">\n",
       "      <th></th>\n",
       "    </tr>\n",
       "  </thead>\n",
       "  <tbody>\n",
       "  </tbody>\n",
       "</table>\n",
       "</div>"
      ],
      "text/plain": [
       "Empty DataFrame\n",
       "Columns: []\n",
       "Index: []"
      ]
     },
     "execution_count": 12,
     "metadata": {},
     "output_type": "execute_result"
    }
   ],
   "source": [
    "#A check to see the null values in the 'python_dob' column after the birthday conversion\n",
    "photo_info[['name', 'dob']][photo_info.dob.isnull()].groupby(['name', 'dob']).first()"
   ]
  },
  {
   "cell_type": "markdown",
   "metadata": {},
   "source": [
    "# Step 4: Remove Entries With Incomplete Information"
   ]
  },
  {
   "cell_type": "code",
   "execution_count": 13,
   "metadata": {},
   "outputs": [
    {
     "data": {
      "text/plain": [
       "3703"
      ]
     },
     "execution_count": 13,
     "metadata": {},
     "output_type": "execute_result"
    }
   ],
   "source": [
    "#3,703 entries have omitted genders\n",
    "len(photo_info[['name', 'gender']][~photo_info['gender'].isin([0,1])].groupby(['name']))"
   ]
  },
  {
   "cell_type": "code",
   "execution_count": 14,
   "metadata": {},
   "outputs": [],
   "source": [
    "#Remove the photos with omitted genders, 511,817 photos remain\n",
    "photo_info = photo_info[photo_info['gender'].isin([0,1])].reset_index(drop=True)"
   ]
  },
  {
   "cell_type": "code",
   "execution_count": 15,
   "metadata": {},
   "outputs": [],
   "source": [
    "#Eliminate all images with a -inf primary face score because that means no face was detected\n",
    "#434,539 photos remain\n",
    "photo_info = photo_info[photo_info['face_score'] != np.NINF].reset_index(drop=True)"
   ]
  },
  {
   "cell_type": "markdown",
   "metadata": {},
   "source": [
    "# Step 5: Face Score And Second Face Score"
   ]
  },
  {
   "cell_type": "markdown",
   "metadata": {},
   "source": [
    "The face with the highest **face_score** is the default face for a given person.\n",
    "\n",
    "The three options for dealing with this are:\n",
    "    \n",
    "   (1) Manually label each face\n",
    "        \n",
    "   (2) Drop all images where multiple faces were detected (298,367 images left)\n",
    "        \n",
    "   (3) Create a threshold metric where there is a minimum percent difference between the first face score and the second face score (What the paper suggests)\n",
    "        \n",
    "   -Worked for Lauren Bacall but not for Fred Astaire:\n",
    "            \n",
    "   -Fred Astaire's Picture His face wasn't detected, most likely because of the obscured eyes\n",
    "                \n",
    "   -Lauren Bacall's Pictures Group photos were dropped because the faces had similar scores.\n",
    "\n",
    "    \n",
    "This is where the second_face_score comes in handy"
   ]
  },
  {
   "cell_type": "code",
   "execution_count": 16,
   "metadata": {},
   "outputs": [],
   "source": [
    "#Remove all photos where the primary face score is below 1 as these faces are far away or obscured\n",
    "#422,775 photos remain\n",
    "photo_info = photo_info[photo_info['face_score']>1]"
   ]
  },
  {
   "cell_type": "code",
   "execution_count": 17,
   "metadata": {},
   "outputs": [],
   "source": [
    "#Eliminate all images where the first and second face scores are similar\n",
    "#This means that there is a high chance that the photo was a group photo and\n",
    "#the best face is not necessarily the face of the person labeled\n",
    "#264,534 photos remain\n",
    "\n",
    "#Originally 0.9, lowered to 0.25\n",
    "\n",
    "#372,917 remain to 214,617\n",
    "\n",
    "photo_info['percent_face'] = (photo_info['second_face_score'] / photo_info['face_score'])\n",
    "\n",
    "photo_info = photo_info[(photo_info['percent_face'] <= 0.25) | (photo_info['percent_face'].isnull())].reset_index(drop=True)"
   ]
  },
  {
   "cell_type": "code",
   "execution_count": 18,
   "metadata": {},
   "outputs": [
    {
     "name": "stdout",
     "output_type": "stream",
     "text": [
      "<class 'pandas.core.frame.DataFrame'>\n",
      "RangeIndex: 214617 entries, 0 to 214616\n",
      "Data columns (total 10 columns):\n",
      "name                 214617 non-null object\n",
      "dob                  214617 non-null object\n",
      "gender               214617 non-null float64\n",
      "photo_taken          214617 non-null int64\n",
      "file_path            214617 non-null object\n",
      "face_location        214617 non-null object\n",
      "face_score           214617 non-null float64\n",
      "second_face_score    4432 non-null float64\n",
      "age_when_taken       214617 non-null int64\n",
      "percent_face         4432 non-null float64\n",
      "dtypes: float64(4), int64(2), object(4)\n",
      "memory usage: 16.4+ MB\n"
     ]
    }
   ],
   "source": [
    "photo_info.info()"
   ]
  },
  {
   "cell_type": "code",
   "execution_count": 19,
   "metadata": {
    "scrolled": true
   },
   "outputs": [
    {
     "data": {
      "text/html": [
       "<div>\n",
       "<style scoped>\n",
       "    .dataframe tbody tr th:only-of-type {\n",
       "        vertical-align: middle;\n",
       "    }\n",
       "\n",
       "    .dataframe tbody tr th {\n",
       "        vertical-align: top;\n",
       "    }\n",
       "\n",
       "    .dataframe thead th {\n",
       "        text-align: right;\n",
       "    }\n",
       "</style>\n",
       "<table border=\"1\" class=\"dataframe\">\n",
       "  <thead>\n",
       "    <tr style=\"text-align: right;\">\n",
       "      <th></th>\n",
       "      <th>name</th>\n",
       "      <th>dob</th>\n",
       "      <th>gender</th>\n",
       "      <th>photo_taken</th>\n",
       "      <th>age_when_taken</th>\n",
       "      <th>file_path</th>\n",
       "      <th>face_location</th>\n",
       "      <th>face_score</th>\n",
       "    </tr>\n",
       "  </thead>\n",
       "  <tbody>\n",
       "    <tr>\n",
       "      <th>0</th>\n",
       "      <td>Fred Astaire</td>\n",
       "      <td>1899-05-10</td>\n",
       "      <td>1.0</td>\n",
       "      <td>1968</td>\n",
       "      <td>69</td>\n",
       "      <td>image_data/imdb_data/01/nm0000001_rm946909184_...</td>\n",
       "      <td>[622.88550564 424.21750384 844.33900767 645.67...</td>\n",
       "      <td>1.872117</td>\n",
       "    </tr>\n",
       "    <tr>\n",
       "      <th>1</th>\n",
       "      <td>Fred Astaire</td>\n",
       "      <td>1899-05-10</td>\n",
       "      <td>1.0</td>\n",
       "      <td>1968</td>\n",
       "      <td>69</td>\n",
       "      <td>image_data/imdb_data/01/nm0000001_rm980463616_...</td>\n",
       "      <td>[1013.85900236  233.88204221 1201.5861278   42...</td>\n",
       "      <td>1.158766</td>\n",
       "    </tr>\n",
       "    <tr>\n",
       "      <th>2</th>\n",
       "      <td>Lauren Bacall</td>\n",
       "      <td>1924-09-16</td>\n",
       "      <td>0.0</td>\n",
       "      <td>2004</td>\n",
       "      <td>80</td>\n",
       "      <td>image_data/imdb_data/02/nm0000002_rm1346607872...</td>\n",
       "      <td>[ 78.23569407  52.33512938 194.25423516 168.35...</td>\n",
       "      <td>3.479189</td>\n",
       "    </tr>\n",
       "    <tr>\n",
       "      <th>3</th>\n",
       "      <td>Lauren Bacall</td>\n",
       "      <td>1924-09-16</td>\n",
       "      <td>0.0</td>\n",
       "      <td>2004</td>\n",
       "      <td>80</td>\n",
       "      <td>image_data/imdb_data/02/nm0000002_rm1363385088...</td>\n",
       "      <td>[ 64.30867104  64.30867104 207.26768087 207.26...</td>\n",
       "      <td>3.870171</td>\n",
       "    </tr>\n",
       "    <tr>\n",
       "      <th>4</th>\n",
       "      <td>Lauren Bacall</td>\n",
       "      <td>1924-09-16</td>\n",
       "      <td>0.0</td>\n",
       "      <td>1974</td>\n",
       "      <td>50</td>\n",
       "      <td>image_data/imdb_data/02/nm0000002_rm221957120_...</td>\n",
       "      <td>[3173.14469259  401.04083657 4059.15207489 128...</td>\n",
       "      <td>4.096431</td>\n",
       "    </tr>\n",
       "  </tbody>\n",
       "</table>\n",
       "</div>"
      ],
      "text/plain": [
       "            name         dob  gender  photo_taken  age_when_taken  \\\n",
       "0   Fred Astaire  1899-05-10     1.0         1968              69   \n",
       "1   Fred Astaire  1899-05-10     1.0         1968              69   \n",
       "2  Lauren Bacall  1924-09-16     0.0         2004              80   \n",
       "3  Lauren Bacall  1924-09-16     0.0         2004              80   \n",
       "4  Lauren Bacall  1924-09-16     0.0         1974              50   \n",
       "\n",
       "                                           file_path  \\\n",
       "0  image_data/imdb_data/01/nm0000001_rm946909184_...   \n",
       "1  image_data/imdb_data/01/nm0000001_rm980463616_...   \n",
       "2  image_data/imdb_data/02/nm0000002_rm1346607872...   \n",
       "3  image_data/imdb_data/02/nm0000002_rm1363385088...   \n",
       "4  image_data/imdb_data/02/nm0000002_rm221957120_...   \n",
       "\n",
       "                                       face_location  face_score  \n",
       "0  [622.88550564 424.21750384 844.33900767 645.67...    1.872117  \n",
       "1  [1013.85900236  233.88204221 1201.5861278   42...    1.158766  \n",
       "2  [ 78.23569407  52.33512938 194.25423516 168.35...    3.479189  \n",
       "3  [ 64.30867104  64.30867104 207.26768087 207.26...    3.870171  \n",
       "4  [3173.14469259  401.04083657 4059.15207489 128...    4.096431  "
      ]
     },
     "execution_count": 19,
     "metadata": {},
     "output_type": "execute_result"
    }
   ],
   "source": [
    "#Reorganize the dataframe so that name is the first column after the index\n",
    "photo_info = photo_info[['name', 'dob', 'gender', 'photo_taken', 'age_when_taken', 'file_path', 'face_location', 'face_score']]\n",
    "\n",
    "photo_info.reset_index(drop=True)\n",
    "photo_info.head()"
   ]
  },
  {
   "cell_type": "code",
   "execution_count": 20,
   "metadata": {
    "scrolled": true
   },
   "outputs": [
    {
     "name": "stdout",
     "output_type": "stream",
     "text": [
      "214617\n",
      "0\n"
     ]
    }
   ],
   "source": [
    "#A check to see if the file path exists\n",
    "file_exists = 0\n",
    "file_not_exist = 0\n",
    "\n",
    "for i in photo_info.file_path:\n",
    "    if path.exists(i):\n",
    "        file_exists += 1\n",
    "    else: \n",
    "        file_not_exist += 1\n",
    "        \n",
    "print(file_exists)\n",
    "print(file_not_exist)"
   ]
  },
  {
   "cell_type": "code",
   "execution_count": 21,
   "metadata": {},
   "outputs": [],
   "source": [
    "photo_info.to_csv('Photo_Dataframes/All_Photo_Data.csv', index = False)"
   ]
  }
 ],
 "metadata": {
  "kernelspec": {
   "display_name": "Python 3",
   "language": "python",
   "name": "python3"
  },
  "language_info": {
   "codemirror_mode": {
    "name": "ipython",
    "version": 3
   },
   "file_extension": ".py",
   "mimetype": "text/x-python",
   "name": "python",
   "nbconvert_exporter": "python",
   "pygments_lexer": "ipython3",
   "version": "3.7.2"
  }
 },
 "nbformat": 4,
 "nbformat_minor": 2
}
