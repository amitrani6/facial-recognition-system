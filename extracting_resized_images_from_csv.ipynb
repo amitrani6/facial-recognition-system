{
 "cells": [
  {
   "cell_type": "code",
   "execution_count": 15,
   "metadata": {},
   "outputs": [],
   "source": [
    "import pandas as pd\n",
    "import numpy as np\n",
    "from numpy import asarray\n",
    "\n",
    "from ast import literal_eval"
   ]
  },
  {
   "cell_type": "code",
   "execution_count": 2,
   "metadata": {},
   "outputs": [],
   "source": [
    "photo_df = pd.read_csv('photo_info_df/photo_data_with_image_arrays_column.csv')"
   ]
  },
  {
   "cell_type": "code",
   "execution_count": 3,
   "metadata": {
    "scrolled": true
   },
   "outputs": [
    {
     "data": {
      "text/html": [
       "<div>\n",
       "<style scoped>\n",
       "    .dataframe tbody tr th:only-of-type {\n",
       "        vertical-align: middle;\n",
       "    }\n",
       "\n",
       "    .dataframe tbody tr th {\n",
       "        vertical-align: top;\n",
       "    }\n",
       "\n",
       "    .dataframe thead th {\n",
       "        text-align: right;\n",
       "    }\n",
       "</style>\n",
       "<table border=\"1\" class=\"dataframe\">\n",
       "  <thead>\n",
       "    <tr style=\"text-align: right;\">\n",
       "      <th></th>\n",
       "      <th>name</th>\n",
       "      <th>dob</th>\n",
       "      <th>gender</th>\n",
       "      <th>photo_taken</th>\n",
       "      <th>age_when_taken</th>\n",
       "      <th>file_path</th>\n",
       "      <th>face_location</th>\n",
       "      <th>face_score</th>\n",
       "      <th>face_pixels</th>\n",
       "    </tr>\n",
       "  </thead>\n",
       "  <tbody>\n",
       "    <tr>\n",
       "      <th>0</th>\n",
       "      <td>Fred Astaire</td>\n",
       "      <td>1899-05-10</td>\n",
       "      <td>1.0</td>\n",
       "      <td>1968</td>\n",
       "      <td>69</td>\n",
       "      <td>image_data/imdb_data/01/nm0000001_rm124825600_...</td>\n",
       "      <td>[1072.926  161.838 1214.784  303.696]</td>\n",
       "      <td>1.459693</td>\n",
       "      <td>[[[ 12  12  10]\\n  [ 12  12  10]\\n  [ 12  12  ...</td>\n",
       "    </tr>\n",
       "    <tr>\n",
       "      <th>1</th>\n",
       "      <td>Fred Astaire</td>\n",
       "      <td>1899-05-10</td>\n",
       "      <td>1.0</td>\n",
       "      <td>1970</td>\n",
       "      <td>71</td>\n",
       "      <td>image_data/imdb_data/01/nm0000001_rm3343756032...</td>\n",
       "      <td>[477.184 100.352 622.592 245.76 ]</td>\n",
       "      <td>2.543198</td>\n",
       "      <td>[[[ 42  35  19]\\n  [ 43  34  19]\\n  [ 43  34  ...</td>\n",
       "    </tr>\n",
       "    <tr>\n",
       "      <th>2</th>\n",
       "      <td>Fred Astaire</td>\n",
       "      <td>1899-05-10</td>\n",
       "      <td>1.0</td>\n",
       "      <td>1968</td>\n",
       "      <td>69</td>\n",
       "      <td>image_data/imdb_data/01/nm0000001_rm577153792_...</td>\n",
       "      <td>[114.96964309 114.96964309 451.68657236 451.68...</td>\n",
       "      <td>3.455579</td>\n",
       "      <td>[[[ 49  39  40]\\n  [ 47  35  37]\\n  [ 48  36  ...</td>\n",
       "    </tr>\n",
       "    <tr>\n",
       "      <th>3</th>\n",
       "      <td>Fred Astaire</td>\n",
       "      <td>1899-05-10</td>\n",
       "      <td>1.0</td>\n",
       "      <td>1968</td>\n",
       "      <td>69</td>\n",
       "      <td>image_data/imdb_data/01/nm0000001_rm946909184_...</td>\n",
       "      <td>[622.88550564 424.21750384 844.33900767 645.67...</td>\n",
       "      <td>1.872117</td>\n",
       "      <td>[[[155 172 153]\\n  [137 150 124]\\n  [136 134  ...</td>\n",
       "    </tr>\n",
       "    <tr>\n",
       "      <th>4</th>\n",
       "      <td>Fred Astaire</td>\n",
       "      <td>1899-05-10</td>\n",
       "      <td>1.0</td>\n",
       "      <td>1968</td>\n",
       "      <td>69</td>\n",
       "      <td>image_data/imdb_data/01/nm0000001_rm980463616_...</td>\n",
       "      <td>[1013.85900236  233.88204221 1201.5861278   42...</td>\n",
       "      <td>1.158766</td>\n",
       "      <td>[[[147 160  90]\\n  [170 180 127]\\n  [172 177 1...</td>\n",
       "    </tr>\n",
       "  </tbody>\n",
       "</table>\n",
       "</div>"
      ],
      "text/plain": [
       "           name         dob  gender  photo_taken  age_when_taken  \\\n",
       "0  Fred Astaire  1899-05-10     1.0         1968              69   \n",
       "1  Fred Astaire  1899-05-10     1.0         1970              71   \n",
       "2  Fred Astaire  1899-05-10     1.0         1968              69   \n",
       "3  Fred Astaire  1899-05-10     1.0         1968              69   \n",
       "4  Fred Astaire  1899-05-10     1.0         1968              69   \n",
       "\n",
       "                                           file_path  \\\n",
       "0  image_data/imdb_data/01/nm0000001_rm124825600_...   \n",
       "1  image_data/imdb_data/01/nm0000001_rm3343756032...   \n",
       "2  image_data/imdb_data/01/nm0000001_rm577153792_...   \n",
       "3  image_data/imdb_data/01/nm0000001_rm946909184_...   \n",
       "4  image_data/imdb_data/01/nm0000001_rm980463616_...   \n",
       "\n",
       "                                       face_location  face_score  \\\n",
       "0              [1072.926  161.838 1214.784  303.696]    1.459693   \n",
       "1                  [477.184 100.352 622.592 245.76 ]    2.543198   \n",
       "2  [114.96964309 114.96964309 451.68657236 451.68...    3.455579   \n",
       "3  [622.88550564 424.21750384 844.33900767 645.67...    1.872117   \n",
       "4  [1013.85900236  233.88204221 1201.5861278   42...    1.158766   \n",
       "\n",
       "                                         face_pixels  \n",
       "0  [[[ 12  12  10]\\n  [ 12  12  10]\\n  [ 12  12  ...  \n",
       "1  [[[ 42  35  19]\\n  [ 43  34  19]\\n  [ 43  34  ...  \n",
       "2  [[[ 49  39  40]\\n  [ 47  35  37]\\n  [ 48  36  ...  \n",
       "3  [[[155 172 153]\\n  [137 150 124]\\n  [136 134  ...  \n",
       "4  [[[147 160  90]\\n  [170 180 127]\\n  [172 177 1...  "
      ]
     },
     "execution_count": 3,
     "metadata": {},
     "output_type": "execute_result"
    }
   ],
   "source": [
    "photo_df.head()"
   ]
  },
  {
   "cell_type": "code",
   "execution_count": 60,
   "metadata": {},
   "outputs": [],
   "source": [
    "test = pd.read_pickle('photo_info_df/test_pickle.pkl')"
   ]
  },
  {
   "cell_type": "code",
   "execution_count": 64,
   "metadata": {},
   "outputs": [
    {
     "data": {
      "text/plain": [
       "(160, 160, 3)"
      ]
     },
     "execution_count": 64,
     "metadata": {},
     "output_type": "execute_result"
    }
   ],
   "source": [
    "test.head()\n",
    "test.face_pixels[0].shape"
   ]
  },
  {
   "cell_type": "code",
   "execution_count": 25,
   "metadata": {
    "scrolled": true
   },
   "outputs": [
    {
     "data": {
      "text/plain": [
       "'[[[ 12  12  10]\\n  [ 12  12  10]\\n  [ 12  12  10]\\n  ...\\n  [ 13  13  11]\\n  [ 13  13  11]\\n  [ 13  13  11]]\\n\\n [[ 12  12  10]\\n  [ 12  12  10]\\n  [ 12  12  10]\\n  ...\\n  [ 14  14  12]\\n  [ 13  13  11]\\n  [ 13  13  11]]\\n\\n [[ 12  12  10]\\n  [ 12  12  10]\\n  [ 12  12  10]\\n  ...\\n  [ 14  14  12]\\n  [ 14  14  12]\\n  [ 13  13  11]]\\n\\n ...\\n\\n [[113  24  16]\\n  [115  26  18]\\n  [116  28  18]\\n  ...\\n  [145  84  37]\\n  [162 102  50]\\n  [162 106  49]]\\n\\n [[114  25  17]\\n  [116  27  19]\\n  [115  26  18]\\n  ...\\n  [143  81  34]\\n  [162 100  49]\\n  [162 103  47]]\\n\\n [[101  28  19]\\n  [102  28  17]\\n  [106  29  19]\\n  ...\\n  [142  83  25]\\n  [161 101  39]\\n  [164 104  41]]]'"
      ]
     },
     "execution_count": 25,
     "metadata": {},
     "output_type": "execute_result"
    }
   ],
   "source": [
    "test_1 = photo_df.face_pixels[0]\n",
    "test_1"
   ]
  },
  {
   "cell_type": "code",
   "execution_count": 29,
   "metadata": {
    "scrolled": true
   },
   "outputs": [
    {
     "data": {
      "text/plain": [
       "'[[[ 12  12  10],[ 12  12  10],[ 12  12  10],...,[ 13  13  11],[ 13  13  11],[ 13  13  11]]\\n\\n [[ 12  12  10],[ 12  12  10],[ 12  12  10],...,[ 14  14  12],[ 13  13  11],[ 13  13  11]]\\n\\n [[ 12  12  10],[ 12  12  10],[ 12  12  10],...,[ 14  14  12],[ 14  14  12],[ 13  13  11]]\\n\\n ...\\n\\n [[113  24  16],[115  26  18],[116  28  18],...,[145  84  37],[162 102  50],[162 106  49]]\\n\\n [[114  25  17],[116  27  19],[115  26  18],...,[143  81  34],[162 100  49],[162 103  47]]\\n\\n [[101  28  19],[102  28  17],[106  29  19],...,[142  83  25],[161 101  39],[164 104  41]]]'"
      ]
     },
     "execution_count": 29,
     "metadata": {},
     "output_type": "execute_result"
    }
   ],
   "source": [
    "test_2 = test_1.replace('\\n  ', ',')\n",
    "test_2"
   ]
  },
  {
   "cell_type": "code",
   "execution_count": 37,
   "metadata": {},
   "outputs": [],
   "source": [
    "test_3 = test_2.replace('\\n\\n ', ',')"
   ]
  },
  {
   "cell_type": "code",
   "execution_count": 44,
   "metadata": {
    "scrolled": true
   },
   "outputs": [
    {
     "data": {
      "text/plain": [
       "'[[[12  12  10],[12  12  10],[12  12  10],...,[13  13  11],[13  13  11],[13  13  11]],[[12  12  10],[12  12  10],[12  12  10],...,[14  14  12],[13  13  11],[13  13  11]],[[12  12  10],[12  12  10],[12  12  10],...,[14  14  12],[14  14  12],[13  13  11]],...,[[113  24  16],[115  26  18],[116  28  18],...,[145  84  37],[162 102  50],[162 106  49]],[[114  25  17],[116  27  19],[115  26  18],...,[143  81  34],[162 100  49],[162 103  47]],[[101  28  19],[102  28  17],[106  29  19],...,[142  83  25],[161 101  39],[164 104  41]]]'"
      ]
     },
     "execution_count": 44,
     "metadata": {},
     "output_type": "execute_result"
    }
   ],
   "source": [
    "test_4 = test_3.replace('[ ', '[')\n",
    "test_4"
   ]
  },
  {
   "cell_type": "code",
   "execution_count": 50,
   "metadata": {},
   "outputs": [
    {
     "data": {
      "text/plain": [
       "'[[[12,12,10],[12,12,10],[12,12,10],...,[13,13,11],[13,13,11],[13,13,11]],[[12,12,10],[12,12,10],[12,12,10],...,[14,14,12],[13,13,11],[13,13,11]],[[12,12,10],[12,12,10],[12,12,10],...,[14,14,12],[14,14,12],[13,13,11]],...,[[113,24,16],[115,26,18],[116,28,18],...,[145,84,37],[162 102,50],[162 106,49]],[[114,25,17],[116,27,19],[115,26,18],...,[143,81,34],[162 100,49],[162 103,47]],[[101,28,19],[102,28,17],[106,29,19],...,[142,83,25],[161 101,39],[164 104,41]]]'"
      ]
     },
     "execution_count": 50,
     "metadata": {},
     "output_type": "execute_result"
    }
   ],
   "source": [
    "test_5 = test_4.replace('  ', ',')\n",
    "test_5"
   ]
  },
  {
   "cell_type": "code",
   "execution_count": 52,
   "metadata": {},
   "outputs": [
    {
     "data": {
      "text/plain": [
       "'[[[12,12,10],[12,12,10],[12,12,10],...,[13,13,11],[13,13,11],[13,13,11]],[[12,12,10],[12,12,10],[12,12,10],...,[14,14,12],[13,13,11],[13,13,11]],[[12,12,10],[12,12,10],[12,12,10],...,[14,14,12],[14,14,12],[13,13,11]],...,[[113,24,16],[115,26,18],[116,28,18],...,[145,84,37],[162,102,50],[162,106,49]],[[114,25,17],[116,27,19],[115,26,18],...,[143,81,34],[162,100,49],[162,103,47]],[[101,28,19],[102,28,17],[106,29,19],...,[142,83,25],[161,101,39],[164,104,41]]]'"
      ]
     },
     "execution_count": 52,
     "metadata": {},
     "output_type": "execute_result"
    }
   ],
   "source": [
    "test_6 = test_5.replace(' ', ',')\n",
    "test_6"
   ]
  },
  {
   "cell_type": "code",
   "execution_count": 54,
   "metadata": {
    "scrolled": false
   },
   "outputs": [
    {
     "name": "stdout",
     "output_type": "stream",
     "text": [
      "[[[12,12,10],[12,12,10],[12,12,10],...,[13,13,11],[13,13,11],[13,13,11]],[[12,12,10],[12,12,10],[12,12,10],...,[14,14,12],[13,13,11],[13,13,11]],[[12,12,10],[12,12,10],[12,12,10],...,[14,14,12],[14,14,12],[13,13,11]],...,[[113,24,16],[115,26,18],[116,28,18],...,[145,84,37],[162,102,50],[162,106,49]],[[114,25,17],[116,27,19],[115,26,18],...,[143,81,34],[162,100,49],[162,103,47]],[[101,28,19],[102,28,17],[106,29,19],...,[142,83,25],[161,101,39],[164,104,41]]]\n"
     ]
    }
   ],
   "source": [
    "test_6"
   ]
  },
  {
   "cell_type": "code",
   "execution_count": 56,
   "metadata": {},
   "outputs": [
    {
     "data": {
      "text/plain": [
       "629"
      ]
     },
     "execution_count": 56,
     "metadata": {},
     "output_type": "execute_result"
    }
   ],
   "source": [
    "len(test_1)"
   ]
  },
  {
   "cell_type": "code",
   "execution_count": 55,
   "metadata": {},
   "outputs": [],
   "source": [
    "with open(\"Output.txt\", \"w\") as text_file:\n",
    "    text_file.write(\"Purchase Amount: {0}\".format(test_6))"
   ]
  },
  {
   "cell_type": "code",
   "execution_count": null,
   "metadata": {},
   "outputs": [],
   "source": [
    "76800"
   ]
  }
 ],
 "metadata": {
  "kernelspec": {
   "display_name": "Python 3",
   "language": "python",
   "name": "python3"
  },
  "language_info": {
   "codemirror_mode": {
    "name": "ipython",
    "version": 3
   },
   "file_extension": ".py",
   "mimetype": "text/x-python",
   "name": "python",
   "nbconvert_exporter": "python",
   "pygments_lexer": "ipython3",
   "version": "3.7.2"
  }
 },
 "nbformat": 4,
 "nbformat_minor": 2
}
