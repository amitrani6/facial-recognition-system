{
 "cells": [
  {
   "cell_type": "code",
   "execution_count": 1,
   "metadata": {},
   "outputs": [],
   "source": [
    "import pandas as pd\n",
    "import numpy as np\n",
    "import scipy.io\n",
    "import datetime\n",
    "from datetime import tzinfo, timedelta, datetime\n",
    "\n",
    "import warnings\n",
    "warnings.filterwarnings('ignore')\n",
    "\n",
    "import os.path\n",
    "from os import path"
   ]
  },
  {
   "cell_type": "code",
   "execution_count": 2,
   "metadata": {},
   "outputs": [],
   "source": [
    "mat = scipy.io.loadmat('image_data/imdb_data/imdb.mat')"
   ]
  },
  {
   "cell_type": "code",
   "execution_count": 3,
   "metadata": {},
   "outputs": [
    {
     "data": {
      "text/plain": [
       "dict_keys(['__header__', '__version__', '__globals__', 'imdb'])"
      ]
     },
     "execution_count": 3,
     "metadata": {},
     "output_type": "execute_result"
    }
   ],
   "source": [
    "mat.keys()"
   ]
  },
  {
   "cell_type": "code",
   "execution_count": 4,
   "metadata": {},
   "outputs": [],
   "source": [
    "mat_data = mat['imdb']"
   ]
  },
  {
   "cell_type": "code",
   "execution_count": 5,
   "metadata": {},
   "outputs": [],
   "source": [
    "mtype = mat_data.dtype"
   ]
  },
  {
   "cell_type": "code",
   "execution_count": 6,
   "metadata": {},
   "outputs": [
    {
     "data": {
      "text/plain": [
       "('dob',\n",
       " 'photo_taken',\n",
       " 'full_path',\n",
       " 'gender',\n",
       " 'name',\n",
       " 'face_location',\n",
       " 'face_score',\n",
       " 'second_face_score',\n",
       " 'celeb_names',\n",
       " 'celeb_id')"
      ]
     },
     "execution_count": 6,
     "metadata": {},
     "output_type": "execute_result"
    }
   ],
   "source": [
    "mtype.names"
   ]
  },
  {
   "cell_type": "code",
   "execution_count": 7,
   "metadata": {
    "scrolled": true
   },
   "outputs": [
    {
     "data": {
      "text/plain": [
       "10"
      ]
     },
     "execution_count": 7,
     "metadata": {},
     "output_type": "execute_result"
    }
   ],
   "source": [
    "len(mat_data[0][0])"
   ]
  },
  {
   "cell_type": "code",
   "execution_count": 8,
   "metadata": {},
   "outputs": [],
   "source": [
    "column_titles = list(mtype.names)"
   ]
  },
  {
   "cell_type": "code",
   "execution_count": 9,
   "metadata": {},
   "outputs": [],
   "source": [
    "image_info = {}\n",
    "\n",
    "for i in range(0, len(column_titles)):\n",
    "    image_info[column_titles[i]] = mat_data[0][0][i]"
   ]
  },
  {
   "cell_type": "code",
   "execution_count": 10,
   "metadata": {},
   "outputs": [
    {
     "data": {
      "text/plain": [
       "array([693726, 693726, 693726, ..., 726831, 726831, 726831], dtype=int32)"
      ]
     },
     "execution_count": 10,
     "metadata": {},
     "output_type": "execute_result"
    }
   ],
   "source": [
    "image_info['dob'][0]"
   ]
  },
  {
   "cell_type": "code",
   "execution_count": 11,
   "metadata": {},
   "outputs": [],
   "source": [
    "birth_date = image_info['dob'][0]\n",
    "year_taken = image_info['photo_taken'][0]\n",
    "file_path = ['image_data/imdb_data/' + item for sublist in image_info['full_path'][0] for item in sublist]\n",
    "gender = image_info['gender'][0]\n",
    "name = [item for sublist in image_info['name'][0] for item in sublist]\n",
    "face_location = [item for sublist in image_info['face_location'][0] for item in sublist]\n",
    "face_score = image_info['face_score'][0]\n",
    "second_face_score = image_info['second_face_score'][0]\n",
    "columns = column_titles\n",
    "\n",
    "image_data_dictionary = {columns[4]: name, columns[0]: birth_date, columns[3]: gender, columns[1]: year_taken, 'file_path': file_path, columns[5]: face_location, columns[6]: face_score, columns[7]: second_face_score}\n"
   ]
  },
  {
   "cell_type": "code",
   "execution_count": 12,
   "metadata": {},
   "outputs": [],
   "source": [
    "photo_info = pd.DataFrame(image_data_dictionary)"
   ]
  },
  {
   "cell_type": "code",
   "execution_count": 13,
   "metadata": {
    "scrolled": true
   },
   "outputs": [
    {
     "data": {
      "text/html": [
       "<div>\n",
       "<style scoped>\n",
       "    .dataframe tbody tr th:only-of-type {\n",
       "        vertical-align: middle;\n",
       "    }\n",
       "\n",
       "    .dataframe tbody tr th {\n",
       "        vertical-align: top;\n",
       "    }\n",
       "\n",
       "    .dataframe thead th {\n",
       "        text-align: right;\n",
       "    }\n",
       "</style>\n",
       "<table border=\"1\" class=\"dataframe\">\n",
       "  <thead>\n",
       "    <tr style=\"text-align: right;\">\n",
       "      <th></th>\n",
       "      <th>name</th>\n",
       "      <th>dob</th>\n",
       "      <th>gender</th>\n",
       "      <th>photo_taken</th>\n",
       "      <th>file_path</th>\n",
       "      <th>face_location</th>\n",
       "      <th>face_score</th>\n",
       "      <th>second_face_score</th>\n",
       "    </tr>\n",
       "  </thead>\n",
       "  <tbody>\n",
       "    <tr>\n",
       "      <th>0</th>\n",
       "      <td>Fred Astaire</td>\n",
       "      <td>693726</td>\n",
       "      <td>1.0</td>\n",
       "      <td>1968</td>\n",
       "      <td>image_data/imdb_data/01/nm0000001_rm124825600_...</td>\n",
       "      <td>[1072.926, 161.838, 1214.7839999999999, 303.69...</td>\n",
       "      <td>1.459693</td>\n",
       "      <td>1.118973</td>\n",
       "    </tr>\n",
       "    <tr>\n",
       "      <th>1</th>\n",
       "      <td>Fred Astaire</td>\n",
       "      <td>693726</td>\n",
       "      <td>1.0</td>\n",
       "      <td>1970</td>\n",
       "      <td>image_data/imdb_data/01/nm0000001_rm3343756032...</td>\n",
       "      <td>[477.184, 100.352, 622.592, 245.76]</td>\n",
       "      <td>2.543198</td>\n",
       "      <td>1.852008</td>\n",
       "    </tr>\n",
       "    <tr>\n",
       "      <th>2</th>\n",
       "      <td>Fred Astaire</td>\n",
       "      <td>693726</td>\n",
       "      <td>1.0</td>\n",
       "      <td>1968</td>\n",
       "      <td>image_data/imdb_data/01/nm0000001_rm577153792_...</td>\n",
       "      <td>[114.96964308962852, 114.96964308962852, 451.6...</td>\n",
       "      <td>3.455579</td>\n",
       "      <td>2.985660</td>\n",
       "    </tr>\n",
       "    <tr>\n",
       "      <th>3</th>\n",
       "      <td>Fred Astaire</td>\n",
       "      <td>693726</td>\n",
       "      <td>1.0</td>\n",
       "      <td>1968</td>\n",
       "      <td>image_data/imdb_data/01/nm0000001_rm946909184_...</td>\n",
       "      <td>[622.8855056426588, 424.21750383700805, 844.33...</td>\n",
       "      <td>1.872117</td>\n",
       "      <td>NaN</td>\n",
       "    </tr>\n",
       "    <tr>\n",
       "      <th>4</th>\n",
       "      <td>Fred Astaire</td>\n",
       "      <td>693726</td>\n",
       "      <td>1.0</td>\n",
       "      <td>1968</td>\n",
       "      <td>image_data/imdb_data/01/nm0000001_rm980463616_...</td>\n",
       "      <td>[1013.8590023603723, 233.8820422075853, 1201.5...</td>\n",
       "      <td>1.158766</td>\n",
       "      <td>NaN</td>\n",
       "    </tr>\n",
       "  </tbody>\n",
       "</table>\n",
       "</div>"
      ],
      "text/plain": [
       "           name     dob  gender  photo_taken  \\\n",
       "0  Fred Astaire  693726     1.0         1968   \n",
       "1  Fred Astaire  693726     1.0         1970   \n",
       "2  Fred Astaire  693726     1.0         1968   \n",
       "3  Fred Astaire  693726     1.0         1968   \n",
       "4  Fred Astaire  693726     1.0         1968   \n",
       "\n",
       "                                           file_path  \\\n",
       "0  image_data/imdb_data/01/nm0000001_rm124825600_...   \n",
       "1  image_data/imdb_data/01/nm0000001_rm3343756032...   \n",
       "2  image_data/imdb_data/01/nm0000001_rm577153792_...   \n",
       "3  image_data/imdb_data/01/nm0000001_rm946909184_...   \n",
       "4  image_data/imdb_data/01/nm0000001_rm980463616_...   \n",
       "\n",
       "                                       face_location  face_score  \\\n",
       "0  [1072.926, 161.838, 1214.7839999999999, 303.69...    1.459693   \n",
       "1                [477.184, 100.352, 622.592, 245.76]    2.543198   \n",
       "2  [114.96964308962852, 114.96964308962852, 451.6...    3.455579   \n",
       "3  [622.8855056426588, 424.21750383700805, 844.33...    1.872117   \n",
       "4  [1013.8590023603723, 233.8820422075853, 1201.5...    1.158766   \n",
       "\n",
       "   second_face_score  \n",
       "0           1.118973  \n",
       "1           1.852008  \n",
       "2           2.985660  \n",
       "3                NaN  \n",
       "4                NaN  "
      ]
     },
     "execution_count": 13,
     "metadata": {},
     "output_type": "execute_result"
    }
   ],
   "source": [
    "photo_info.head()"
   ]
  },
  {
   "cell_type": "code",
   "execution_count": 14,
   "metadata": {},
   "outputs": [],
   "source": [
    "photo_info.to_csv('Photo_Dataframes/imdb_photo_metadata.csv', index = False)"
   ]
  }
 ],
 "metadata": {
  "kernelspec": {
   "display_name": "Python 3",
   "language": "python",
   "name": "python3"
  },
  "language_info": {
   "codemirror_mode": {
    "name": "ipython",
    "version": 3
   },
   "file_extension": ".py",
   "mimetype": "text/x-python",
   "name": "python",
   "nbconvert_exporter": "python",
   "pygments_lexer": "ipython3",
   "version": "3.7.2"
  }
 },
 "nbformat": 4,
 "nbformat_minor": 2
}
