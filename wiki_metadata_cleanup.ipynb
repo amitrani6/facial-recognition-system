{
 "cells": [
  {
   "cell_type": "markdown",
   "metadata": {},
   "source": [
    "# Wikipedia Metadata Cleanup Notebook\n",
    "\n",
    "This notebook contains the cleanup of the Wikipedia metadata file obtained from ETH Zürich's Computer Vision Lab. This metadata corresponds to 62,328 images of cropped faces. The metadata was collected in 2015 by Rasmus Rothe, Radu Timofte, and Luc Van Gool for their papers on age detection ([Deep expectation of real and apparent age from a single image without facial landmarks](https://data.vision.ee.ethz.ch/cvl/rrothe/imdb-wiki/))."
   ]
  },
  {
   "cell_type": "code",
   "execution_count": 1,
   "metadata": {},
   "outputs": [],
   "source": [
    "#Import the necessary libraries here\n",
    "\n",
    "import pandas as pd\n",
    "import numpy as np\n",
    "import scipy.io\n",
    "import datetime\n",
    "from datetime import tzinfo, timedelta, datetime\n",
    "\n",
    "import warnings\n",
    "warnings.filterwarnings('ignore')"
   ]
  },
  {
   "cell_type": "code",
   "execution_count": 2,
   "metadata": {},
   "outputs": [],
   "source": [
    "#The .mat file is located in the same folder as the image subfolders\n",
    "\n",
    "mat = scipy.io.loadmat('image_data/wiki_data/wiki.mat')"
   ]
  },
  {
   "cell_type": "code",
   "execution_count": 3,
   "metadata": {},
   "outputs": [
    {
     "data": {
      "text/plain": [
       "dict_keys(['__header__', '__version__', '__globals__', 'wiki'])"
      ]
     },
     "execution_count": 3,
     "metadata": {},
     "output_type": "execute_result"
    }
   ],
   "source": [
    "#The data is stored as dictionaries, the key 'wiki' contains the image metadata\n",
    "\n",
    "mat.keys()"
   ]
  },
  {
   "cell_type": "code",
   "execution_count": 4,
   "metadata": {},
   "outputs": [],
   "source": [
    "mat_data = mat['wiki']"
   ]
  },
  {
   "cell_type": "code",
   "execution_count": 5,
   "metadata": {},
   "outputs": [],
   "source": [
    "mtype = mat_data.dtype"
   ]
  },
  {
   "cell_type": "code",
   "execution_count": 6,
   "metadata": {},
   "outputs": [
    {
     "data": {
      "text/plain": [
       "('dob',\n",
       " 'photo_taken',\n",
       " 'full_path',\n",
       " 'gender',\n",
       " 'name',\n",
       " 'face_location',\n",
       " 'face_score',\n",
       " 'second_face_score')"
      ]
     },
     "execution_count": 6,
     "metadata": {},
     "output_type": "execute_result"
    }
   ],
   "source": [
    "#There are eight series within the wiki metadata key, all of which correspond to the\n",
    "#keys from the imdb file\n",
    "\n",
    "mtype.names"
   ]
  },
  {
   "cell_type": "code",
   "execution_count": 7,
   "metadata": {
    "scrolled": true
   },
   "outputs": [
    {
     "data": {
      "text/plain": [
       "8"
      ]
     },
     "execution_count": 7,
     "metadata": {},
     "output_type": "execute_result"
    }
   ],
   "source": [
    "len(mat_data[0][0])"
   ]
  },
  {
   "cell_type": "code",
   "execution_count": 8,
   "metadata": {},
   "outputs": [],
   "source": [
    "column_titles = list(mtype.names)"
   ]
  },
  {
   "cell_type": "code",
   "execution_count": 9,
   "metadata": {},
   "outputs": [],
   "source": [
    "#I turn the wiki series into a dictionary, the keys are the column titles and the pairs\n",
    "#are the series of information that correspond to the 62,328 images\n",
    "\n",
    "image_info = {}\n",
    "\n",
    "for i in range(0, len(column_titles)):\n",
    "    image_info[column_titles[i]] = mat_data[0][0][i]"
   ]
  },
  {
   "cell_type": "code",
   "execution_count": 10,
   "metadata": {},
   "outputs": [
    {
     "data": {
      "text/plain": [
       "array([723671, 703186, 711677, ..., 720620, 723893, 713846], dtype=int32)"
      ]
     },
     "execution_count": 10,
     "metadata": {},
     "output_type": "execute_result"
    }
   ],
   "source": [
    "image_info['dob'][0]"
   ]
  },
  {
   "cell_type": "code",
   "execution_count": 11,
   "metadata": {},
   "outputs": [
    {
     "data": {
      "text/plain": [
       "62204"
      ]
     },
     "execution_count": 11,
     "metadata": {},
     "output_type": "execute_result"
    }
   ],
   "source": [
    "#On its own the following code creates a list of names with the length of 62,204 while all\n",
    "#other lists have the size 62,328. This is because of blank values in the 'names' column.\n",
    "\n",
    "#After checking the length of the array itself with the code \"len(image_info['name'][0])\",\n",
    "#I separated the creation of the name key-value list with the for loop in the code below to\n",
    "#obtain the correct length of 62328, with those blank values included to ensure the data\n",
    "#corresponds to the correct person.\n",
    "\n",
    "len([item[0] for sublist in image_info['name'][0] for item in sublist])"
   ]
  },
  {
   "cell_type": "code",
   "execution_count": 12,
   "metadata": {},
   "outputs": [
    {
     "name": "stdout",
     "output_type": "stream",
     "text": [
      "The number of elements that are type 'ndarray' is: 62328\n",
      "The number of elements that are another type is: 0\n",
      "\n",
      "\n",
      "The number of inner arrays are: 62204\n",
      "The number that aren't inner arrays are 124\n"
     ]
    }
   ],
   "source": [
    "name_items = []\n",
    "count_np = 0\n",
    "count_else = 0\n",
    "\n",
    "count_inner_array = 0\n",
    "count_not_inner_array = 0\n",
    "\n",
    "for i in image_info['name'][0]:\n",
    "    if type(i) == np.ndarray:\n",
    "        count_np += 1\n",
    "        \n",
    "        try:\n",
    "            name_items.append(i[0])\n",
    "            count_inner_array += 1\n",
    "        except:\n",
    "                \n",
    "            name_items.append(i)\n",
    "            count_not_inner_array += 1\n",
    "    else:\n",
    "        print(type(i))\n",
    "        count_else +=1\n",
    "\n",
    "print(\"The number of elements that are type 'ndarray' is: {}\".format(count_np))\n",
    "print(\"The number of elements that are another type is: {}\\n\\n\".format(count_else))\n",
    "\n",
    "print(\"The number of inner arrays are: {}\".format(count_inner_array))\n",
    "print(\"The number that aren't inner arrays are {}\".format(count_not_inner_array))"
   ]
  },
  {
   "cell_type": "code",
   "execution_count": 13,
   "metadata": {},
   "outputs": [],
   "source": [
    "#Some of the data is stored in formats that need to be adjusted; including: lists that need\n",
    "#to be flattened and file paths that need to be adjusted. I make those changes here\n",
    "\n",
    "birth_date = image_info['dob'][0]\n",
    "year_taken = image_info['photo_taken'][0]\n",
    "file_path = ['image_data/wiki_data/' + item for sublist in image_info['full_path'][0] for item in sublist]\n",
    "gender = image_info['gender'][0]\n",
    "name = name_items\n",
    "face_location = [item for sublist in image_info['face_location'][0] for item in sublist]\n",
    "face_score = image_info['face_score'][0]\n",
    "second_face_score = image_info['second_face_score'][0]\n",
    "columns = column_titles\n",
    "\n",
    "image_data_dictionary = {columns[4]: name, columns[0]: birth_date, columns[3]: gender, columns[1]: year_taken, 'file_path': file_path, columns[5]: face_location, columns[6]: face_score, columns[7]: second_face_score}\n"
   ]
  },
  {
   "cell_type": "code",
   "execution_count": 14,
   "metadata": {
    "scrolled": true
   },
   "outputs": [
    {
     "name": "stdout",
     "output_type": "stream",
     "text": [
      "Tove Styrke\n",
      "<class 'numpy.str_'>\n",
      "[]\n",
      "<class 'numpy.ndarray'>\n"
     ]
    }
   ],
   "source": [
    "#A check to view the data types in the names column. An entry with a name is\n",
    "#data type: numpy.str_\n",
    "#A blank entry indicated by a pair of brackets is data type: numpy.ndarray\n",
    "\n",
    "print(image_data_dictionary['name'][416])\n",
    "print(type(image_data_dictionary['name'][416]))\n",
    "\n",
    "print(image_data_dictionary['name'][418])\n",
    "print(type(image_data_dictionary['name'][418]))"
   ]
  },
  {
   "cell_type": "code",
   "execution_count": 15,
   "metadata": {
    "scrolled": false
   },
   "outputs": [
    {
     "data": {
      "text/html": [
       "<div>\n",
       "<style scoped>\n",
       "    .dataframe tbody tr th:only-of-type {\n",
       "        vertical-align: middle;\n",
       "    }\n",
       "\n",
       "    .dataframe tbody tr th {\n",
       "        vertical-align: top;\n",
       "    }\n",
       "\n",
       "    .dataframe thead th {\n",
       "        text-align: right;\n",
       "    }\n",
       "</style>\n",
       "<table border=\"1\" class=\"dataframe\">\n",
       "  <thead>\n",
       "    <tr style=\"text-align: right;\">\n",
       "      <th></th>\n",
       "      <th>name</th>\n",
       "      <th>dob</th>\n",
       "      <th>gender</th>\n",
       "      <th>photo_taken</th>\n",
       "      <th>file_path</th>\n",
       "      <th>face_location</th>\n",
       "      <th>face_score</th>\n",
       "      <th>second_face_score</th>\n",
       "    </tr>\n",
       "  </thead>\n",
       "  <tbody>\n",
       "    <tr>\n",
       "      <th>0</th>\n",
       "      <td>Sami Jauhojärvi</td>\n",
       "      <td>723671</td>\n",
       "      <td>1.0</td>\n",
       "      <td>2009</td>\n",
       "      <td>image_data/wiki_data/17/10000217_1981-05-05_20...</td>\n",
       "      <td>[111.29109473290997, 111.29109473290997, 252.6...</td>\n",
       "      <td>4.300962</td>\n",
       "      <td>NaN</td>\n",
       "    </tr>\n",
       "    <tr>\n",
       "      <th>1</th>\n",
       "      <td>Dettmar Cramer</td>\n",
       "      <td>703186</td>\n",
       "      <td>1.0</td>\n",
       "      <td>1964</td>\n",
       "      <td>image_data/wiki_data/48/10000548_1925-04-04_19...</td>\n",
       "      <td>[252.48330229530742, 126.68165114765371, 354.5...</td>\n",
       "      <td>2.645639</td>\n",
       "      <td>1.949248</td>\n",
       "    </tr>\n",
       "    <tr>\n",
       "      <th>2</th>\n",
       "      <td>Marc Okrand</td>\n",
       "      <td>711677</td>\n",
       "      <td>1.0</td>\n",
       "      <td>2008</td>\n",
       "      <td>image_data/wiki_data/12/100012_1948-07-03_2008...</td>\n",
       "      <td>[113.52, 169.83999999999997, 366.08, 422.4]</td>\n",
       "      <td>4.329329</td>\n",
       "      <td>NaN</td>\n",
       "    </tr>\n",
       "    <tr>\n",
       "      <th>3</th>\n",
       "      <td>Aleksandar Matanović</td>\n",
       "      <td>705061</td>\n",
       "      <td>1.0</td>\n",
       "      <td>1961</td>\n",
       "      <td>image_data/wiki_data/65/10001965_1930-05-23_19...</td>\n",
       "      <td>[1, 1, 634, 440]</td>\n",
       "      <td>-inf</td>\n",
       "      <td>NaN</td>\n",
       "    </tr>\n",
       "    <tr>\n",
       "      <th>4</th>\n",
       "      <td>Diana Damrau</td>\n",
       "      <td>720044</td>\n",
       "      <td>0.0</td>\n",
       "      <td>2012</td>\n",
       "      <td>image_data/wiki_data/16/10002116_1971-05-31_20...</td>\n",
       "      <td>[171.61031405173117, 75.57451239763239, 266.76...</td>\n",
       "      <td>3.408442</td>\n",
       "      <td>NaN</td>\n",
       "    </tr>\n",
       "  </tbody>\n",
       "</table>\n",
       "</div>"
      ],
      "text/plain": [
       "                   name     dob  gender  photo_taken  \\\n",
       "0       Sami Jauhojärvi  723671     1.0         2009   \n",
       "1        Dettmar Cramer  703186     1.0         1964   \n",
       "2           Marc Okrand  711677     1.0         2008   \n",
       "3  Aleksandar Matanović  705061     1.0         1961   \n",
       "4          Diana Damrau  720044     0.0         2012   \n",
       "\n",
       "                                           file_path  \\\n",
       "0  image_data/wiki_data/17/10000217_1981-05-05_20...   \n",
       "1  image_data/wiki_data/48/10000548_1925-04-04_19...   \n",
       "2  image_data/wiki_data/12/100012_1948-07-03_2008...   \n",
       "3  image_data/wiki_data/65/10001965_1930-05-23_19...   \n",
       "4  image_data/wiki_data/16/10002116_1971-05-31_20...   \n",
       "\n",
       "                                       face_location  face_score  \\\n",
       "0  [111.29109473290997, 111.29109473290997, 252.6...    4.300962   \n",
       "1  [252.48330229530742, 126.68165114765371, 354.5...    2.645639   \n",
       "2        [113.52, 169.83999999999997, 366.08, 422.4]    4.329329   \n",
       "3                                   [1, 1, 634, 440]        -inf   \n",
       "4  [171.61031405173117, 75.57451239763239, 266.76...    3.408442   \n",
       "\n",
       "   second_face_score  \n",
       "0                NaN  \n",
       "1           1.949248  \n",
       "2                NaN  \n",
       "3                NaN  \n",
       "4                NaN  "
      ]
     },
     "execution_count": 15,
     "metadata": {},
     "output_type": "execute_result"
    }
   ],
   "source": [
    "#Convert the dictionary to a dataframe\n",
    "\n",
    "photo_info = pd.DataFrame(image_data_dictionary)\n",
    "photo_info.head()"
   ]
  },
  {
   "cell_type": "code",
   "execution_count": 16,
   "metadata": {},
   "outputs": [
    {
     "name": "stdout",
     "output_type": "stream",
     "text": [
      "<class 'pandas.core.frame.DataFrame'>\n",
      "RangeIndex: 62328 entries, 0 to 62327\n",
      "Data columns (total 8 columns):\n",
      "name                 62328 non-null object\n",
      "dob                  62328 non-null int32\n",
      "gender               59685 non-null float64\n",
      "photo_taken          62328 non-null uint16\n",
      "file_path            62328 non-null object\n",
      "face_location        62328 non-null object\n",
      "face_score           62328 non-null float64\n",
      "second_face_score    4096 non-null float64\n",
      "dtypes: float64(3), int32(1), object(3), uint16(1)\n",
      "memory usage: 3.2+ MB\n"
     ]
    }
   ],
   "source": [
    "photo_info.info()"
   ]
  },
  {
   "cell_type": "code",
   "execution_count": 17,
   "metadata": {},
   "outputs": [],
   "source": [
    "#I eliminate all 124 entries with empty brackets in the 'name' column\n",
    "\n",
    "photo_info = photo_info[photo_info['name'].apply(lambda x: type(x)!=np.ndarray)].reset_index(drop=True)"
   ]
  },
  {
   "cell_type": "code",
   "execution_count": 18,
   "metadata": {},
   "outputs": [
    {
     "name": "stdout",
     "output_type": "stream",
     "text": [
      "<class 'pandas.core.frame.DataFrame'>\n",
      "RangeIndex: 62204 entries, 0 to 62203\n",
      "Data columns (total 8 columns):\n",
      "name                 62204 non-null object\n",
      "dob                  62204 non-null int32\n",
      "gender               59685 non-null float64\n",
      "photo_taken          62204 non-null uint16\n",
      "file_path            62204 non-null object\n",
      "face_location        62204 non-null object\n",
      "face_score           62204 non-null float64\n",
      "second_face_score    4088 non-null float64\n",
      "dtypes: float64(3), int32(1), object(3), uint16(1)\n",
      "memory usage: 3.2+ MB\n"
     ]
    }
   ],
   "source": [
    "photo_info.info()"
   ]
  },
  {
   "cell_type": "code",
   "execution_count": 19,
   "metadata": {},
   "outputs": [],
   "source": [
    "#Save the dataframe as a .csv file\n",
    "\n",
    "photo_info.to_csv('Photo_Dataframes/wiki_photo_metadata.csv', index = False)"
   ]
  }
 ],
 "metadata": {
  "kernelspec": {
   "display_name": "Python 3",
   "language": "python",
   "name": "python3"
  },
  "language_info": {
   "codemirror_mode": {
    "name": "ipython",
    "version": 3
   },
   "file_extension": ".py",
   "mimetype": "text/x-python",
   "name": "python",
   "nbconvert_exporter": "python",
   "pygments_lexer": "ipython3",
   "version": "3.7.2"
  }
 },
 "nbformat": 4,
 "nbformat_minor": 2
}
