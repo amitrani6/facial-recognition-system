{
 "cells": [
  {
   "cell_type": "markdown",
   "metadata": {},
   "source": [
    "# Obtain Embeddings From The FaceNet Model\n",
    "\n",
    "In this notebook I load the FaceNet model to obtain embeddings from the images of cropped faces. I will use these embeddings to compare user faces to my data frame in my facial similarity system.\n",
    "\n",
    "I will be using Hiroki Taniai's Keras implementation of David Sandberg's open source FaceNet TensorFlow model. The link to the GitHub can be found [here](https://github.com/nyoki-mtl/keras-facenet).\n",
    "\n"
   ]
  },
  {
   "cell_type": "code",
   "execution_count": 25,
   "metadata": {},
   "outputs": [],
   "source": [
    "#Import the necessary libraries here\n",
    "\n",
    "import pandas as pd\n",
    "import numpy as np\n",
    "from numpy import asarray\n",
    "\n",
    "from PIL import Image\n",
    "\n",
    "from tqdm import tqdm\n",
    "from tqdm import tqdm_notebook\n",
    "\n",
    "import ast\n",
    "\n",
    "import warnings\n",
    "warnings.filterwarnings('ignore')\n",
    "\n",
    "from tensorflow.keras.models import load_model\n",
    "\n",
    "from os import path"
   ]
  },
  {
   "cell_type": "code",
   "execution_count": 2,
   "metadata": {},
   "outputs": [
    {
     "name": "stdout",
     "output_type": "stream",
     "text": [
      "WARNING:tensorflow:From /anaconda3/lib/python3.7/site-packages/tensorflow/python/ops/resource_variable_ops.py:435: colocate_with (from tensorflow.python.framework.ops) is deprecated and will be removed in a future version.\n",
      "Instructions for updating:\n",
      "Colocations handled automatically by placer.\n",
      "WARNING:tensorflow:From /anaconda3/lib/python3.7/site-packages/tensorflow/python/keras/layers/core.py:143: calling dropout (from tensorflow.python.ops.nn_ops) with keep_prob is deprecated and will be removed in a future version.\n",
      "Instructions for updating:\n",
      "Please use `rate` instead of `keep_prob`. Rate should be set to `rate = 1 - keep_prob`.\n",
      "WARNING:tensorflow:No training configuration found in save file: the model was *not* compiled. Compile it manually.\n",
      "[<tf.Tensor 'input_1:0' shape=(?, 160, 160, 3) dtype=float32>]\n",
      "[<tf.Tensor 'Bottleneck_BatchNorm/batchnorm/add_1:0' shape=(?, 128) dtype=float32>]\n"
     ]
    }
   ],
   "source": [
    "#Load the FaceNet model and pretrained weights\n",
    "facenet_model = load_model('FaceNet_Model/facenet_keras.h5')\n",
    "facenet_model.load_weights('FaceNet_Model/facenet_keras_weights.h5')\n",
    "\n",
    "print(facenet_model.inputs)\n",
    "print(facenet_model.outputs)\n",
    "\n",
    "#The model requires an input image to be reshaped to the size (160*160*3), where the 3\n",
    "#represents RGB format. If the image is black and white it must be converted.\n",
    "\n",
    "#The model will output a 128 vector facial embedding that represents the most important\n",
    "#features of the face. I will use these embeddings to compare each face in my program"
   ]
  },
  {
   "cell_type": "code",
   "execution_count": 10,
   "metadata": {},
   "outputs": [],
   "source": [
    "#Load the converted metadata files for the IMDB and Wikipedia images\n",
    "photo_df = pd.read_csv('Photo_Dataframes/All_Photo_Data.csv')"
   ]
  },
  {
   "cell_type": "code",
   "execution_count": 11,
   "metadata": {
    "scrolled": false
   },
   "outputs": [
    {
     "data": {
      "text/html": [
       "<div>\n",
       "<style scoped>\n",
       "    .dataframe tbody tr th:only-of-type {\n",
       "        vertical-align: middle;\n",
       "    }\n",
       "\n",
       "    .dataframe tbody tr th {\n",
       "        vertical-align: top;\n",
       "    }\n",
       "\n",
       "    .dataframe thead th {\n",
       "        text-align: right;\n",
       "    }\n",
       "</style>\n",
       "<table border=\"1\" class=\"dataframe\">\n",
       "  <thead>\n",
       "    <tr style=\"text-align: right;\">\n",
       "      <th></th>\n",
       "      <th>name</th>\n",
       "      <th>dob</th>\n",
       "      <th>gender</th>\n",
       "      <th>photo_taken</th>\n",
       "      <th>age_when_taken</th>\n",
       "      <th>file_path</th>\n",
       "      <th>face_location</th>\n",
       "      <th>face_score</th>\n",
       "    </tr>\n",
       "  </thead>\n",
       "  <tbody>\n",
       "    <tr>\n",
       "      <th>0</th>\n",
       "      <td>Fred Astaire</td>\n",
       "      <td>1899-05-10</td>\n",
       "      <td>1.0</td>\n",
       "      <td>1968</td>\n",
       "      <td>69</td>\n",
       "      <td>image_data/imdb_data/01/nm0000001_rm946909184_...</td>\n",
       "      <td>[622.88550564 424.21750384 844.33900767 645.67...</td>\n",
       "      <td>1.872117</td>\n",
       "    </tr>\n",
       "    <tr>\n",
       "      <th>1</th>\n",
       "      <td>Fred Astaire</td>\n",
       "      <td>1899-05-10</td>\n",
       "      <td>1.0</td>\n",
       "      <td>1968</td>\n",
       "      <td>69</td>\n",
       "      <td>image_data/imdb_data/01/nm0000001_rm980463616_...</td>\n",
       "      <td>[1013.85900236  233.88204221 1201.5861278   42...</td>\n",
       "      <td>1.158766</td>\n",
       "    </tr>\n",
       "    <tr>\n",
       "      <th>2</th>\n",
       "      <td>Lauren Bacall</td>\n",
       "      <td>1924-09-16</td>\n",
       "      <td>0.0</td>\n",
       "      <td>2004</td>\n",
       "      <td>80</td>\n",
       "      <td>image_data/imdb_data/02/nm0000002_rm1346607872...</td>\n",
       "      <td>[ 78.23569407  52.33512938 194.25423516 168.35...</td>\n",
       "      <td>3.479189</td>\n",
       "    </tr>\n",
       "    <tr>\n",
       "      <th>3</th>\n",
       "      <td>Lauren Bacall</td>\n",
       "      <td>1924-09-16</td>\n",
       "      <td>0.0</td>\n",
       "      <td>2004</td>\n",
       "      <td>80</td>\n",
       "      <td>image_data/imdb_data/02/nm0000002_rm1363385088...</td>\n",
       "      <td>[ 64.30867104  64.30867104 207.26768087 207.26...</td>\n",
       "      <td>3.870171</td>\n",
       "    </tr>\n",
       "    <tr>\n",
       "      <th>4</th>\n",
       "      <td>Lauren Bacall</td>\n",
       "      <td>1924-09-16</td>\n",
       "      <td>0.0</td>\n",
       "      <td>1974</td>\n",
       "      <td>50</td>\n",
       "      <td>image_data/imdb_data/02/nm0000002_rm221957120_...</td>\n",
       "      <td>[3173.14469259  401.04083657 4059.15207489 128...</td>\n",
       "      <td>4.096431</td>\n",
       "    </tr>\n",
       "  </tbody>\n",
       "</table>\n",
       "</div>"
      ],
      "text/plain": [
       "            name         dob  gender  photo_taken  age_when_taken  \\\n",
       "0   Fred Astaire  1899-05-10     1.0         1968              69   \n",
       "1   Fred Astaire  1899-05-10     1.0         1968              69   \n",
       "2  Lauren Bacall  1924-09-16     0.0         2004              80   \n",
       "3  Lauren Bacall  1924-09-16     0.0         2004              80   \n",
       "4  Lauren Bacall  1924-09-16     0.0         1974              50   \n",
       "\n",
       "                                           file_path  \\\n",
       "0  image_data/imdb_data/01/nm0000001_rm946909184_...   \n",
       "1  image_data/imdb_data/01/nm0000001_rm980463616_...   \n",
       "2  image_data/imdb_data/02/nm0000002_rm1346607872...   \n",
       "3  image_data/imdb_data/02/nm0000002_rm1363385088...   \n",
       "4  image_data/imdb_data/02/nm0000002_rm221957120_...   \n",
       "\n",
       "                                       face_location  face_score  \n",
       "0  [622.88550564 424.21750384 844.33900767 645.67...    1.872117  \n",
       "1  [1013.85900236  233.88204221 1201.5861278   42...    1.158766  \n",
       "2  [ 78.23569407  52.33512938 194.25423516 168.35...    3.479189  \n",
       "3  [ 64.30867104  64.30867104 207.26768087 207.26...    3.870171  \n",
       "4  [3173.14469259  401.04083657 4059.15207489 128...    4.096431  "
      ]
     },
     "execution_count": 11,
     "metadata": {},
     "output_type": "execute_result"
    }
   ],
   "source": [
    "photo_df.head()"
   ]
  },
  {
   "cell_type": "code",
   "execution_count": 12,
   "metadata": {},
   "outputs": [
    {
     "name": "stdout",
     "output_type": "stream",
     "text": [
      "<class 'pandas.core.frame.DataFrame'>\n",
      "RangeIndex: 214617 entries, 0 to 214616\n",
      "Data columns (total 8 columns):\n",
      "name              214617 non-null object\n",
      "dob               214617 non-null object\n",
      "gender            214617 non-null float64\n",
      "photo_taken       214617 non-null int64\n",
      "age_when_taken    214617 non-null int64\n",
      "file_path         214617 non-null object\n",
      "face_location     214617 non-null object\n",
      "face_score        214617 non-null float64\n",
      "dtypes: float64(2), int64(2), object(4)\n",
      "memory usage: 13.1+ MB\n"
     ]
    }
   ],
   "source": [
    "photo_df.info()"
   ]
  },
  {
   "cell_type": "markdown",
   "metadata": {},
   "source": [
    "# Obtain The Embeddings Of Each Picture\n",
    "\n",
    "In this section I open each image of cropped faces, resize and reformat them to the model's specifications and save the embeddings vector as a numpy array in the metadata data frame."
   ]
  },
  {
   "cell_type": "code",
   "execution_count": 5,
   "metadata": {},
   "outputs": [],
   "source": [
    "#This function opens the file and obtains an array representation of the picture\n",
    "#It converts the image to RGB format if the image is black and white\n",
    "\n",
    "def obtain_image_pixels(filename):\n",
    "    image = Image.open(filename)\n",
    "    image = image.convert('RGB')\n",
    "    return asarray(image)"
   ]
  },
  {
   "cell_type": "code",
   "execution_count": 6,
   "metadata": {},
   "outputs": [],
   "source": [
    "#This function resizes the picture array to the model specifications (160*160*3)\n",
    "\n",
    "def resize_picture(image_array, dimensions = (160,160)):\n",
    "    face_array_resized = Image.fromarray(image_array)\n",
    "    face_array_resized = face_array_resized.resize(dimensions)\n",
    "    return asarray(face_array_resized)"
   ]
  },
  {
   "cell_type": "code",
   "execution_count": 7,
   "metadata": {},
   "outputs": [],
   "source": [
    "#The following function is adapted from 'Deep Learning for Computer Vision' by\n",
    "#Jason Brownlee, Page (508)\n",
    "\n",
    "#This function takes in a file path and returns the face embeddings vector from the\n",
    "#image. First the image is opened and stored as a matrix. Next the image matrix is\n",
    "#resized. The numbers in the matrix are then converted into the float data type so\n",
    "#they can store decimals. The individual numbers are then standardized by removing the\n",
    "#mean of the pixel intensity and then dividing each pixel by the standard deviation\n",
    "#A fourth dimension is then added to the image tensor which is used to keep track of\n",
    "#set of samples the image belongs to (the category and set, i.e. training and testing)\n",
    "#Finally the model.predict method returns the 128 element face embedding vector that\n",
    "#corresponds to the image\n",
    "\n",
    "def get_embedding(filename):\n",
    "    #obtain the face pixels\n",
    "    cropped_face_array = obtain_image_pixels(filename)\n",
    "    resized_face = resize_picture(cropped_face_array)\n",
    "    \n",
    "    # standardize pixel values across channels\n",
    "    resized_face = resized_face.astype('float32')\n",
    "    mean, std = resized_face.mean(), resized_face.std()\n",
    "    resized_face = (resized_face - mean) / std\n",
    "    \n",
    "    \n",
    "    # transform face into one sample\n",
    "    observation = expand_dims(resized_face, axis=0)\n",
    "    # make prediction to get embedding\n",
    "    yhat = facenet_model.predict(observation)\n",
    "    return yhat[0]\n",
    "    "
   ]
  },
  {
   "cell_type": "markdown",
   "metadata": {},
   "source": [
    "# Obtain the Embeddings Array for Each Picture\n",
    "\n",
    "I create a new column in the photo_df data frame called 'embeddings_fn' that stores the FaceNet model embeddings for each cropped face. These embeddings will be used to calculate the similarity between user faces and the data set of faces. I perform this step in batches of 50,000 rows to ensure I save my data. I then take each batch and apply the get_embedding() function to each row, after each batch is complete I save the data frame."
   ]
  },
  {
   "cell_type": "code",
   "execution_count": 8,
   "metadata": {},
   "outputs": [],
   "source": [
    "photo_df_a = photo_df[0:50000]\n",
    "photo_df_b = photo_df[50000:100000]\n",
    "photo_df_c = photo_df[100000:150000]\n",
    "photo_df_d = photo_df[150000:200000]\n",
    "photo_df_e = photo_df[200000:]\n"
   ]
  },
  {
   "cell_type": "markdown",
   "metadata": {},
   "source": [
    "## Photo Dataframe With Embeddings - Part A"
   ]
  },
  {
   "cell_type": "code",
   "execution_count": 9,
   "metadata": {},
   "outputs": [
    {
     "name": "stderr",
     "output_type": "stream",
     "text": [
      "100%|██████████| 50000/50000 [1:19:12<00:00, 10.52it/s]     \n"
     ]
    }
   ],
   "source": [
    "tqdm.pandas()\n",
    "photo_df_a['embeddings_fn'] = photo_df_a.file_path.progress_apply(lambda x: get_embedding(x))"
   ]
  },
  {
   "cell_type": "code",
   "execution_count": 10,
   "metadata": {},
   "outputs": [],
   "source": [
    "photo_df_a.to_csv('Photo_Dataframes/photo_dfs_with_embeddings_fn/photo_dataframe_fn_embeddings_a.csv', index = False)"
   ]
  },
  {
   "cell_type": "markdown",
   "metadata": {},
   "source": [
    "## Photo Dataframe With Embeddings - Part B"
   ]
  },
  {
   "cell_type": "code",
   "execution_count": 20,
   "metadata": {
    "scrolled": true
   },
   "outputs": [
    {
     "name": "stderr",
     "output_type": "stream",
     "text": [
      "100%|██████████| 50000/50000 [1:07:18<00:00, 12.38it/s]\n"
     ]
    }
   ],
   "source": [
    "tqdm.pandas()\n",
    "photo_df_b['embeddings_fn'] = photo_df_b.file_path.progress_apply(lambda x: get_embedding(x))"
   ]
  },
  {
   "cell_type": "code",
   "execution_count": 21,
   "metadata": {},
   "outputs": [],
   "source": [
    "photo_df_b.to_csv('Photo_Dataframes/photo_dfs_with_embeddings_fn/photo_dataframe_fn_embeddings_b.csv', index = False)"
   ]
  },
  {
   "cell_type": "markdown",
   "metadata": {},
   "source": [
    "## Photo Dataframe With Embeddings - Part C"
   ]
  },
  {
   "cell_type": "code",
   "execution_count": 22,
   "metadata": {},
   "outputs": [
    {
     "name": "stderr",
     "output_type": "stream",
     "text": [
      "100%|██████████| 50000/50000 [1:09:04<00:00, 11.91it/s]\n"
     ]
    }
   ],
   "source": [
    "tqdm.pandas()\n",
    "photo_df_c['embeddings_fn'] = photo_df_c.file_path.progress_apply(lambda x: get_embedding(x))"
   ]
  },
  {
   "cell_type": "code",
   "execution_count": 23,
   "metadata": {},
   "outputs": [],
   "source": [
    "photo_df_c.to_csv('Photo_Dataframes/photo_dfs_with_embeddings_fn/photo_dataframe_fn_embeddings_c.csv', index = False)"
   ]
  },
  {
   "cell_type": "markdown",
   "metadata": {},
   "source": [
    "## Photo Dataframe With Embeddings - Part D"
   ]
  },
  {
   "cell_type": "code",
   "execution_count": 24,
   "metadata": {},
   "outputs": [
    {
     "name": "stderr",
     "output_type": "stream",
     "text": [
      "100%|██████████| 50000/50000 [1:15:48<00:00, 11.59it/s]\n"
     ]
    }
   ],
   "source": [
    "tqdm.pandas()\n",
    "photo_df_d['embeddings_fn'] = photo_df_d.file_path.progress_apply(lambda x: get_embedding(x))"
   ]
  },
  {
   "cell_type": "code",
   "execution_count": 25,
   "metadata": {},
   "outputs": [],
   "source": [
    "photo_df_d.to_csv('Photo_Dataframes/photo_dfs_with_embeddings_fn/photo_dataframe_fn_embeddings_d.csv', index = False)"
   ]
  },
  {
   "cell_type": "markdown",
   "metadata": {},
   "source": [
    "## Photo Dataframe With Embeddings - Part E"
   ]
  },
  {
   "cell_type": "code",
   "execution_count": 9,
   "metadata": {},
   "outputs": [
    {
     "name": "stderr",
     "output_type": "stream",
     "text": [
      "100%|██████████| 50000/50000 [1:11:04<00:00, 11.72it/s]\n"
     ]
    }
   ],
   "source": [
    "tqdm.pandas()\n",
    "photo_df_e['embeddings_fn'] = photo_df_e.file_path.progress_apply(lambda x: get_embedding(x))"
   ]
  },
  {
   "cell_type": "code",
   "execution_count": 10,
   "metadata": {},
   "outputs": [],
   "source": [
    "photo_df_e.to_csv('Photo_Dataframes/photo_dfs_with_embeddings_fn/photo_dataframe_fn_embeddings_e.csv', index = False)"
   ]
  },
  {
   "cell_type": "markdown",
   "metadata": {},
   "source": [
    "# Testing The Loaded Dataframes\n",
    "\n",
    "Here I load each saved dataframe and test the 'embeddings_fn column to see if I am able to utilize the embeddings vector that I stored."
   ]
  },
  {
   "cell_type": "code",
   "execution_count": 17,
   "metadata": {},
   "outputs": [],
   "source": [
    "#In a now defunct notebook I eliminated one image because its facial embeddings vector\n",
    "#contained only nan values. This is because the image itself was a solid white box, it was\n",
    "#not stored properly in the original web scrape. This is why i removed this image. Its row\n",
    "#id corresponds to a row and data frame that was removed as I lowered the second face\n",
    "#score threshold from 0.9 to 0.25.\n",
    "\n",
    "#photo_df_h.drop(photo_df_h.index[7428], inplace = True)"
   ]
  },
  {
   "cell_type": "code",
   "execution_count": 18,
   "metadata": {},
   "outputs": [],
   "source": [
    "#Load the saved data frames with the FaceNet embeddings\n",
    "\n",
    "photo_df_a = pd.read_csv('Photo_Dataframes/photo_dfs_with_embeddings_fn/photo_dataframe_fn_embeddings_a.csv')\n",
    "photo_df_b = pd.read_csv('Photo_Dataframes/photo_dfs_with_embeddings_fn/photo_dataframe_fn_embeddings_b.csv')\n",
    "photo_df_c = pd.read_csv('Photo_Dataframes/photo_dfs_with_embeddings_fn/photo_dataframe_fn_embeddings_c.csv')\n",
    "photo_df_d = pd.read_csv('Photo_Dataframes/photo_dfs_with_embeddings_fn/photo_dataframe_fn_embeddings_d.csv')\n",
    "photo_df_e = pd.read_csv('Photo_Dataframes/photo_dfs_with_embeddings_fn/photo_dataframe_fn_embeddings_e.csv')"
   ]
  },
  {
   "cell_type": "code",
   "execution_count": 19,
   "metadata": {
    "scrolled": true
   },
   "outputs": [
    {
     "data": {
      "text/html": [
       "<div>\n",
       "<style scoped>\n",
       "    .dataframe tbody tr th:only-of-type {\n",
       "        vertical-align: middle;\n",
       "    }\n",
       "\n",
       "    .dataframe tbody tr th {\n",
       "        vertical-align: top;\n",
       "    }\n",
       "\n",
       "    .dataframe thead th {\n",
       "        text-align: right;\n",
       "    }\n",
       "</style>\n",
       "<table border=\"1\" class=\"dataframe\">\n",
       "  <thead>\n",
       "    <tr style=\"text-align: right;\">\n",
       "      <th></th>\n",
       "      <th>name</th>\n",
       "      <th>dob</th>\n",
       "      <th>gender</th>\n",
       "      <th>photo_taken</th>\n",
       "      <th>age_when_taken</th>\n",
       "      <th>file_path</th>\n",
       "      <th>face_location</th>\n",
       "      <th>face_score</th>\n",
       "      <th>embeddings_fn</th>\n",
       "    </tr>\n",
       "  </thead>\n",
       "  <tbody>\n",
       "    <tr>\n",
       "      <th>0</th>\n",
       "      <td>Fred Astaire</td>\n",
       "      <td>1899-05-10</td>\n",
       "      <td>1.0</td>\n",
       "      <td>1968</td>\n",
       "      <td>69</td>\n",
       "      <td>image_data/imdb_data/01/nm0000001_rm946909184_...</td>\n",
       "      <td>[622.88550564 424.21750384 844.33900767 645.67...</td>\n",
       "      <td>1.872117</td>\n",
       "      <td>[ 0.1044133  -0.80462444 -0.86017245 -0.593098...</td>\n",
       "    </tr>\n",
       "    <tr>\n",
       "      <th>1</th>\n",
       "      <td>Fred Astaire</td>\n",
       "      <td>1899-05-10</td>\n",
       "      <td>1.0</td>\n",
       "      <td>1968</td>\n",
       "      <td>69</td>\n",
       "      <td>image_data/imdb_data/01/nm0000001_rm980463616_...</td>\n",
       "      <td>[1013.85900236  233.88204221 1201.5861278   42...</td>\n",
       "      <td>1.158766</td>\n",
       "      <td>[-1.3740315  -0.807325   -0.21413553  0.019938...</td>\n",
       "    </tr>\n",
       "    <tr>\n",
       "      <th>2</th>\n",
       "      <td>Lauren Bacall</td>\n",
       "      <td>1924-09-16</td>\n",
       "      <td>0.0</td>\n",
       "      <td>2004</td>\n",
       "      <td>80</td>\n",
       "      <td>image_data/imdb_data/02/nm0000002_rm1346607872...</td>\n",
       "      <td>[ 78.23569407  52.33512938 194.25423516 168.35...</td>\n",
       "      <td>3.479189</td>\n",
       "      <td>[-0.4142363   0.04628806 -0.04605452 -1.316444...</td>\n",
       "    </tr>\n",
       "    <tr>\n",
       "      <th>3</th>\n",
       "      <td>Lauren Bacall</td>\n",
       "      <td>1924-09-16</td>\n",
       "      <td>0.0</td>\n",
       "      <td>2004</td>\n",
       "      <td>80</td>\n",
       "      <td>image_data/imdb_data/02/nm0000002_rm1363385088...</td>\n",
       "      <td>[ 64.30867104  64.30867104 207.26768087 207.26...</td>\n",
       "      <td>3.870171</td>\n",
       "      <td>[-1.84994042e-01  7.11622715e-01  4.40206051e-...</td>\n",
       "    </tr>\n",
       "    <tr>\n",
       "      <th>4</th>\n",
       "      <td>Lauren Bacall</td>\n",
       "      <td>1924-09-16</td>\n",
       "      <td>0.0</td>\n",
       "      <td>1974</td>\n",
       "      <td>50</td>\n",
       "      <td>image_data/imdb_data/02/nm0000002_rm221957120_...</td>\n",
       "      <td>[3173.14469259  401.04083657 4059.15207489 128...</td>\n",
       "      <td>4.096431</td>\n",
       "      <td>[-0.7291794   0.68375134  2.1871135  -1.996834...</td>\n",
       "    </tr>\n",
       "  </tbody>\n",
       "</table>\n",
       "</div>"
      ],
      "text/plain": [
       "            name         dob  gender  photo_taken  age_when_taken  \\\n",
       "0   Fred Astaire  1899-05-10     1.0         1968              69   \n",
       "1   Fred Astaire  1899-05-10     1.0         1968              69   \n",
       "2  Lauren Bacall  1924-09-16     0.0         2004              80   \n",
       "3  Lauren Bacall  1924-09-16     0.0         2004              80   \n",
       "4  Lauren Bacall  1924-09-16     0.0         1974              50   \n",
       "\n",
       "                                           file_path  \\\n",
       "0  image_data/imdb_data/01/nm0000001_rm946909184_...   \n",
       "1  image_data/imdb_data/01/nm0000001_rm980463616_...   \n",
       "2  image_data/imdb_data/02/nm0000002_rm1346607872...   \n",
       "3  image_data/imdb_data/02/nm0000002_rm1363385088...   \n",
       "4  image_data/imdb_data/02/nm0000002_rm221957120_...   \n",
       "\n",
       "                                       face_location  face_score  \\\n",
       "0  [622.88550564 424.21750384 844.33900767 645.67...    1.872117   \n",
       "1  [1013.85900236  233.88204221 1201.5861278   42...    1.158766   \n",
       "2  [ 78.23569407  52.33512938 194.25423516 168.35...    3.479189   \n",
       "3  [ 64.30867104  64.30867104 207.26768087 207.26...    3.870171   \n",
       "4  [3173.14469259  401.04083657 4059.15207489 128...    4.096431   \n",
       "\n",
       "                                       embeddings_fn  \n",
       "0  [ 0.1044133  -0.80462444 -0.86017245 -0.593098...  \n",
       "1  [-1.3740315  -0.807325   -0.21413553  0.019938...  \n",
       "2  [-0.4142363   0.04628806 -0.04605452 -1.316444...  \n",
       "3  [-1.84994042e-01  7.11622715e-01  4.40206051e-...  \n",
       "4  [-0.7291794   0.68375134  2.1871135  -1.996834...  "
      ]
     },
     "execution_count": 19,
     "metadata": {},
     "output_type": "execute_result"
    }
   ],
   "source": [
    "#Concatenate the dataframes\n",
    "photo_df = pd.concat([photo_df_a, photo_df_b, photo_df_c, photo_df_d, photo_df_e]).reset_index(drop=True)\n",
    "\n",
    "photo_df.head()"
   ]
  },
  {
   "cell_type": "code",
   "execution_count": 21,
   "metadata": {},
   "outputs": [
    {
     "name": "stdout",
     "output_type": "stream",
     "text": [
      "<class 'pandas.core.frame.DataFrame'>\n",
      "RangeIndex: 214616 entries, 0 to 214615\n",
      "Data columns (total 9 columns):\n",
      "name              214616 non-null object\n",
      "dob               214616 non-null object\n",
      "gender            214616 non-null float64\n",
      "photo_taken       214616 non-null int64\n",
      "age_when_taken    214616 non-null int64\n",
      "file_path         214616 non-null object\n",
      "face_location     214616 non-null object\n",
      "face_score        214616 non-null float64\n",
      "embeddings_fn     214616 non-null object\n",
      "dtypes: float64(2), int64(2), object(5)\n",
      "memory usage: 14.7+ MB\n"
     ]
    }
   ],
   "source": [
    "photo_df.info()"
   ]
  },
  {
   "cell_type": "code",
   "execution_count": 22,
   "metadata": {},
   "outputs": [
    {
     "name": "stdout",
     "output_type": "stream",
     "text": [
      "<class 'str'>\n"
     ]
    }
   ],
   "source": [
    "#The embeddings vectors were converted to strings in the .csv format. I create\n",
    "#a function below to convert them back to numpy arrays so I can use them later in\n",
    "#my analysis\n",
    "\n",
    "print(type(photo_df.embeddings_fn[0]))"
   ]
  },
  {
   "cell_type": "code",
   "execution_count": 26,
   "metadata": {},
   "outputs": [
    {
     "name": "stdout",
     "output_type": "stream",
     "text": [
      "The dataframe is now loaded.\n",
      "\n"
     ]
    }
   ],
   "source": [
    "#The following function converts the string that represents the face embeddings into\n",
    "#a numpy vector\n",
    "\n",
    "def convert_csv_to_embeddings(embedding_string):\n",
    "    \n",
    "    #I replace the '\\n' and spaces in descending sequential order (i.e. 5 spaces to 1,\n",
    "    #4 spaces to 1, etc.)\n",
    "    embedding_string = embedding_string.replace('\\n', '').replace('     ', ' ').replace('    ', ' ').replace('   ', ' ').replace('  ', ' ').replace('[ ', '[').replace(' ]', ']').replace(' ', ', ')\n",
    "    \n",
    "    #This code returns the string as an array in the proper type\n",
    "    return asarray(ast.literal_eval(embedding_string)).astype('float32')\n",
    "\n",
    "photo_df.embeddings_fn = photo_df.embeddings_fn.apply(lambda x: convert_csv_to_embeddings(x))\n",
    "print('The dataframe is now loaded.\\n')\n"
   ]
  },
  {
   "cell_type": "code",
   "execution_count": 27,
   "metadata": {},
   "outputs": [
    {
     "name": "stdout",
     "output_type": "stream",
     "text": [
      "<class 'numpy.ndarray'>\n"
     ]
    }
   ],
   "source": [
    "#The embeddings vectors were successfully converted back to numpy arrays after being\n",
    "#stored as values in a pandas data frame in .csv format\n",
    "\n",
    "print(type(photo_df.embeddings_fn[0]))"
   ]
  }
 ],
 "metadata": {
  "kernelspec": {
   "display_name": "Python 3",
   "language": "python",
   "name": "python3"
  },
  "language_info": {
   "codemirror_mode": {
    "name": "ipython",
    "version": 3
   },
   "file_extension": ".py",
   "mimetype": "text/x-python",
   "name": "python",
   "nbconvert_exporter": "python",
   "pygments_lexer": "ipython3",
   "version": "3.7.2"
  }
 },
 "nbformat": 4,
 "nbformat_minor": 2
}
