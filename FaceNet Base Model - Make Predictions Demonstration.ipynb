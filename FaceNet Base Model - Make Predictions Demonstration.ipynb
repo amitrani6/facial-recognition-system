{
 "cells": [
  {
   "cell_type": "code",
   "execution_count": 1,
   "metadata": {},
   "outputs": [],
   "source": [
    "import pandas as pd\n",
    "import numpy as np\n",
    "from numpy import asarray\n",
    "\n",
    "from PIL import Image\n",
    "\n",
    "from numpy import expand_dims\n",
    "from numpy import savez_compressed\n",
    "\n",
    "from tensorflow.keras.models import load_model\n",
    "\n",
    "from tqdm import tqdm\n",
    "from tqdm import tqdm_notebook\n",
    "\n",
    "import ast\n",
    "\n",
    "import matplotlib.pyplot as plt\n",
    "%matplotlib inline\n",
    "\n",
    "import warnings\n",
    "warnings.filterwarnings('ignore')"
   ]
  },
  {
   "cell_type": "code",
   "execution_count": 2,
   "metadata": {},
   "outputs": [
    {
     "name": "stdout",
     "output_type": "stream",
     "text": [
      "WARNING:tensorflow:From /anaconda3/lib/python3.7/site-packages/tensorflow/python/ops/resource_variable_ops.py:435: colocate_with (from tensorflow.python.framework.ops) is deprecated and will be removed in a future version.\n",
      "Instructions for updating:\n",
      "Colocations handled automatically by placer.\n",
      "WARNING:tensorflow:From /anaconda3/lib/python3.7/site-packages/tensorflow/python/keras/layers/core.py:143: calling dropout (from tensorflow.python.ops.nn_ops) with keep_prob is deprecated and will be removed in a future version.\n",
      "Instructions for updating:\n",
      "Please use `rate` instead of `keep_prob`. Rate should be set to `rate = 1 - keep_prob`.\n",
      "WARNING:tensorflow:No training configuration found in save file: the model was *not* compiled. Compile it manually.\n"
     ]
    }
   ],
   "source": [
    "# Load the FaceNet model\n",
    "facenet_model = load_model('FaceNet_Model/facenet_keras.h5')\n",
    "facenet_model.load_weights('FaceNet_Model/facenet_keras_weights.h5')"
   ]
  },
  {
   "cell_type": "code",
   "execution_count": 3,
   "metadata": {},
   "outputs": [],
   "source": [
    "#Load the Dataframes with embeddings\n",
    "photo_df_a = pd.read_csv('photo_info_df/photo_dfs_with_embeddings_fn/photo_dataframe_fn_embeddings_a.csv')\n",
    "photo_df_b = pd.read_csv('photo_info_df/photo_dfs_with_embeddings_fn/photo_dataframe_fn_embeddings_b.csv')\n",
    "photo_df_c = pd.read_csv('photo_info_df/photo_dfs_with_embeddings_fn/photo_dataframe_fn_embeddings_c.csv')\n",
    "photo_df_d = pd.read_csv('photo_info_df/photo_dfs_with_embeddings_fn/photo_dataframe_fn_embeddings_d.csv')\n",
    "photo_df_e = pd.read_csv('photo_info_df/photo_dfs_with_embeddings_fn/photo_dataframe_fn_embeddings_e.csv')\n",
    "photo_df_f = pd.read_csv('photo_info_df/photo_dfs_with_embeddings_fn/photo_dataframe_fn_embeddings_f.csv')\n",
    "photo_df_g = pd.read_csv('photo_info_df/photo_dfs_with_embeddings_fn/photo_dataframe_fn_embeddings_g.csv')\n",
    "photo_df_h = pd.read_csv('photo_info_df/photo_dfs_with_embeddings_fn/photo_dataframe_fn_embeddings_h.csv')"
   ]
  },
  {
   "cell_type": "code",
   "execution_count": 4,
   "metadata": {},
   "outputs": [],
   "source": [
    "#Upon further inspection row 7428 in Dataframe h is the only one that breaks in my conversion function,\n",
    "#this is because nans were returned by the model, I looked into this further and found that the picture\n",
    "#is just a white square, I remove this row here\n",
    "photo_df_h.drop(photo_df_h.index[7428], inplace = True)\n",
    "\n",
    "\n",
    "#Concat the dataframes\n",
    "photo_df = pd.concat([photo_df_a, photo_df_b, photo_df_c, photo_df_d, photo_df_e, photo_df_f, photo_df_g, photo_df_h]).reset_index(drop=True)"
   ]
  },
  {
   "cell_type": "code",
   "execution_count": 5,
   "metadata": {},
   "outputs": [],
   "source": [
    "#This function converts the saved string in the 'embeddings_fn' column to a numpy array\n",
    "\n",
    "def convert_csv_to_embeddings(embedding_string):\n",
    "    \n",
    "    #I replace the '\\n' and spaces in descending sequential order\n",
    "    embedding_string = embedding_string.replace('\\n', '').replace('     ', ' ').replace('    ', ' ').replace('   ', ' ').replace('  ', ' ').replace('[ ', '[').replace(' ]', ']').replace(' ', ', ')\n",
    "    \n",
    "    #This returns the string as an array in the proper type\n",
    "    return asarray(ast.literal_eval(embedding_string)).astype('float32')"
   ]
  },
  {
   "cell_type": "code",
   "execution_count": 6,
   "metadata": {},
   "outputs": [
    {
     "name": "stderr",
     "output_type": "stream",
     "text": [
      "100%|██████████| 372916/372916 [02:30<00:00, 2475.25it/s]\n"
     ]
    }
   ],
   "source": [
    "tqdm.pandas()\n",
    "photo_df.embeddings_fn = photo_df.embeddings_fn.progress_apply(lambda x: convert_csv_to_embeddings(x))\n",
    "\n",
    "\n",
    "\n"
   ]
  },
  {
   "cell_type": "code",
   "execution_count": 7,
   "metadata": {},
   "outputs": [
    {
     "data": {
      "text/html": [
       "<div>\n",
       "<style scoped>\n",
       "    .dataframe tbody tr th:only-of-type {\n",
       "        vertical-align: middle;\n",
       "    }\n",
       "\n",
       "    .dataframe tbody tr th {\n",
       "        vertical-align: top;\n",
       "    }\n",
       "\n",
       "    .dataframe thead th {\n",
       "        text-align: right;\n",
       "    }\n",
       "</style>\n",
       "<table border=\"1\" class=\"dataframe\">\n",
       "  <thead>\n",
       "    <tr style=\"text-align: right;\">\n",
       "      <th></th>\n",
       "      <th>name</th>\n",
       "      <th>dob</th>\n",
       "      <th>gender</th>\n",
       "      <th>photo_taken</th>\n",
       "      <th>age_when_taken</th>\n",
       "      <th>file_path</th>\n",
       "      <th>face_location</th>\n",
       "      <th>face_score</th>\n",
       "      <th>embeddings_fn</th>\n",
       "    </tr>\n",
       "  </thead>\n",
       "  <tbody>\n",
       "    <tr>\n",
       "      <th>0</th>\n",
       "      <td>Fred Astaire</td>\n",
       "      <td>1899-05-10</td>\n",
       "      <td>1.0</td>\n",
       "      <td>1968</td>\n",
       "      <td>69</td>\n",
       "      <td>image_data/imdb_data/01/nm0000001_rm124825600_...</td>\n",
       "      <td>[1072.926  161.838 1214.784  303.696]</td>\n",
       "      <td>1.459693</td>\n",
       "      <td>[-0.74029577, 0.14542007, -0.5782049, -0.00768...</td>\n",
       "    </tr>\n",
       "    <tr>\n",
       "      <th>1</th>\n",
       "      <td>Fred Astaire</td>\n",
       "      <td>1899-05-10</td>\n",
       "      <td>1.0</td>\n",
       "      <td>1970</td>\n",
       "      <td>71</td>\n",
       "      <td>image_data/imdb_data/01/nm0000001_rm3343756032...</td>\n",
       "      <td>[477.184 100.352 622.592 245.76 ]</td>\n",
       "      <td>2.543198</td>\n",
       "      <td>[-0.1463713, -0.5106522, -0.48219085, -0.48631...</td>\n",
       "    </tr>\n",
       "    <tr>\n",
       "      <th>2</th>\n",
       "      <td>Fred Astaire</td>\n",
       "      <td>1899-05-10</td>\n",
       "      <td>1.0</td>\n",
       "      <td>1968</td>\n",
       "      <td>69</td>\n",
       "      <td>image_data/imdb_data/01/nm0000001_rm577153792_...</td>\n",
       "      <td>[114.96964309 114.96964309 451.68657236 451.68...</td>\n",
       "      <td>3.455579</td>\n",
       "      <td>[0.35580358, 0.14148678, 0.11161471, -0.294302...</td>\n",
       "    </tr>\n",
       "    <tr>\n",
       "      <th>3</th>\n",
       "      <td>Fred Astaire</td>\n",
       "      <td>1899-05-10</td>\n",
       "      <td>1.0</td>\n",
       "      <td>1968</td>\n",
       "      <td>69</td>\n",
       "      <td>image_data/imdb_data/01/nm0000001_rm946909184_...</td>\n",
       "      <td>[622.88550564 424.21750384 844.33900767 645.67...</td>\n",
       "      <td>1.872117</td>\n",
       "      <td>[0.1044133, -0.80462444, -0.86017245, -0.59309...</td>\n",
       "    </tr>\n",
       "    <tr>\n",
       "      <th>4</th>\n",
       "      <td>Fred Astaire</td>\n",
       "      <td>1899-05-10</td>\n",
       "      <td>1.0</td>\n",
       "      <td>1968</td>\n",
       "      <td>69</td>\n",
       "      <td>image_data/imdb_data/01/nm0000001_rm980463616_...</td>\n",
       "      <td>[1013.85900236  233.88204221 1201.5861278   42...</td>\n",
       "      <td>1.158766</td>\n",
       "      <td>[-1.3740315, -0.807325, -0.21413553, 0.0199386...</td>\n",
       "    </tr>\n",
       "  </tbody>\n",
       "</table>\n",
       "</div>"
      ],
      "text/plain": [
       "           name         dob  gender  photo_taken  age_when_taken  \\\n",
       "0  Fred Astaire  1899-05-10     1.0         1968              69   \n",
       "1  Fred Astaire  1899-05-10     1.0         1970              71   \n",
       "2  Fred Astaire  1899-05-10     1.0         1968              69   \n",
       "3  Fred Astaire  1899-05-10     1.0         1968              69   \n",
       "4  Fred Astaire  1899-05-10     1.0         1968              69   \n",
       "\n",
       "                                           file_path  \\\n",
       "0  image_data/imdb_data/01/nm0000001_rm124825600_...   \n",
       "1  image_data/imdb_data/01/nm0000001_rm3343756032...   \n",
       "2  image_data/imdb_data/01/nm0000001_rm577153792_...   \n",
       "3  image_data/imdb_data/01/nm0000001_rm946909184_...   \n",
       "4  image_data/imdb_data/01/nm0000001_rm980463616_...   \n",
       "\n",
       "                                       face_location  face_score  \\\n",
       "0              [1072.926  161.838 1214.784  303.696]    1.459693   \n",
       "1                  [477.184 100.352 622.592 245.76 ]    2.543198   \n",
       "2  [114.96964309 114.96964309 451.68657236 451.68...    3.455579   \n",
       "3  [622.88550564 424.21750384 844.33900767 645.67...    1.872117   \n",
       "4  [1013.85900236  233.88204221 1201.5861278   42...    1.158766   \n",
       "\n",
       "                                       embeddings_fn  \n",
       "0  [-0.74029577, 0.14542007, -0.5782049, -0.00768...  \n",
       "1  [-0.1463713, -0.5106522, -0.48219085, -0.48631...  \n",
       "2  [0.35580358, 0.14148678, 0.11161471, -0.294302...  \n",
       "3  [0.1044133, -0.80462444, -0.86017245, -0.59309...  \n",
       "4  [-1.3740315, -0.807325, -0.21413553, 0.0199386...  "
      ]
     },
     "execution_count": 7,
     "metadata": {},
     "output_type": "execute_result"
    }
   ],
   "source": [
    "photo_df.head()"
   ]
  },
  {
   "cell_type": "code",
   "execution_count": 9,
   "metadata": {},
   "outputs": [
    {
     "name": "stdout",
     "output_type": "stream",
     "text": [
      "<class 'pandas.core.frame.DataFrame'>\n",
      "RangeIndex: 372916 entries, 0 to 372915\n",
      "Data columns (total 9 columns):\n",
      "name              372916 non-null object\n",
      "dob               372916 non-null object\n",
      "gender            372916 non-null float64\n",
      "photo_taken       372916 non-null int64\n",
      "age_when_taken    372916 non-null int64\n",
      "file_path         372916 non-null object\n",
      "face_location     372916 non-null object\n",
      "face_score        372916 non-null float64\n",
      "embeddings_fn     372916 non-null object\n",
      "dtypes: float64(2), int64(2), object(5)\n",
      "memory usage: 25.6+ MB\n"
     ]
    }
   ],
   "source": [
    "photo_df.info()"
   ]
  },
  {
   "cell_type": "code",
   "execution_count": 15,
   "metadata": {},
   "outputs": [
    {
     "data": {
      "text/plain": [
       "array([-2.8159583e+00, -2.6450622e-01,  1.9277775e+00, -1.6459100e+00,\n",
       "        5.0666231e-01,  9.2068277e-02, -4.1450985e-02,  6.7421123e-02,\n",
       "       -4.0280741e-01,  9.1429427e-02,  2.8529257e-02,  8.9647895e-01,\n",
       "        7.8710991e-01,  1.3718821e-01,  2.6549125e-01,  8.9681083e-01,\n",
       "       -2.1329600e-01,  1.0628946e+00,  1.0834318e+00, -4.2698783e-01,\n",
       "        4.8099378e-01,  2.3107894e-01, -2.1850953e-01,  1.0767412e+00,\n",
       "       -3.9961949e-01,  3.4544349e-01,  2.5518230e-01,  1.2890376e+00,\n",
       "        2.5534055e-01,  5.3035939e-01, -1.1170588e+00, -3.1961018e-01,\n",
       "       -1.5927204e-01,  9.0936579e-02,  1.1449692e+00, -4.7476184e-01,\n",
       "       -1.6302524e+00,  1.6039766e-01, -7.8691703e-01, -1.9301774e-01,\n",
       "        2.5980222e-01, -1.6283334e+00, -5.0829932e-02,  9.7849631e-01,\n",
       "       -7.8738636e-01, -1.3548354e+00,  1.9182414e-01, -1.5684148e+00,\n",
       "       -6.5695792e-01, -9.3626916e-01, -5.2665865e-01,  1.5173119e+00,\n",
       "        1.1070720e+00, -7.7063578e-01,  3.0547881e-01, -9.9846983e-01,\n",
       "        5.9140396e-01, -5.2915126e-01, -2.0841739e-01, -6.3939619e-01,\n",
       "        5.9114182e-01,  8.7196940e-01, -2.1759236e-01,  1.0213870e-01,\n",
       "       -2.6831627e-01, -2.5616652e-01,  1.0816480e+00,  1.1540474e+00,\n",
       "        3.5788459e-01,  7.2091341e-01, -3.9128584e-01,  6.8135694e-02,\n",
       "        3.3476418e-01,  2.6114285e-05, -6.0525876e-01,  9.2592847e-01,\n",
       "        1.0475029e-01, -4.7031617e-01,  2.9502335e-01, -6.4900959e-01,\n",
       "        5.8558708e-01,  4.9236333e-01, -1.8582650e+00, -8.7867618e-02,\n",
       "        7.7587324e-01,  9.7693276e-01,  8.1171167e-01,  5.7522994e-01,\n",
       "       -1.4291950e+00,  8.1563497e-01,  5.8157432e-01,  2.8321314e-01,\n",
       "        4.5406589e-01, -3.3996042e-02,  5.9027314e-01, -4.0745354e-01,\n",
       "        3.6919028e-01,  5.3546005e-01,  1.0409427e+00, -2.0945704e-01,\n",
       "        2.8966397e-01,  3.4888098e-01,  3.6134124e-01, -1.4901003e-01,\n",
       "       -2.6177156e-01,  2.2142522e-01, -1.1599361e+00, -8.9306667e-02,\n",
       "        1.1212252e-01, -3.0916965e-01, -4.3449315e-01,  4.1516668e-01,\n",
       "        6.8664432e-01,  5.2873558e-01, -3.6321363e-01, -4.0623769e-01,\n",
       "        8.1216764e-01,  6.9259897e-02,  6.9470841e-01,  1.2486842e+00,\n",
       "       -2.9342455e-01,  1.9210076e+00, -4.2354238e-01, -6.3468647e-01,\n",
       "        1.9174572e+00,  3.5561243e-01,  1.5262471e+00,  2.7427745e-01],\n",
       "      dtype=float32)"
      ]
     },
     "execution_count": 15,
     "metadata": {},
     "output_type": "execute_result"
    }
   ],
   "source": [
    "photo_df.embeddings_fn[500]"
   ]
  },
  {
   "cell_type": "code",
   "execution_count": null,
   "metadata": {},
   "outputs": [],
   "source": []
  }
 ],
 "metadata": {
  "kernelspec": {
   "display_name": "Python 3",
   "language": "python",
   "name": "python3"
  },
  "language_info": {
   "codemirror_mode": {
    "name": "ipython",
    "version": 3
   },
   "file_extension": ".py",
   "mimetype": "text/x-python",
   "name": "python",
   "nbconvert_exporter": "python",
   "pygments_lexer": "ipython3",
   "version": "3.7.2"
  }
 },
 "nbformat": 4,
 "nbformat_minor": 2
}
