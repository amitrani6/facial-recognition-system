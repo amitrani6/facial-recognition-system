{
 "cells": [
  {
   "cell_type": "code",
   "execution_count": 1,
   "metadata": {},
   "outputs": [],
   "source": [
    "import pandas as pd\n",
    "import numpy as np\n",
    "from numpy import asarray\n",
    "\n",
    "from PIL import Image\n",
    "\n",
    "from numpy import load\n",
    "from numpy import expand_dims\n",
    "from numpy import savez_compressed\n",
    "\n",
    "from tensorflow.keras.models import Sequential\n",
    "from tensorflow.keras.layers import Dense, Conv2D, Flatten, Dropout\n",
    "from tensorflow.keras.models import load_model\n",
    "\n",
    "from tqdm import tqdm\n",
    "from tqdm import tqdm_notebook\n",
    "\n",
    "import ast\n",
    "\n",
    "import matplotlib.pyplot as plt\n",
    "%matplotlib inline\n",
    "\n",
    "import warnings\n",
    "warnings.filterwarnings('ignore')"
   ]
  },
  {
   "cell_type": "code",
   "execution_count": 2,
   "metadata": {},
   "outputs": [
    {
     "name": "stdout",
     "output_type": "stream",
     "text": [
      "WARNING:tensorflow:From /anaconda3/lib/python3.7/site-packages/tensorflow/python/ops/resource_variable_ops.py:435: colocate_with (from tensorflow.python.framework.ops) is deprecated and will be removed in a future version.\n",
      "Instructions for updating:\n",
      "Colocations handled automatically by placer.\n",
      "WARNING:tensorflow:From /anaconda3/lib/python3.7/site-packages/tensorflow/python/keras/layers/core.py:143: calling dropout (from tensorflow.python.ops.nn_ops) with keep_prob is deprecated and will be removed in a future version.\n",
      "Instructions for updating:\n",
      "Please use `rate` instead of `keep_prob`. Rate should be set to `rate = 1 - keep_prob`.\n",
      "WARNING:tensorflow:No training configuration found in save file: the model was *not* compiled. Compile it manually.\n",
      "[<tf.Tensor 'input_1:0' shape=(?, 160, 160, 3) dtype=float32>]\n",
      "[<tf.Tensor 'Bottleneck_BatchNorm/batchnorm/add_1:0' shape=(?, 128) dtype=float32>]\n"
     ]
    }
   ],
   "source": [
    "# load the FaceNet model\n",
    "facenet_model = load_model('FaceNet_Model/facenet_keras.h5')\n",
    "facenet_model.load_weights('FaceNet_Model/facenet_keras_weights.h5')\n",
    "print(facenet_model.inputs)\n",
    "print(facenet_model.outputs)"
   ]
  },
  {
   "cell_type": "code",
   "execution_count": 3,
   "metadata": {},
   "outputs": [],
   "source": [
    "#Load the converted metadata files for the IMDB and Wikipedia images\n",
    "photo_df = pd.read_csv('photo_info_df/All_photo_data.csv')"
   ]
  },
  {
   "cell_type": "code",
   "execution_count": 4,
   "metadata": {
    "scrolled": true
   },
   "outputs": [
    {
     "data": {
      "text/html": [
       "<div>\n",
       "<style scoped>\n",
       "    .dataframe tbody tr th:only-of-type {\n",
       "        vertical-align: middle;\n",
       "    }\n",
       "\n",
       "    .dataframe tbody tr th {\n",
       "        vertical-align: top;\n",
       "    }\n",
       "\n",
       "    .dataframe thead th {\n",
       "        text-align: right;\n",
       "    }\n",
       "</style>\n",
       "<table border=\"1\" class=\"dataframe\">\n",
       "  <thead>\n",
       "    <tr style=\"text-align: right;\">\n",
       "      <th></th>\n",
       "      <th>name</th>\n",
       "      <th>dob</th>\n",
       "      <th>gender</th>\n",
       "      <th>photo_taken</th>\n",
       "      <th>age_when_taken</th>\n",
       "      <th>file_path</th>\n",
       "      <th>face_location</th>\n",
       "      <th>face_score</th>\n",
       "    </tr>\n",
       "  </thead>\n",
       "  <tbody>\n",
       "    <tr>\n",
       "      <th>0</th>\n",
       "      <td>Fred Astaire</td>\n",
       "      <td>1899-05-10</td>\n",
       "      <td>1.0</td>\n",
       "      <td>1968</td>\n",
       "      <td>69</td>\n",
       "      <td>image_data/imdb_data/01/nm0000001_rm124825600_...</td>\n",
       "      <td>[1072.926  161.838 1214.784  303.696]</td>\n",
       "      <td>1.459693</td>\n",
       "    </tr>\n",
       "    <tr>\n",
       "      <th>1</th>\n",
       "      <td>Fred Astaire</td>\n",
       "      <td>1899-05-10</td>\n",
       "      <td>1.0</td>\n",
       "      <td>1970</td>\n",
       "      <td>71</td>\n",
       "      <td>image_data/imdb_data/01/nm0000001_rm3343756032...</td>\n",
       "      <td>[477.184 100.352 622.592 245.76 ]</td>\n",
       "      <td>2.543198</td>\n",
       "    </tr>\n",
       "    <tr>\n",
       "      <th>2</th>\n",
       "      <td>Fred Astaire</td>\n",
       "      <td>1899-05-10</td>\n",
       "      <td>1.0</td>\n",
       "      <td>1968</td>\n",
       "      <td>69</td>\n",
       "      <td>image_data/imdb_data/01/nm0000001_rm577153792_...</td>\n",
       "      <td>[114.96964309 114.96964309 451.68657236 451.68...</td>\n",
       "      <td>3.455579</td>\n",
       "    </tr>\n",
       "    <tr>\n",
       "      <th>3</th>\n",
       "      <td>Fred Astaire</td>\n",
       "      <td>1899-05-10</td>\n",
       "      <td>1.0</td>\n",
       "      <td>1968</td>\n",
       "      <td>69</td>\n",
       "      <td>image_data/imdb_data/01/nm0000001_rm946909184_...</td>\n",
       "      <td>[622.88550564 424.21750384 844.33900767 645.67...</td>\n",
       "      <td>1.872117</td>\n",
       "    </tr>\n",
       "    <tr>\n",
       "      <th>4</th>\n",
       "      <td>Fred Astaire</td>\n",
       "      <td>1899-05-10</td>\n",
       "      <td>1.0</td>\n",
       "      <td>1968</td>\n",
       "      <td>69</td>\n",
       "      <td>image_data/imdb_data/01/nm0000001_rm980463616_...</td>\n",
       "      <td>[1013.85900236  233.88204221 1201.5861278   42...</td>\n",
       "      <td>1.158766</td>\n",
       "    </tr>\n",
       "  </tbody>\n",
       "</table>\n",
       "</div>"
      ],
      "text/plain": [
       "           name         dob  gender  photo_taken  age_when_taken  \\\n",
       "0  Fred Astaire  1899-05-10     1.0         1968              69   \n",
       "1  Fred Astaire  1899-05-10     1.0         1970              71   \n",
       "2  Fred Astaire  1899-05-10     1.0         1968              69   \n",
       "3  Fred Astaire  1899-05-10     1.0         1968              69   \n",
       "4  Fred Astaire  1899-05-10     1.0         1968              69   \n",
       "\n",
       "                                           file_path  \\\n",
       "0  image_data/imdb_data/01/nm0000001_rm124825600_...   \n",
       "1  image_data/imdb_data/01/nm0000001_rm3343756032...   \n",
       "2  image_data/imdb_data/01/nm0000001_rm577153792_...   \n",
       "3  image_data/imdb_data/01/nm0000001_rm946909184_...   \n",
       "4  image_data/imdb_data/01/nm0000001_rm980463616_...   \n",
       "\n",
       "                                       face_location  face_score  \n",
       "0              [1072.926  161.838 1214.784  303.696]    1.459693  \n",
       "1                  [477.184 100.352 622.592 245.76 ]    2.543198  \n",
       "2  [114.96964309 114.96964309 451.68657236 451.68...    3.455579  \n",
       "3  [622.88550564 424.21750384 844.33900767 645.67...    1.872117  \n",
       "4  [1013.85900236  233.88204221 1201.5861278   42...    1.158766  "
      ]
     },
     "execution_count": 4,
     "metadata": {},
     "output_type": "execute_result"
    }
   ],
   "source": [
    "photo_df.head()"
   ]
  },
  {
   "cell_type": "markdown",
   "metadata": {},
   "source": [
    "# Obtain The Embeddings Of Each Picture"
   ]
  },
  {
   "cell_type": "code",
   "execution_count": 5,
   "metadata": {},
   "outputs": [],
   "source": [
    "#This function opens the file and obtains an array representation of the picture\n",
    "#It converts to RGB if the image is black and white\n",
    "def obtain_image_pixels(filename):\n",
    "    image = Image.open(filename)\n",
    "    image = image.convert('RGB')\n",
    "    return asarray(image)"
   ]
  },
  {
   "cell_type": "code",
   "execution_count": 6,
   "metadata": {},
   "outputs": [],
   "source": [
    "#Resize the picture for model expectations\n",
    "def resize_picture(image_array, dimensions = (160,160)):\n",
    "    face_array_resized = Image.fromarray(image_array)\n",
    "    face_array_resized = face_array_resized.resize(dimensions)\n",
    "    return asarray(face_array_resized)"
   ]
  },
  {
   "cell_type": "code",
   "execution_count": 7,
   "metadata": {},
   "outputs": [],
   "source": [
    "#The following function is from 'Deep Learning for Computer Vision' by Jason Brownlee, Page (508)\n",
    "\n",
    "def get_embedding(filename):\n",
    "    #obtain the face pixels\n",
    "    cropped_face_array = obtain_image_pixels(filename)\n",
    "    resized_face = resize_picture(cropped_face_array)\n",
    "    \n",
    "    # standardize pixel values across channels\n",
    "    resized_face = resized_face.astype('float32')\n",
    "    mean, std = resized_face.mean(), resized_face.std()\n",
    "    resized_face = (resized_face - mean) / std\n",
    "    \n",
    "    \n",
    "    # transform face into one sample\n",
    "    observation = expand_dims(resized_face, axis=0)\n",
    "    # make prediction to get embedding\n",
    "    yhat = facenet_model.predict(observation)\n",
    "    return yhat[0]\n",
    "    "
   ]
  },
  {
   "cell_type": "markdown",
   "metadata": {},
   "source": [
    "# Obtain the Embeddings Array for Each Picture\n",
    "\n",
    "I will be performing this step in batches of 50,000 to ensure I save my data"
   ]
  },
  {
   "cell_type": "code",
   "execution_count": 8,
   "metadata": {},
   "outputs": [],
   "source": [
    "photo_df_a = photo_df[0:50000]\n",
    "photo_df_b = photo_df[50000:100000]\n",
    "photo_df_c = photo_df[100000:150000]\n",
    "photo_df_d = photo_df[150000:200000]\n",
    "photo_df_e = photo_df[200000:250000]\n",
    "photo_df_f = photo_df[250000:300000]\n",
    "photo_df_g = photo_df[300000:350000]\n",
    "photo_df_h = photo_df[350000:]\n",
    "\n"
   ]
  },
  {
   "cell_type": "markdown",
   "metadata": {},
   "source": [
    "## Photo Dataframe With Embeddings - Part A"
   ]
  },
  {
   "cell_type": "code",
   "execution_count": 9,
   "metadata": {},
   "outputs": [
    {
     "name": "stderr",
     "output_type": "stream",
     "text": [
      "100%|██████████| 50000/50000 [1:19:12<00:00, 10.52it/s]     \n"
     ]
    }
   ],
   "source": [
    "tqdm.pandas()\n",
    "photo_df_a['embeddings_fn'] = photo_df_a.file_path.progress_apply(lambda x: get_embedding(x))"
   ]
  },
  {
   "cell_type": "code",
   "execution_count": 10,
   "metadata": {},
   "outputs": [],
   "source": [
    "photo_df_a.to_csv('photo_info_df/photo_dfs_with_embeddings_fn/photo_dataframe_fn_embeddings_a.csv', index = False)"
   ]
  },
  {
   "cell_type": "markdown",
   "metadata": {},
   "source": [
    "## Photo Dataframe With Embeddings - Part B"
   ]
  },
  {
   "cell_type": "code",
   "execution_count": 20,
   "metadata": {
    "scrolled": true
   },
   "outputs": [
    {
     "name": "stderr",
     "output_type": "stream",
     "text": [
      "100%|██████████| 50000/50000 [1:07:18<00:00, 12.38it/s]\n"
     ]
    }
   ],
   "source": [
    "tqdm.pandas()\n",
    "photo_df_b['embeddings_fn'] = photo_df_b.file_path.progress_apply(lambda x: get_embedding(x))"
   ]
  },
  {
   "cell_type": "code",
   "execution_count": 21,
   "metadata": {},
   "outputs": [],
   "source": [
    "photo_df_b.to_csv('photo_info_df/photo_dfs_with_embeddings_fn/photo_dataframe_fn_embeddings_b.csv', index = False)"
   ]
  },
  {
   "cell_type": "markdown",
   "metadata": {},
   "source": [
    "## Photo Dataframe With Embeddings - Part C"
   ]
  },
  {
   "cell_type": "code",
   "execution_count": 22,
   "metadata": {},
   "outputs": [
    {
     "name": "stderr",
     "output_type": "stream",
     "text": [
      "100%|██████████| 50000/50000 [1:09:04<00:00, 11.91it/s]\n"
     ]
    }
   ],
   "source": [
    "tqdm.pandas()\n",
    "photo_df_c['embeddings_fn'] = photo_df_c.file_path.progress_apply(lambda x: get_embedding(x))"
   ]
  },
  {
   "cell_type": "code",
   "execution_count": 23,
   "metadata": {},
   "outputs": [],
   "source": [
    "photo_df_c.to_csv('photo_info_df/photo_dfs_with_embeddings_fn/photo_dataframe_fn_embeddings_c.csv', index = False)"
   ]
  },
  {
   "cell_type": "markdown",
   "metadata": {},
   "source": [
    "## Photo Dataframe With Embeddings - Part D"
   ]
  },
  {
   "cell_type": "code",
   "execution_count": 24,
   "metadata": {},
   "outputs": [
    {
     "name": "stderr",
     "output_type": "stream",
     "text": [
      "100%|██████████| 50000/50000 [1:15:48<00:00, 11.59it/s]\n"
     ]
    }
   ],
   "source": [
    "tqdm.pandas()\n",
    "photo_df_d['embeddings_fn'] = photo_df_d.file_path.progress_apply(lambda x: get_embedding(x))"
   ]
  },
  {
   "cell_type": "code",
   "execution_count": 25,
   "metadata": {},
   "outputs": [],
   "source": [
    "photo_df_d.to_csv('photo_info_df/photo_dfs_with_embeddings_fn/photo_dataframe_fn_embeddings_d.csv', index = False)"
   ]
  },
  {
   "cell_type": "markdown",
   "metadata": {},
   "source": [
    "## Photo Dataframe With Embeddings - Part E"
   ]
  },
  {
   "cell_type": "code",
   "execution_count": 9,
   "metadata": {},
   "outputs": [
    {
     "name": "stderr",
     "output_type": "stream",
     "text": [
      "100%|██████████| 50000/50000 [1:11:04<00:00, 11.72it/s]\n"
     ]
    }
   ],
   "source": [
    "tqdm.pandas()\n",
    "photo_df_e['embeddings_fn'] = photo_df_e.file_path.progress_apply(lambda x: get_embedding(x))"
   ]
  },
  {
   "cell_type": "code",
   "execution_count": 10,
   "metadata": {},
   "outputs": [],
   "source": [
    "photo_df_e.to_csv('photo_info_df/photo_dfs_with_embeddings_fn/photo_dataframe_fn_embeddings_e.csv', index = False)"
   ]
  },
  {
   "cell_type": "markdown",
   "metadata": {},
   "source": [
    "## Photo Dataframe With Embeddings - Part F"
   ]
  },
  {
   "cell_type": "code",
   "execution_count": 11,
   "metadata": {},
   "outputs": [
    {
     "name": "stderr",
     "output_type": "stream",
     "text": [
      "100%|██████████| 50000/50000 [1:06:42<00:00, 10.66it/s]\n"
     ]
    }
   ],
   "source": [
    "tqdm.pandas()\n",
    "photo_df_f['embeddings_fn'] = photo_df_f.file_path.progress_apply(lambda x: get_embedding(x))"
   ]
  },
  {
   "cell_type": "code",
   "execution_count": 12,
   "metadata": {},
   "outputs": [],
   "source": [
    "photo_df_f.to_csv('photo_info_df/photo_dfs_with_embeddings_fn/photo_dataframe_fn_embeddings_f.csv', index = False)"
   ]
  },
  {
   "cell_type": "markdown",
   "metadata": {},
   "source": [
    "## Photo Dataframe With Embeddings - Part G"
   ]
  },
  {
   "cell_type": "code",
   "execution_count": 13,
   "metadata": {},
   "outputs": [
    {
     "name": "stderr",
     "output_type": "stream",
     "text": [
      "100%|██████████| 50000/50000 [1:16:59<00:00, 12.67it/s]  \n"
     ]
    }
   ],
   "source": [
    "tqdm.pandas()\n",
    "photo_df_g['embeddings_fn'] = photo_df_g.file_path.progress_apply(lambda x: get_embedding(x))"
   ]
  },
  {
   "cell_type": "code",
   "execution_count": 14,
   "metadata": {},
   "outputs": [],
   "source": [
    "photo_df_g.to_csv('photo_info_df/photo_dfs_with_embeddings_fn/photo_dataframe_fn_embeddings_g.csv', index = False)"
   ]
  },
  {
   "cell_type": "markdown",
   "metadata": {},
   "source": [
    "## Photo Dataframe With Embeddings - Part H"
   ]
  },
  {
   "cell_type": "code",
   "execution_count": 15,
   "metadata": {},
   "outputs": [
    {
     "name": "stderr",
     "output_type": "stream",
     "text": [
      "100%|██████████| 22917/22917 [31:03<00:00, 12.30it/s] \n"
     ]
    }
   ],
   "source": [
    "tqdm.pandas()\n",
    "photo_df_h['embeddings_fn'] = photo_df_h.file_path.progress_apply(lambda x: get_embedding(x))"
   ]
  },
  {
   "cell_type": "code",
   "execution_count": 16,
   "metadata": {},
   "outputs": [],
   "source": [
    "photo_df_h.to_csv('photo_info_df/photo_dfs_with_embeddings_fn/photo_dataframe_fn_embeddings_h.csv', index = False)"
   ]
  },
  {
   "cell_type": "markdown",
   "metadata": {},
   "source": [
    "# Testing The Loaded Dataframes"
   ]
  },
  {
   "cell_type": "code",
   "execution_count": null,
   "metadata": {},
   "outputs": [],
   "source": [
    "photo_df_a.embeddings_fn[0]"
   ]
  },
  {
   "cell_type": "code",
   "execution_count": 37,
   "metadata": {},
   "outputs": [],
   "source": [
    "photo_df_d_test = pd.read_csv('photo_info_df/photo_dfs_with_embeddings_fn/photo_dataframe_fn_embeddings_d.csv')"
   ]
  },
  {
   "cell_type": "code",
   "execution_count": 38,
   "metadata": {
    "scrolled": true
   },
   "outputs": [
    {
     "data": {
      "text/html": [
       "<div>\n",
       "<style scoped>\n",
       "    .dataframe tbody tr th:only-of-type {\n",
       "        vertical-align: middle;\n",
       "    }\n",
       "\n",
       "    .dataframe tbody tr th {\n",
       "        vertical-align: top;\n",
       "    }\n",
       "\n",
       "    .dataframe thead th {\n",
       "        text-align: right;\n",
       "    }\n",
       "</style>\n",
       "<table border=\"1\" class=\"dataframe\">\n",
       "  <thead>\n",
       "    <tr style=\"text-align: right;\">\n",
       "      <th></th>\n",
       "      <th>name</th>\n",
       "      <th>dob</th>\n",
       "      <th>gender</th>\n",
       "      <th>photo_taken</th>\n",
       "      <th>age_when_taken</th>\n",
       "      <th>file_path</th>\n",
       "      <th>face_location</th>\n",
       "      <th>face_score</th>\n",
       "      <th>embeddings_fn</th>\n",
       "    </tr>\n",
       "  </thead>\n",
       "  <tbody>\n",
       "    <tr>\n",
       "      <th>0</th>\n",
       "      <td>Dean Norris</td>\n",
       "      <td>1963-04-08</td>\n",
       "      <td>1.0</td>\n",
       "      <td>2013</td>\n",
       "      <td>50</td>\n",
       "      <td>image_data/imdb_data/87/nm0606487_rm683335168_...</td>\n",
       "      <td>[237.37972736 119.18986368 325.02212512 206.83...</td>\n",
       "      <td>1.589262</td>\n",
       "      <td>[ 0.5910256   0.72979903 -1.4436709   0.832029...</td>\n",
       "    </tr>\n",
       "    <tr>\n",
       "      <th>1</th>\n",
       "      <td>Dean Norris</td>\n",
       "      <td>1963-04-08</td>\n",
       "      <td>1.0</td>\n",
       "      <td>2013</td>\n",
       "      <td>50</td>\n",
       "      <td>image_data/imdb_data/87/nm0606487_rm711508736_...</td>\n",
       "      <td>[526.336 231.424 819.2   524.288]</td>\n",
       "      <td>5.229899</td>\n",
       "      <td>[-0.066248    1.5444028   0.72457373  0.946269...</td>\n",
       "    </tr>\n",
       "    <tr>\n",
       "      <th>2</th>\n",
       "      <td>Dean Norris</td>\n",
       "      <td>1963-04-08</td>\n",
       "      <td>1.0</td>\n",
       "      <td>2013</td>\n",
       "      <td>50</td>\n",
       "      <td>image_data/imdb_data/87/nm0606487_rm745063168_...</td>\n",
       "      <td>[ 491.22600107  307.78425067 1039.50325227  85...</td>\n",
       "      <td>4.225081</td>\n",
       "      <td>[-0.42622527  0.3229443  -1.372813    0.836303...</td>\n",
       "    </tr>\n",
       "    <tr>\n",
       "      <th>3</th>\n",
       "      <td>Dean Norris</td>\n",
       "      <td>1963-04-08</td>\n",
       "      <td>1.0</td>\n",
       "      <td>2007</td>\n",
       "      <td>44</td>\n",
       "      <td>image_data/imdb_data/87/nm0606487_rm754944256_...</td>\n",
       "      <td>[ 57.812  57.812 228.864 228.864]</td>\n",
       "      <td>4.070058</td>\n",
       "      <td>[-0.20527998  0.40051752 -0.746986   -0.527946...</td>\n",
       "    </tr>\n",
       "    <tr>\n",
       "      <th>4</th>\n",
       "      <td>Dean Norris</td>\n",
       "      <td>1963-04-08</td>\n",
       "      <td>1.0</td>\n",
       "      <td>2008</td>\n",
       "      <td>45</td>\n",
       "      <td>image_data/imdb_data/87/nm0606487_rm767731968_...</td>\n",
       "      <td>[1050.94364355  365.12726123 1411.97490478  72...</td>\n",
       "      <td>2.764822</td>\n",
       "      <td>[ 1.8527697e-01  7.5647783e-01 -4.2893928e-02 ...</td>\n",
       "    </tr>\n",
       "  </tbody>\n",
       "</table>\n",
       "</div>"
      ],
      "text/plain": [
       "          name         dob  gender  photo_taken  age_when_taken  \\\n",
       "0  Dean Norris  1963-04-08     1.0         2013              50   \n",
       "1  Dean Norris  1963-04-08     1.0         2013              50   \n",
       "2  Dean Norris  1963-04-08     1.0         2013              50   \n",
       "3  Dean Norris  1963-04-08     1.0         2007              44   \n",
       "4  Dean Norris  1963-04-08     1.0         2008              45   \n",
       "\n",
       "                                           file_path  \\\n",
       "0  image_data/imdb_data/87/nm0606487_rm683335168_...   \n",
       "1  image_data/imdb_data/87/nm0606487_rm711508736_...   \n",
       "2  image_data/imdb_data/87/nm0606487_rm745063168_...   \n",
       "3  image_data/imdb_data/87/nm0606487_rm754944256_...   \n",
       "4  image_data/imdb_data/87/nm0606487_rm767731968_...   \n",
       "\n",
       "                                       face_location  face_score  \\\n",
       "0  [237.37972736 119.18986368 325.02212512 206.83...    1.589262   \n",
       "1                  [526.336 231.424 819.2   524.288]    5.229899   \n",
       "2  [ 491.22600107  307.78425067 1039.50325227  85...    4.225081   \n",
       "3                  [ 57.812  57.812 228.864 228.864]    4.070058   \n",
       "4  [1050.94364355  365.12726123 1411.97490478  72...    2.764822   \n",
       "\n",
       "                                       embeddings_fn  \n",
       "0  [ 0.5910256   0.72979903 -1.4436709   0.832029...  \n",
       "1  [-0.066248    1.5444028   0.72457373  0.946269...  \n",
       "2  [-0.42622527  0.3229443  -1.372813    0.836303...  \n",
       "3  [-0.20527998  0.40051752 -0.746986   -0.527946...  \n",
       "4  [ 1.8527697e-01  7.5647783e-01 -4.2893928e-02 ...  "
      ]
     },
     "execution_count": 38,
     "metadata": {},
     "output_type": "execute_result"
    }
   ],
   "source": [
    "photo_df_d_test.head()"
   ]
  },
  {
   "cell_type": "code",
   "execution_count": 28,
   "metadata": {},
   "outputs": [],
   "source": [
    "#This function converts the saved string in the 'embeddings_fn' column to a numpy array\n",
    "\n",
    "def convert_csv_to_embeddings(embedding_string):\n",
    "    \n",
    "    #I replace the '\\n' and spaces in descending sequential order\n",
    "    embedding_string = embedding_string.replace('\\n', '').replace('     ', ' ').replace('    ', ' ').replace('   ', ' ').replace('  ', ' ').replace('[ ', '[').replace(' ]', ']').replace(' ', ', ')\n",
    "    \n",
    "    #This returns the string as an array in the proper type\n",
    "    return asarray(ast.literal_eval(embedding_string)).astype('float32')\n",
    "    "
   ]
  },
  {
   "cell_type": "code",
   "execution_count": 39,
   "metadata": {
    "scrolled": true
   },
   "outputs": [],
   "source": [
    "photo_df_d_test.embeddings_fn = photo_df_d_test.embeddings_fn.apply(lambda x: convert_csv_to_embeddings(x))"
   ]
  },
  {
   "cell_type": "code",
   "execution_count": 40,
   "metadata": {
    "scrolled": true
   },
   "outputs": [
    {
     "data": {
      "text/html": [
       "<div>\n",
       "<style scoped>\n",
       "    .dataframe tbody tr th:only-of-type {\n",
       "        vertical-align: middle;\n",
       "    }\n",
       "\n",
       "    .dataframe tbody tr th {\n",
       "        vertical-align: top;\n",
       "    }\n",
       "\n",
       "    .dataframe thead th {\n",
       "        text-align: right;\n",
       "    }\n",
       "</style>\n",
       "<table border=\"1\" class=\"dataframe\">\n",
       "  <thead>\n",
       "    <tr style=\"text-align: right;\">\n",
       "      <th></th>\n",
       "      <th>name</th>\n",
       "      <th>dob</th>\n",
       "      <th>gender</th>\n",
       "      <th>photo_taken</th>\n",
       "      <th>age_when_taken</th>\n",
       "      <th>file_path</th>\n",
       "      <th>face_location</th>\n",
       "      <th>face_score</th>\n",
       "      <th>embeddings_fn</th>\n",
       "    </tr>\n",
       "  </thead>\n",
       "  <tbody>\n",
       "    <tr>\n",
       "      <th>49995</th>\n",
       "      <td>Autumn Reeser</td>\n",
       "      <td>1980-09-21</td>\n",
       "      <td>0.0</td>\n",
       "      <td>2003</td>\n",
       "      <td>23</td>\n",
       "      <td>image_data/imdb_data/08/nm1032208_rm1830721536...</td>\n",
       "      <td>[299.3115723   72.32877735 406.17973833 179.19...</td>\n",
       "      <td>4.763995</td>\n",
       "      <td>[-0.5000435, 0.00827631, -0.9710353, 0.1913891...</td>\n",
       "    </tr>\n",
       "    <tr>\n",
       "      <th>49996</th>\n",
       "      <td>Autumn Reeser</td>\n",
       "      <td>1980-09-21</td>\n",
       "      <td>0.0</td>\n",
       "      <td>2003</td>\n",
       "      <td>23</td>\n",
       "      <td>image_data/imdb_data/08/nm1032208_rm1847498752...</td>\n",
       "      <td>[117.29449931  55.54152909 178.39746954 116.64...</td>\n",
       "      <td>2.534724</td>\n",
       "      <td>[-0.35872468, -0.41892233, -0.34107652, 0.4779...</td>\n",
       "    </tr>\n",
       "    <tr>\n",
       "      <th>49997</th>\n",
       "      <td>Autumn Reeser</td>\n",
       "      <td>1980-09-21</td>\n",
       "      <td>0.0</td>\n",
       "      <td>2004</td>\n",
       "      <td>24</td>\n",
       "      <td>image_data/imdb_data/08/nm1032208_rm1998948352...</td>\n",
       "      <td>[ 98.95796658  74.37447494 208.95967899 184.37...</td>\n",
       "      <td>4.504549</td>\n",
       "      <td>[-0.5445585, -1.0659486, 0.98557085, -0.59999,...</td>\n",
       "    </tr>\n",
       "    <tr>\n",
       "      <th>49998</th>\n",
       "      <td>Autumn Reeser</td>\n",
       "      <td>1980-09-21</td>\n",
       "      <td>0.0</td>\n",
       "      <td>2003</td>\n",
       "      <td>23</td>\n",
       "      <td>image_data/imdb_data/08/nm1032208_rm2082379776...</td>\n",
       "      <td>[216.96953005 124.36830288 354.97137079 262.37...</td>\n",
       "      <td>3.794728</td>\n",
       "      <td>[-1.4261917, -1.3674953, 0.7790535, 0.32420912...</td>\n",
       "    </tr>\n",
       "    <tr>\n",
       "      <th>49999</th>\n",
       "      <td>Autumn Reeser</td>\n",
       "      <td>1980-09-21</td>\n",
       "      <td>0.0</td>\n",
       "      <td>2003</td>\n",
       "      <td>23</td>\n",
       "      <td>image_data/imdb_data/08/nm1032208_rm2132711424...</td>\n",
       "      <td>[ 87.3489876   40.05863073 157.63452292 110.34...</td>\n",
       "      <td>4.297943</td>\n",
       "      <td>[-1.6472375, -1.7480907, -0.33489174, -0.07722...</td>\n",
       "    </tr>\n",
       "  </tbody>\n",
       "</table>\n",
       "</div>"
      ],
      "text/plain": [
       "                name         dob  gender  photo_taken  age_when_taken  \\\n",
       "49995  Autumn Reeser  1980-09-21     0.0         2003              23   \n",
       "49996  Autumn Reeser  1980-09-21     0.0         2003              23   \n",
       "49997  Autumn Reeser  1980-09-21     0.0         2004              24   \n",
       "49998  Autumn Reeser  1980-09-21     0.0         2003              23   \n",
       "49999  Autumn Reeser  1980-09-21     0.0         2003              23   \n",
       "\n",
       "                                               file_path  \\\n",
       "49995  image_data/imdb_data/08/nm1032208_rm1830721536...   \n",
       "49996  image_data/imdb_data/08/nm1032208_rm1847498752...   \n",
       "49997  image_data/imdb_data/08/nm1032208_rm1998948352...   \n",
       "49998  image_data/imdb_data/08/nm1032208_rm2082379776...   \n",
       "49999  image_data/imdb_data/08/nm1032208_rm2132711424...   \n",
       "\n",
       "                                           face_location  face_score  \\\n",
       "49995  [299.3115723   72.32877735 406.17973833 179.19...    4.763995   \n",
       "49996  [117.29449931  55.54152909 178.39746954 116.64...    2.534724   \n",
       "49997  [ 98.95796658  74.37447494 208.95967899 184.37...    4.504549   \n",
       "49998  [216.96953005 124.36830288 354.97137079 262.37...    3.794728   \n",
       "49999  [ 87.3489876   40.05863073 157.63452292 110.34...    4.297943   \n",
       "\n",
       "                                           embeddings_fn  \n",
       "49995  [-0.5000435, 0.00827631, -0.9710353, 0.1913891...  \n",
       "49996  [-0.35872468, -0.41892233, -0.34107652, 0.4779...  \n",
       "49997  [-0.5445585, -1.0659486, 0.98557085, -0.59999,...  \n",
       "49998  [-1.4261917, -1.3674953, 0.7790535, 0.32420912...  \n",
       "49999  [-1.6472375, -1.7480907, -0.33489174, -0.07722...  "
      ]
     },
     "execution_count": 40,
     "metadata": {},
     "output_type": "execute_result"
    }
   ],
   "source": [
    "photo_df_d_test.tail()"
   ]
  },
  {
   "cell_type": "code",
   "execution_count": 36,
   "metadata": {},
   "outputs": [
    {
     "data": {
      "text/plain": [
       "numpy.ndarray"
      ]
     },
     "execution_count": 36,
     "metadata": {},
     "output_type": "execute_result"
    }
   ],
   "source": [
    "type(photo_df_c_test.embeddings_fn[499])"
   ]
  },
  {
   "cell_type": "code",
   "execution_count": null,
   "metadata": {},
   "outputs": [],
   "source": []
  },
  {
   "cell_type": "code",
   "execution_count": null,
   "metadata": {},
   "outputs": [],
   "source": []
  },
  {
   "cell_type": "code",
   "execution_count": null,
   "metadata": {},
   "outputs": [],
   "source": []
  },
  {
   "cell_type": "code",
   "execution_count": null,
   "metadata": {},
   "outputs": [],
   "source": [
    "def resize_picture(filename, dimensions = (160,160), margin = 0):\n",
    "            \n",
    "    # load the image\n",
    "    image = Image.open(filename)\n",
    "    image = image.convert('RGB')\n",
    "    image_array = asarray(image)\n",
    "    \n",
    "    #Set a margin boolean and while loop to try margin value\n",
    "    margin_error = True\n",
    "    \n",
    "    while margin_error:\n",
    "    \n",
    "        try:\n",
    "            #Crop the face further with MTCNN\n",
    "            detector = MTCNN()\n",
    "    \n",
    "            #Obtain the first detected face in the cropped face picture\n",
    "            first_detected_face = detector.detect_faces(image_array)[0]\n",
    "        \n",
    "            # get coordinates\n",
    "            x1, y1, width, height = first_detected_face['box']\n",
    "            x2, y2 = x1 + width + margin, y1 + height + margin       \n",
    "            x1 -= margin\n",
    "            y1 -= margin \n",
    "        \n",
    "            face_array = image_array[y1:y2, x1:x2]\n",
    "    \n",
    "        except:\n",
    "        \n",
    "            face_array = image_array\n",
    "        \n",
    "        try:\n",
    "            face_array_resized = Image.fromarray(face_array)\n",
    "            face_array_resized = face_array_resized.resize(dimensions)\n",
    "            \n",
    "            margin_error = False\n",
    "            break\n",
    "            \n",
    "        except:\n",
    "            \n",
    "            if margin > 0: \n",
    "                margin -= 1\n",
    "            else:\n",
    "                face_array_resized = Image.fromarray(image_array)\n",
    "                face_array_resized = face_array_resized.resize(dimensions)\n",
    "                break\n",
    "    \n",
    "    return asarray(face_array_resized)"
   ]
  },
  {
   "cell_type": "code",
   "execution_count": null,
   "metadata": {},
   "outputs": [],
   "source": [
    "#The following function is from 'Deep Learning for Computer Vision' by Jason Brownlee, Page (508)\n",
    "\n",
    "# get the face embedding for one face\n",
    "def get_embedding(model, face_pixels):\n",
    "    # scale pixel values\n",
    "    face_pixels = face_pixels.astype('float32')\n",
    "    # standardize pixel values across channels (global)\n",
    "    mean, std = face_pixels.mean(), face_pixels.std()\n",
    "    face_pixels = (face_pixels - mean) / std\n",
    "    # transform face into one sample\n",
    "    samples = expand_dims(face_pixels, axis=0)\n",
    "    # make prediction to get embedding\n",
    "    yhat = model.predict(samples)\n",
    "    return yhat[0]"
   ]
  },
  {
   "cell_type": "code",
   "execution_count": null,
   "metadata": {},
   "outputs": [],
   "source": [
    "# load the FaceNet model\n",
    "facenet_model = load_model('FaceNet_Model/facenet_keras.h5')\n",
    "#facenet_model.load_weights('FaceNet_Model/facenet_keras_weights.h5')\n",
    "#    print(facenet_model.inputs)\n",
    "#    print(facenet_model.outputs)"
   ]
  },
  {
   "cell_type": "code",
   "execution_count": null,
   "metadata": {},
   "outputs": [],
   "source": [
    "get_embedding(facenet_model, picture1)"
   ]
  },
  {
   "cell_type": "code",
   "execution_count": null,
   "metadata": {},
   "outputs": [],
   "source": [
    "#A check to see if the file path exists\n",
    "file_exists = 0\n",
    "file_not_exist = 0\n",
    "\n",
    "for i in photo_info.file_path:\n",
    "    if path.exists(i):\n",
    "        file_exists += 1\n",
    "    else: \n",
    "        file_not_exist += 1\n",
    "        \n",
    "print(file_exists)\n",
    "print(file_not_exist)"
   ]
  }
 ],
 "metadata": {
  "kernelspec": {
   "display_name": "Python 3",
   "language": "python",
   "name": "python3"
  },
  "language_info": {
   "codemirror_mode": {
    "name": "ipython",
    "version": 3
   },
   "file_extension": ".py",
   "mimetype": "text/x-python",
   "name": "python",
   "nbconvert_exporter": "python",
   "pygments_lexer": "ipython3",
   "version": "3.7.2"
  }
 },
 "nbformat": 4,
 "nbformat_minor": 2
}
