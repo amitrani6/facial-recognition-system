{
 "cells": [
  {
   "cell_type": "code",
   "execution_count": 1,
   "metadata": {},
   "outputs": [],
   "source": [
    "import numpy as np\n",
    "import pandas as pd\n",
    "\n",
    "import warnings\n",
    "warnings.filterwarnings('ignore')\n",
    "\n",
    "import os.path\n",
    "from os import path"
   ]
  },
  {
   "cell_type": "code",
   "execution_count": 2,
   "metadata": {},
   "outputs": [],
   "source": [
    "imdb = pd.read_csv('photo_metadata.csv')\n",
    "wiki = pd.read_csv('wiki_photo_metadata.csv')\n",
    "photo_df = pd.concat([imdb, wiki])"
   ]
  },
  {
   "cell_type": "code",
   "execution_count": 3,
   "metadata": {},
   "outputs": [],
   "source": [
    "imdb2 = pd.read_csv('photo_metadata_second_faces.csv')\n",
    "wiki2 = pd.read_csv('wiki_photo_metadata_second_faces.csv')\n",
    "photo_df2 = pd.concat([imdb2, wiki2])"
   ]
  },
  {
   "cell_type": "code",
   "execution_count": 4,
   "metadata": {},
   "outputs": [
    {
     "name": "stdout",
     "output_type": "stream",
     "text": [
      "<class 'pandas.core.frame.DataFrame'>\n",
      "Int64Index: 511817 entries, 0 to 59684\n",
      "Data columns (total 8 columns):\n",
      "name              511817 non-null object\n",
      "dob               511817 non-null object\n",
      "gender            511817 non-null float64\n",
      "photo_taken       511817 non-null int64\n",
      "age_when_taken    511817 non-null int64\n",
      "file_path         511817 non-null object\n",
      "face_location     511817 non-null object\n",
      "face_score        511817 non-null float64\n",
      "dtypes: float64(2), int64(2), object(4)\n",
      "memory usage: 35.1+ MB\n"
     ]
    }
   ],
   "source": [
    "photo_df.info()"
   ]
  },
  {
   "cell_type": "code",
   "execution_count": 5,
   "metadata": {},
   "outputs": [
    {
     "data": {
      "text/html": [
       "<div>\n",
       "<style scoped>\n",
       "    .dataframe tbody tr th:only-of-type {\n",
       "        vertical-align: middle;\n",
       "    }\n",
       "\n",
       "    .dataframe tbody tr th {\n",
       "        vertical-align: top;\n",
       "    }\n",
       "\n",
       "    .dataframe thead th {\n",
       "        text-align: right;\n",
       "    }\n",
       "</style>\n",
       "<table border=\"1\" class=\"dataframe\">\n",
       "  <thead>\n",
       "    <tr style=\"text-align: right;\">\n",
       "      <th></th>\n",
       "      <th>name</th>\n",
       "      <th>dob</th>\n",
       "      <th>gender</th>\n",
       "      <th>photo_taken</th>\n",
       "      <th>age_when_taken</th>\n",
       "      <th>file_path</th>\n",
       "      <th>face_location</th>\n",
       "      <th>face_score</th>\n",
       "    </tr>\n",
       "  </thead>\n",
       "  <tbody>\n",
       "    <tr>\n",
       "      <th>0</th>\n",
       "      <td>Fred Astaire</td>\n",
       "      <td>1899-05-10</td>\n",
       "      <td>1.0</td>\n",
       "      <td>1968</td>\n",
       "      <td>69</td>\n",
       "      <td>01/nm0000001_rm124825600_1899-5-10_1968.jpg</td>\n",
       "      <td>[1072.926  161.838 1214.784  303.696]</td>\n",
       "      <td>1.459693</td>\n",
       "    </tr>\n",
       "    <tr>\n",
       "      <th>1</th>\n",
       "      <td>Fred Astaire</td>\n",
       "      <td>1899-05-10</td>\n",
       "      <td>1.0</td>\n",
       "      <td>1970</td>\n",
       "      <td>71</td>\n",
       "      <td>01/nm0000001_rm3343756032_1899-5-10_1970.jpg</td>\n",
       "      <td>[477.184 100.352 622.592 245.76 ]</td>\n",
       "      <td>2.543198</td>\n",
       "    </tr>\n",
       "    <tr>\n",
       "      <th>2</th>\n",
       "      <td>Fred Astaire</td>\n",
       "      <td>1899-05-10</td>\n",
       "      <td>1.0</td>\n",
       "      <td>1968</td>\n",
       "      <td>69</td>\n",
       "      <td>01/nm0000001_rm577153792_1899-5-10_1968.jpg</td>\n",
       "      <td>[114.96964309 114.96964309 451.68657236 451.68...</td>\n",
       "      <td>3.455579</td>\n",
       "    </tr>\n",
       "    <tr>\n",
       "      <th>3</th>\n",
       "      <td>Fred Astaire</td>\n",
       "      <td>1899-05-10</td>\n",
       "      <td>1.0</td>\n",
       "      <td>1968</td>\n",
       "      <td>69</td>\n",
       "      <td>01/nm0000001_rm946909184_1899-5-10_1968.jpg</td>\n",
       "      <td>[622.88550564 424.21750384 844.33900767 645.67...</td>\n",
       "      <td>1.872117</td>\n",
       "    </tr>\n",
       "    <tr>\n",
       "      <th>4</th>\n",
       "      <td>Fred Astaire</td>\n",
       "      <td>1899-05-10</td>\n",
       "      <td>1.0</td>\n",
       "      <td>1968</td>\n",
       "      <td>69</td>\n",
       "      <td>01/nm0000001_rm980463616_1899-5-10_1968.jpg</td>\n",
       "      <td>[1013.85900236  233.88204221 1201.5861278   42...</td>\n",
       "      <td>1.158766</td>\n",
       "    </tr>\n",
       "  </tbody>\n",
       "</table>\n",
       "</div>"
      ],
      "text/plain": [
       "           name         dob  gender  photo_taken  age_when_taken  \\\n",
       "0  Fred Astaire  1899-05-10     1.0         1968              69   \n",
       "1  Fred Astaire  1899-05-10     1.0         1970              71   \n",
       "2  Fred Astaire  1899-05-10     1.0         1968              69   \n",
       "3  Fred Astaire  1899-05-10     1.0         1968              69   \n",
       "4  Fred Astaire  1899-05-10     1.0         1968              69   \n",
       "\n",
       "                                      file_path  \\\n",
       "0   01/nm0000001_rm124825600_1899-5-10_1968.jpg   \n",
       "1  01/nm0000001_rm3343756032_1899-5-10_1970.jpg   \n",
       "2   01/nm0000001_rm577153792_1899-5-10_1968.jpg   \n",
       "3   01/nm0000001_rm946909184_1899-5-10_1968.jpg   \n",
       "4   01/nm0000001_rm980463616_1899-5-10_1968.jpg   \n",
       "\n",
       "                                       face_location  face_score  \n",
       "0              [1072.926  161.838 1214.784  303.696]    1.459693  \n",
       "1                  [477.184 100.352 622.592 245.76 ]    2.543198  \n",
       "2  [114.96964309 114.96964309 451.68657236 451.68...    3.455579  \n",
       "3  [622.88550564 424.21750384 844.33900767 645.67...    1.872117  \n",
       "4  [1013.85900236  233.88204221 1201.5861278   42...    1.158766  "
      ]
     },
     "execution_count": 5,
     "metadata": {},
     "output_type": "execute_result"
    }
   ],
   "source": [
    "photo_df.head()"
   ]
  },
  {
   "cell_type": "code",
   "execution_count": 6,
   "metadata": {},
   "outputs": [
    {
     "name": "stdout",
     "output_type": "stream",
     "text": [
      "511817\n",
      "0\n"
     ]
    }
   ],
   "source": [
    "#A check to see if the file path exists\n",
    "file_exists = 0\n",
    "file_not_exist = 0\n",
    "\n",
    "for i in photo_df.file_path:\n",
    "    if path.exists('imdb_data/' + i):\n",
    "        file_exists += 1\n",
    "    elif path.exists('wiki_data/' + i):\n",
    "        file_exists += 1\n",
    "    else: \n",
    "        file_not_exist += 1\n",
    "        \n",
    "print(file_exists)\n",
    "print(file_not_exist)"
   ]
  },
  {
   "cell_type": "code",
   "execution_count": 7,
   "metadata": {},
   "outputs": [
    {
     "data": {
      "text/plain": [
       "72177"
      ]
     },
     "execution_count": 7,
     "metadata": {},
     "output_type": "execute_result"
    }
   ],
   "source": [
    "photo_df.name.nunique()"
   ]
  },
  {
   "cell_type": "code",
   "execution_count": 8,
   "metadata": {},
   "outputs": [
    {
     "data": {
      "text/plain": [
       "name              511817\n",
       "dob               511817\n",
       "gender            511817\n",
       "photo_taken       511817\n",
       "age_when_taken    511817\n",
       "file_path         511817\n",
       "face_location     511817\n",
       "face_score        511817\n",
       "dtype: int64"
      ]
     },
     "execution_count": 8,
     "metadata": {},
     "output_type": "execute_result"
    }
   ],
   "source": [
    "photo_df.count()"
   ]
  },
  {
   "cell_type": "code",
   "execution_count": 9,
   "metadata": {},
   "outputs": [
    {
     "name": "stdout",
     "output_type": "stream",
     "text": [
      "<class 'pandas.core.frame.DataFrame'>\n",
      "Int64Index: 298367 entries, 3 to 59684\n",
      "Data columns (total 8 columns):\n",
      "name              298367 non-null object\n",
      "dob               298367 non-null object\n",
      "gender            298367 non-null float64\n",
      "photo_taken       298367 non-null int64\n",
      "age_when_taken    298367 non-null int64\n",
      "file_path         298367 non-null object\n",
      "face_location     298367 non-null object\n",
      "face_score        298367 non-null float64\n",
      "dtypes: float64(2), int64(2), object(4)\n",
      "memory usage: 20.5+ MB\n"
     ]
    }
   ],
   "source": [
    "photo_df2 = photo_df2[photo_df2.second_face_score.isnull()]\n",
    "photo_df2.drop(columns = {'second_face_score'}, axis = 1, inplace = True)\n",
    "photo_df2.reset_index(drop=True)\n",
    "photo_df2.info()"
   ]
  },
  {
   "cell_type": "code",
   "execution_count": 11,
   "metadata": {},
   "outputs": [
    {
     "data": {
      "text/html": [
       "<div>\n",
       "<style scoped>\n",
       "    .dataframe tbody tr th:only-of-type {\n",
       "        vertical-align: middle;\n",
       "    }\n",
       "\n",
       "    .dataframe tbody tr th {\n",
       "        vertical-align: top;\n",
       "    }\n",
       "\n",
       "    .dataframe thead th {\n",
       "        text-align: right;\n",
       "    }\n",
       "</style>\n",
       "<table border=\"1\" class=\"dataframe\">\n",
       "  <thead>\n",
       "    <tr style=\"text-align: right;\">\n",
       "      <th></th>\n",
       "      <th>name</th>\n",
       "      <th>dob</th>\n",
       "      <th>gender</th>\n",
       "      <th>photo_taken</th>\n",
       "      <th>age_when_taken</th>\n",
       "      <th>file_path</th>\n",
       "      <th>face_location</th>\n",
       "      <th>face_score</th>\n",
       "    </tr>\n",
       "  </thead>\n",
       "  <tbody>\n",
       "    <tr>\n",
       "      <th>3</th>\n",
       "      <td>Fred Astaire</td>\n",
       "      <td>1899-05-10</td>\n",
       "      <td>1.0</td>\n",
       "      <td>1968</td>\n",
       "      <td>69</td>\n",
       "      <td>01/nm0000001_rm946909184_1899-5-10_1968.jpg</td>\n",
       "      <td>[622.88550564 424.21750384 844.33900767 645.67...</td>\n",
       "      <td>1.872117</td>\n",
       "    </tr>\n",
       "    <tr>\n",
       "      <th>4</th>\n",
       "      <td>Fred Astaire</td>\n",
       "      <td>1899-05-10</td>\n",
       "      <td>1.0</td>\n",
       "      <td>1968</td>\n",
       "      <td>69</td>\n",
       "      <td>01/nm0000001_rm980463616_1899-5-10_1968.jpg</td>\n",
       "      <td>[1013.85900236  233.88204221 1201.5861278   42...</td>\n",
       "      <td>1.158766</td>\n",
       "    </tr>\n",
       "    <tr>\n",
       "      <th>57009</th>\n",
       "      <td>Fred Astaire</td>\n",
       "      <td>1899-05-10</td>\n",
       "      <td>1.0</td>\n",
       "      <td>1941</td>\n",
       "      <td>42</td>\n",
       "      <td>62/64962_1899-05-10_1941.jpg</td>\n",
       "      <td>[115.24513741  69.49908244 320.22238474 274.47...</td>\n",
       "      <td>4.236289</td>\n",
       "    </tr>\n",
       "  </tbody>\n",
       "</table>\n",
       "</div>"
      ],
      "text/plain": [
       "               name         dob  gender  photo_taken  age_when_taken  \\\n",
       "3      Fred Astaire  1899-05-10     1.0         1968              69   \n",
       "4      Fred Astaire  1899-05-10     1.0         1968              69   \n",
       "57009  Fred Astaire  1899-05-10     1.0         1941              42   \n",
       "\n",
       "                                         file_path  \\\n",
       "3      01/nm0000001_rm946909184_1899-5-10_1968.jpg   \n",
       "4      01/nm0000001_rm980463616_1899-5-10_1968.jpg   \n",
       "57009                 62/64962_1899-05-10_1941.jpg   \n",
       "\n",
       "                                           face_location  face_score  \n",
       "3      [622.88550564 424.21750384 844.33900767 645.67...    1.872117  \n",
       "4      [1013.85900236  233.88204221 1201.5861278   42...    1.158766  \n",
       "57009  [115.24513741  69.49908244 320.22238474 274.47...    4.236289  "
      ]
     },
     "execution_count": 11,
     "metadata": {},
     "output_type": "execute_result"
    }
   ],
   "source": [
    "photo_df2[photo_df2.name == 'Fred Astaire']"
   ]
  },
  {
   "cell_type": "code",
   "execution_count": null,
   "metadata": {},
   "outputs": [],
   "source": []
  }
 ],
 "metadata": {
  "kernelspec": {
   "display_name": "Python 3",
   "language": "python",
   "name": "python3"
  },
  "language_info": {
   "codemirror_mode": {
    "name": "ipython",
    "version": 3
   },
   "file_extension": ".py",
   "mimetype": "text/x-python",
   "name": "python",
   "nbconvert_exporter": "python",
   "pygments_lexer": "ipython3",
   "version": "3.7.2"
  }
 },
 "nbformat": 4,
 "nbformat_minor": 2
}
