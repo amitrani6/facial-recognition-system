{
 "cells": [
  {
   "cell_type": "code",
   "execution_count": 1,
   "metadata": {},
   "outputs": [],
   "source": [
    "import pandas as pd\n",
    "import numpy as np\n",
    "from numpy import asarray\n",
    "\n",
    "import os, shutil"
   ]
  },
  {
   "cell_type": "markdown",
   "metadata": {},
   "source": [
    "## The Main DataFrames:"
   ]
  },
  {
   "cell_type": "code",
   "execution_count": 2,
   "metadata": {},
   "outputs": [],
   "source": [
    "#Load the converted metadata files for the IMDB and Wikipedia images\n",
    "photo_df = pd.read_csv('photo_info_df/All_photo_data.csv')"
   ]
  },
  {
   "cell_type": "code",
   "execution_count": 3,
   "metadata": {
    "scrolled": false
   },
   "outputs": [
    {
     "data": {
      "text/html": [
       "<div>\n",
       "<style scoped>\n",
       "    .dataframe tbody tr th:only-of-type {\n",
       "        vertical-align: middle;\n",
       "    }\n",
       "\n",
       "    .dataframe tbody tr th {\n",
       "        vertical-align: top;\n",
       "    }\n",
       "\n",
       "    .dataframe thead th {\n",
       "        text-align: right;\n",
       "    }\n",
       "</style>\n",
       "<table border=\"1\" class=\"dataframe\">\n",
       "  <thead>\n",
       "    <tr style=\"text-align: right;\">\n",
       "      <th></th>\n",
       "      <th>name</th>\n",
       "      <th>dob</th>\n",
       "      <th>gender</th>\n",
       "      <th>photo_taken</th>\n",
       "      <th>age_when_taken</th>\n",
       "      <th>file_path</th>\n",
       "      <th>face_location</th>\n",
       "      <th>face_score</th>\n",
       "    </tr>\n",
       "  </thead>\n",
       "  <tbody>\n",
       "    <tr>\n",
       "      <th>0</th>\n",
       "      <td>Fred Astaire</td>\n",
       "      <td>1899-05-10</td>\n",
       "      <td>1.0</td>\n",
       "      <td>1968</td>\n",
       "      <td>69</td>\n",
       "      <td>image_data/imdb_data/01/nm0000001_rm124825600_...</td>\n",
       "      <td>[1072.926  161.838 1214.784  303.696]</td>\n",
       "      <td>1.459693</td>\n",
       "    </tr>\n",
       "    <tr>\n",
       "      <th>1</th>\n",
       "      <td>Fred Astaire</td>\n",
       "      <td>1899-05-10</td>\n",
       "      <td>1.0</td>\n",
       "      <td>1970</td>\n",
       "      <td>71</td>\n",
       "      <td>image_data/imdb_data/01/nm0000001_rm3343756032...</td>\n",
       "      <td>[477.184 100.352 622.592 245.76 ]</td>\n",
       "      <td>2.543198</td>\n",
       "    </tr>\n",
       "    <tr>\n",
       "      <th>2</th>\n",
       "      <td>Fred Astaire</td>\n",
       "      <td>1899-05-10</td>\n",
       "      <td>1.0</td>\n",
       "      <td>1968</td>\n",
       "      <td>69</td>\n",
       "      <td>image_data/imdb_data/01/nm0000001_rm577153792_...</td>\n",
       "      <td>[114.96964309 114.96964309 451.68657236 451.68...</td>\n",
       "      <td>3.455579</td>\n",
       "    </tr>\n",
       "    <tr>\n",
       "      <th>3</th>\n",
       "      <td>Fred Astaire</td>\n",
       "      <td>1899-05-10</td>\n",
       "      <td>1.0</td>\n",
       "      <td>1968</td>\n",
       "      <td>69</td>\n",
       "      <td>image_data/imdb_data/01/nm0000001_rm946909184_...</td>\n",
       "      <td>[622.88550564 424.21750384 844.33900767 645.67...</td>\n",
       "      <td>1.872117</td>\n",
       "    </tr>\n",
       "    <tr>\n",
       "      <th>4</th>\n",
       "      <td>Fred Astaire</td>\n",
       "      <td>1899-05-10</td>\n",
       "      <td>1.0</td>\n",
       "      <td>1968</td>\n",
       "      <td>69</td>\n",
       "      <td>image_data/imdb_data/01/nm0000001_rm980463616_...</td>\n",
       "      <td>[1013.85900236  233.88204221 1201.5861278   42...</td>\n",
       "      <td>1.158766</td>\n",
       "    </tr>\n",
       "  </tbody>\n",
       "</table>\n",
       "</div>"
      ],
      "text/plain": [
       "           name         dob  gender  photo_taken  age_when_taken  \\\n",
       "0  Fred Astaire  1899-05-10     1.0         1968              69   \n",
       "1  Fred Astaire  1899-05-10     1.0         1970              71   \n",
       "2  Fred Astaire  1899-05-10     1.0         1968              69   \n",
       "3  Fred Astaire  1899-05-10     1.0         1968              69   \n",
       "4  Fred Astaire  1899-05-10     1.0         1968              69   \n",
       "\n",
       "                                           file_path  \\\n",
       "0  image_data/imdb_data/01/nm0000001_rm124825600_...   \n",
       "1  image_data/imdb_data/01/nm0000001_rm3343756032...   \n",
       "2  image_data/imdb_data/01/nm0000001_rm577153792_...   \n",
       "3  image_data/imdb_data/01/nm0000001_rm946909184_...   \n",
       "4  image_data/imdb_data/01/nm0000001_rm980463616_...   \n",
       "\n",
       "                                       face_location  face_score  \n",
       "0              [1072.926  161.838 1214.784  303.696]    1.459693  \n",
       "1                  [477.184 100.352 622.592 245.76 ]    2.543198  \n",
       "2  [114.96964309 114.96964309 451.68657236 451.68...    3.455579  \n",
       "3  [622.88550564 424.21750384 844.33900767 645.67...    1.872117  \n",
       "4  [1013.85900236  233.88204221 1201.5861278   42...    1.158766  "
      ]
     },
     "execution_count": 3,
     "metadata": {},
     "output_type": "execute_result"
    }
   ],
   "source": [
    "photo_df.head()"
   ]
  },
  {
   "cell_type": "code",
   "execution_count": 4,
   "metadata": {},
   "outputs": [],
   "source": [
    "remaining_folders_to_move = list(range(45,99,1))"
   ]
  },
  {
   "cell_type": "code",
   "execution_count": 29,
   "metadata": {},
   "outputs": [],
   "source": [
    "#Run only once to create the main folder\n",
    "#new_direct = main_image_dir + 'new_image_data/'\n",
    "#new_main_folder = os.mkdir(new_direct)"
   ]
  },
  {
   "cell_type": "code",
   "execution_count": 5,
   "metadata": {
    "scrolled": true
   },
   "outputs": [
    {
     "name": "stdout",
     "output_type": "stream",
     "text": [
      "\n",
      "There are 5000 files currently in folder 45.\n",
      "There will be 3584 files transfered.\n",
      "image_data/new_image_data/45\n",
      "3584 files have been moved from folder 45.\n",
      "1416 files in folder 45 haven't been moved\n",
      "\n",
      "\n",
      "There are 4410 files currently in folder 46.\n",
      "There will be 3258 files transfered.\n",
      "image_data/new_image_data/46\n",
      "3258 files have been moved from folder 46.\n",
      "1152 files in folder 46 haven't been moved\n",
      "\n",
      "\n",
      "There are 3443 files currently in folder 47.\n",
      "There will be 2511 files transfered.\n",
      "image_data/new_image_data/47\n",
      "2511 files have been moved from folder 47.\n",
      "932 files in folder 47 haven't been moved\n",
      "\n",
      "\n",
      "There are 4100 files currently in folder 48.\n",
      "There will be 2889 files transfered.\n",
      "image_data/new_image_data/48\n",
      "2889 files have been moved from folder 48.\n",
      "1211 files in folder 48 haven't been moved\n",
      "\n",
      "\n",
      "There are 4506 files currently in folder 49.\n",
      "There will be 3386 files transfered.\n",
      "image_data/new_image_data/49\n",
      "3386 files have been moved from folder 49.\n",
      "1120 files in folder 49 haven't been moved\n",
      "\n"
     ]
    }
   ],
   "source": [
    "main_image_dir = 'image_data/'\n",
    "\n",
    "\n",
    "total_files_moved = 0\n",
    "\n",
    "for i in remaining_folders_to_move[0:5]:\n",
    "\n",
    "    print(\"\")\n",
    "    original_dir = main_image_dir + 'imdb_data/{}'.format(str(i))\n",
    "    \n",
    "    imagelist = [file for file in os.listdir(original_dir) if file.endswith('.jpg')]\n",
    "    original_files = len(imagelist)\n",
    "    print('There are {} files currently in folder {}.'.format(original_files, str(i)))\n",
    "    \n",
    "    files_to_be_moved = photo_df.file_path.loc[photo_df.file_path.str.startswith('image_data/imdb_data/{}'.format(str(i)))].tolist()\n",
    "    print(\"There will be {} files transfered.\".format(str(len(files_to_be_moved))))\n",
    "\n",
    "         \n",
    "    new_direct = main_image_dir + 'new_image_data/'\n",
    "    \n",
    "    new_folder_path = os.path.join(new_direct, str(i))\n",
    "    print(new_folder_path)\n",
    "    os.mkdir(new_folder_path)\n",
    "    \n",
    "    count_moved_images_current_folder = 0\n",
    "    \n",
    "    for img in files_to_be_moved:\n",
    "        count_moved_images_current_folder += 1\n",
    "        origin = img\n",
    "        destination = os.path.join(new_folder_path, img[29:])\n",
    "        shutil.copyfile(origin, destination)\n",
    "            \n",
    "    print(\"{} files have been moved from folder {}.\".format(str(count_moved_images_current_folder), str(i)))\n",
    "    files_not_added = original_files - count_moved_images_current_folder\n",
    "    \n",
    "    print(\"{} files in folder {} haven't been moved\".format(str(files_not_added), str(i)))\n",
    "    print(\"\")"
   ]
  },
  {
   "cell_type": "code",
   "execution_count": null,
   "metadata": {},
   "outputs": [],
   "source": []
  }
 ],
 "metadata": {
  "kernelspec": {
   "display_name": "Python 3",
   "language": "python",
   "name": "python3"
  },
  "language_info": {
   "codemirror_mode": {
    "name": "ipython",
    "version": 3
   },
   "file_extension": ".py",
   "mimetype": "text/x-python",
   "name": "python",
   "nbconvert_exporter": "python",
   "pygments_lexer": "ipython3",
   "version": "3.7.2"
  }
 },
 "nbformat": 4,
 "nbformat_minor": 2
}
