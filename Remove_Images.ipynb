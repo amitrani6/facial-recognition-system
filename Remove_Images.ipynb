{
 "cells": [
  {
   "cell_type": "code",
   "execution_count": 1,
   "metadata": {},
   "outputs": [],
   "source": [
    "import pandas as pd\n",
    "import numpy as np\n",
    "from numpy import asarray\n",
    "\n",
    "from PIL import Image\n",
    "\n",
    "\n",
    "from tqdm import tqdm\n",
    "from tqdm import tqdm_notebook\n",
    "\n",
    "from numpy import expand_dims\n",
    "from numpy import savez_compressed\n",
    "\n",
    "import ast\n"
   ]
  },
  {
   "cell_type": "code",
   "execution_count": 2,
   "metadata": {},
   "outputs": [],
   "source": [
    "#Load the Dataframes with embeddings\n",
    "photo_df_a = pd.read_csv('photo_info_df/photo_dfs_with_embeddings_fn/photo_dataframe_fn_embeddings_a.csv')\n",
    "photo_df_b = pd.read_csv('photo_info_df/photo_dfs_with_embeddings_fn/photo_dataframe_fn_embeddings_b.csv')\n",
    "photo_df_c = pd.read_csv('photo_info_df/photo_dfs_with_embeddings_fn/photo_dataframe_fn_embeddings_c.csv')\n",
    "photo_df_d = pd.read_csv('photo_info_df/photo_dfs_with_embeddings_fn/photo_dataframe_fn_embeddings_d.csv')\n",
    "photo_df_e = pd.read_csv('photo_info_df/photo_dfs_with_embeddings_fn/photo_dataframe_fn_embeddings_e.csv')\n",
    "photo_df_f = pd.read_csv('photo_info_df/photo_dfs_with_embeddings_fn/photo_dataframe_fn_embeddings_f.csv')\n",
    "photo_df_g = pd.read_csv('photo_info_df/photo_dfs_with_embeddings_fn/photo_dataframe_fn_embeddings_g.csv')\n",
    "photo_df_h = pd.read_csv('photo_info_df/photo_dfs_with_embeddings_fn/photo_dataframe_fn_embeddings_h.csv')"
   ]
  },
  {
   "cell_type": "code",
   "execution_count": 8,
   "metadata": {},
   "outputs": [
    {
     "data": {
      "text/plain": [
       "name                                                   Noel Redding\n",
       "dob                                                      1945-12-25\n",
       "gender                                                            1\n",
       "photo_taken                                                    1967\n",
       "age_when_taken                                                   22\n",
       "file_path         image_data/wiki_data/45/226445_1945-12-25_1967...\n",
       "face_location     [172.48375401 129.6128155  248.65144331 205.78...\n",
       "face_score                                                   1.2101\n",
       "embeddings_fn     [nan nan nan nan nan nan nan nan nan nan nan n...\n",
       "Name: 7428, dtype: object"
      ]
     },
     "execution_count": 8,
     "metadata": {},
     "output_type": "execute_result"
    }
   ],
   "source": [
    "photo_df_h.loc[7428]\n"
   ]
  },
  {
   "cell_type": "code",
   "execution_count": 3,
   "metadata": {},
   "outputs": [],
   "source": [
    "#Upon further inspection row 7428 in Dataframe h is the only one that breaks in my conversion function,\n",
    "#this is because nans were returned by the model, I looked into this further and found that the picture\n",
    "#is just a white square, I remove this row here\n",
    "photo_df_h.drop(photo_df_h.index[7428], inplace = True)\n",
    "\n",
    "\n",
    "#Concat the dataframes\n",
    "photo_df = pd.concat([photo_df_a, photo_df_b, photo_df_c, photo_df_d, photo_df_e, photo_df_f, photo_df_g, photo_df_h]).reset_index(drop=True)"
   ]
  },
  {
   "cell_type": "code",
   "execution_count": 4,
   "metadata": {},
   "outputs": [
    {
     "data": {
      "text/html": [
       "<div>\n",
       "<style scoped>\n",
       "    .dataframe tbody tr th:only-of-type {\n",
       "        vertical-align: middle;\n",
       "    }\n",
       "\n",
       "    .dataframe tbody tr th {\n",
       "        vertical-align: top;\n",
       "    }\n",
       "\n",
       "    .dataframe thead th {\n",
       "        text-align: right;\n",
       "    }\n",
       "</style>\n",
       "<table border=\"1\" class=\"dataframe\">\n",
       "  <thead>\n",
       "    <tr style=\"text-align: right;\">\n",
       "      <th></th>\n",
       "      <th>name</th>\n",
       "      <th>dob</th>\n",
       "      <th>gender</th>\n",
       "      <th>photo_taken</th>\n",
       "      <th>age_when_taken</th>\n",
       "      <th>file_path</th>\n",
       "      <th>face_location</th>\n",
       "      <th>face_score</th>\n",
       "      <th>embeddings_fn</th>\n",
       "    </tr>\n",
       "  </thead>\n",
       "  <tbody>\n",
       "    <tr>\n",
       "      <th>0</th>\n",
       "      <td>Fred Astaire</td>\n",
       "      <td>1899-05-10</td>\n",
       "      <td>1.0</td>\n",
       "      <td>1968</td>\n",
       "      <td>69</td>\n",
       "      <td>image_data/imdb_data/01/nm0000001_rm124825600_...</td>\n",
       "      <td>[1072.926  161.838 1214.784  303.696]</td>\n",
       "      <td>1.459693</td>\n",
       "      <td>[-0.74029577  0.14542007 -0.5782049  -0.007681...</td>\n",
       "    </tr>\n",
       "    <tr>\n",
       "      <th>1</th>\n",
       "      <td>Fred Astaire</td>\n",
       "      <td>1899-05-10</td>\n",
       "      <td>1.0</td>\n",
       "      <td>1970</td>\n",
       "      <td>71</td>\n",
       "      <td>image_data/imdb_data/01/nm0000001_rm3343756032...</td>\n",
       "      <td>[477.184 100.352 622.592 245.76 ]</td>\n",
       "      <td>2.543198</td>\n",
       "      <td>[-0.1463713  -0.5106522  -0.48219085 -0.486318...</td>\n",
       "    </tr>\n",
       "    <tr>\n",
       "      <th>2</th>\n",
       "      <td>Fred Astaire</td>\n",
       "      <td>1899-05-10</td>\n",
       "      <td>1.0</td>\n",
       "      <td>1968</td>\n",
       "      <td>69</td>\n",
       "      <td>image_data/imdb_data/01/nm0000001_rm577153792_...</td>\n",
       "      <td>[114.96964309 114.96964309 451.68657236 451.68...</td>\n",
       "      <td>3.455579</td>\n",
       "      <td>[ 0.35580358  0.14148678  0.11161471 -0.294302...</td>\n",
       "    </tr>\n",
       "    <tr>\n",
       "      <th>3</th>\n",
       "      <td>Fred Astaire</td>\n",
       "      <td>1899-05-10</td>\n",
       "      <td>1.0</td>\n",
       "      <td>1968</td>\n",
       "      <td>69</td>\n",
       "      <td>image_data/imdb_data/01/nm0000001_rm946909184_...</td>\n",
       "      <td>[622.88550564 424.21750384 844.33900767 645.67...</td>\n",
       "      <td>1.872117</td>\n",
       "      <td>[ 0.1044133  -0.80462444 -0.86017245 -0.593098...</td>\n",
       "    </tr>\n",
       "    <tr>\n",
       "      <th>4</th>\n",
       "      <td>Fred Astaire</td>\n",
       "      <td>1899-05-10</td>\n",
       "      <td>1.0</td>\n",
       "      <td>1968</td>\n",
       "      <td>69</td>\n",
       "      <td>image_data/imdb_data/01/nm0000001_rm980463616_...</td>\n",
       "      <td>[1013.85900236  233.88204221 1201.5861278   42...</td>\n",
       "      <td>1.158766</td>\n",
       "      <td>[-1.3740315  -0.807325   -0.21413553  0.019938...</td>\n",
       "    </tr>\n",
       "  </tbody>\n",
       "</table>\n",
       "</div>"
      ],
      "text/plain": [
       "           name         dob  gender  photo_taken  age_when_taken  \\\n",
       "0  Fred Astaire  1899-05-10     1.0         1968              69   \n",
       "1  Fred Astaire  1899-05-10     1.0         1970              71   \n",
       "2  Fred Astaire  1899-05-10     1.0         1968              69   \n",
       "3  Fred Astaire  1899-05-10     1.0         1968              69   \n",
       "4  Fred Astaire  1899-05-10     1.0         1968              69   \n",
       "\n",
       "                                           file_path  \\\n",
       "0  image_data/imdb_data/01/nm0000001_rm124825600_...   \n",
       "1  image_data/imdb_data/01/nm0000001_rm3343756032...   \n",
       "2  image_data/imdb_data/01/nm0000001_rm577153792_...   \n",
       "3  image_data/imdb_data/01/nm0000001_rm946909184_...   \n",
       "4  image_data/imdb_data/01/nm0000001_rm980463616_...   \n",
       "\n",
       "                                       face_location  face_score  \\\n",
       "0              [1072.926  161.838 1214.784  303.696]    1.459693   \n",
       "1                  [477.184 100.352 622.592 245.76 ]    2.543198   \n",
       "2  [114.96964309 114.96964309 451.68657236 451.68...    3.455579   \n",
       "3  [622.88550564 424.21750384 844.33900767 645.67...    1.872117   \n",
       "4  [1013.85900236  233.88204221 1201.5861278   42...    1.158766   \n",
       "\n",
       "                                       embeddings_fn  \n",
       "0  [-0.74029577  0.14542007 -0.5782049  -0.007681...  \n",
       "1  [-0.1463713  -0.5106522  -0.48219085 -0.486318...  \n",
       "2  [ 0.35580358  0.14148678  0.11161471 -0.294302...  \n",
       "3  [ 0.1044133  -0.80462444 -0.86017245 -0.593098...  \n",
       "4  [-1.3740315  -0.807325   -0.21413553  0.019938...  "
      ]
     },
     "execution_count": 4,
     "metadata": {},
     "output_type": "execute_result"
    }
   ],
   "source": [
    "photo_df.head()"
   ]
  },
  {
   "cell_type": "code",
   "execution_count": 5,
   "metadata": {},
   "outputs": [],
   "source": [
    "#This function converts the saved string in the 'embeddings_fn' column to a numpy array\n",
    "\n",
    "def convert_csv_to_embeddings(embedding_string):\n",
    "    \n",
    "    #I replace the '\\n' and spaces in descending sequential order\n",
    "    embedding_string = embedding_string.replace('\\n', '').replace('     ', ' ').replace('    ', ' ').replace('   ', ' ').replace('  ', ' ').replace('[ ', '[').replace(' ]', ']').replace(' ', ', ')\n",
    "    \n",
    "    #This returns the string as an array in the proper type\n",
    "    return asarray(ast.literal_eval(embedding_string)).astype('float32')\n",
    "\n",
    "\n",
    "\n"
   ]
  },
  {
   "cell_type": "code",
   "execution_count": 6,
   "metadata": {},
   "outputs": [
    {
     "name": "stderr",
     "output_type": "stream",
     "text": [
      "100%|██████████| 372916/372916 [02:25<00:00, 2562.10it/s]\n"
     ]
    }
   ],
   "source": [
    "tqdm.pandas()\n",
    "photo_df.embeddings_fn = photo_df.embeddings_fn.progress_apply(lambda x: convert_csv_to_embeddings(x))\n",
    "\n"
   ]
  },
  {
   "cell_type": "code",
   "execution_count": 7,
   "metadata": {},
   "outputs": [
    {
     "name": "stdout",
     "output_type": "stream",
     "text": [
      "<class 'pandas.core.frame.DataFrame'>\n",
      "RangeIndex: 372916 entries, 0 to 372915\n",
      "Data columns (total 9 columns):\n",
      "name              372916 non-null object\n",
      "dob               372916 non-null object\n",
      "gender            372916 non-null float64\n",
      "photo_taken       372916 non-null int64\n",
      "age_when_taken    372916 non-null int64\n",
      "file_path         372916 non-null object\n",
      "face_location     372916 non-null object\n",
      "face_score        372916 non-null float64\n",
      "embeddings_fn     372916 non-null object\n",
      "dtypes: float64(2), int64(2), object(5)\n",
      "memory usage: 25.6+ MB\n"
     ]
    }
   ],
   "source": [
    "photo_df.info()"
   ]
  },
  {
   "cell_type": "code",
   "execution_count": 8,
   "metadata": {},
   "outputs": [],
   "source": [
    "photo_meta = pd.read_csv('Photo_Dataframes/All_Photo_Data.csv')"
   ]
  },
  {
   "cell_type": "code",
   "execution_count": 9,
   "metadata": {},
   "outputs": [
    {
     "name": "stdout",
     "output_type": "stream",
     "text": [
      "<class 'pandas.core.frame.DataFrame'>\n",
      "RangeIndex: 264534 entries, 0 to 264533\n",
      "Data columns (total 8 columns):\n",
      "name              264534 non-null object\n",
      "dob               264534 non-null object\n",
      "gender            264534 non-null float64\n",
      "photo_taken       264534 non-null int64\n",
      "age_when_taken    264534 non-null int64\n",
      "file_path         264534 non-null object\n",
      "face_location     264534 non-null object\n",
      "face_score        264534 non-null float64\n",
      "dtypes: float64(2), int64(2), object(4)\n",
      "memory usage: 16.1+ MB\n"
     ]
    }
   ],
   "source": [
    "photo_meta.info()"
   ]
  },
  {
   "cell_type": "code",
   "execution_count": 10,
   "metadata": {},
   "outputs": [
    {
     "data": {
      "text/html": [
       "<div>\n",
       "<style scoped>\n",
       "    .dataframe tbody tr th:only-of-type {\n",
       "        vertical-align: middle;\n",
       "    }\n",
       "\n",
       "    .dataframe tbody tr th {\n",
       "        vertical-align: top;\n",
       "    }\n",
       "\n",
       "    .dataframe thead th {\n",
       "        text-align: right;\n",
       "    }\n",
       "</style>\n",
       "<table border=\"1\" class=\"dataframe\">\n",
       "  <thead>\n",
       "    <tr style=\"text-align: right;\">\n",
       "      <th></th>\n",
       "      <th>name</th>\n",
       "      <th>dob</th>\n",
       "      <th>gender</th>\n",
       "      <th>photo_taken</th>\n",
       "      <th>age_when_taken</th>\n",
       "      <th>file_path</th>\n",
       "      <th>face_location</th>\n",
       "      <th>face_score</th>\n",
       "      <th>embeddings_fn</th>\n",
       "    </tr>\n",
       "  </thead>\n",
       "  <tbody>\n",
       "    <tr>\n",
       "      <th>0</th>\n",
       "      <td>Fred Astaire</td>\n",
       "      <td>1899-05-10</td>\n",
       "      <td>1.0</td>\n",
       "      <td>1968</td>\n",
       "      <td>69</td>\n",
       "      <td>image_data/imdb_data/01/nm0000001_rm946909184_...</td>\n",
       "      <td>[622.88550564 424.21750384 844.33900767 645.67...</td>\n",
       "      <td>1.872117</td>\n",
       "      <td>[0.1044133, -0.80462444, -0.86017245, -0.59309...</td>\n",
       "    </tr>\n",
       "    <tr>\n",
       "      <th>1</th>\n",
       "      <td>Fred Astaire</td>\n",
       "      <td>1899-05-10</td>\n",
       "      <td>1.0</td>\n",
       "      <td>1968</td>\n",
       "      <td>69</td>\n",
       "      <td>image_data/imdb_data/01/nm0000001_rm980463616_...</td>\n",
       "      <td>[1013.85900236  233.88204221 1201.5861278   42...</td>\n",
       "      <td>1.158766</td>\n",
       "      <td>[-1.3740315, -0.807325, -0.21413553, 0.0199386...</td>\n",
       "    </tr>\n",
       "    <tr>\n",
       "      <th>2</th>\n",
       "      <td>Lauren Bacall</td>\n",
       "      <td>1924-09-16</td>\n",
       "      <td>0.0</td>\n",
       "      <td>1991</td>\n",
       "      <td>67</td>\n",
       "      <td>image_data/imdb_data/02/nm0000002_rm1075631616...</td>\n",
       "      <td>[ 686.67682059  458.46721373 1198.10043604  96...</td>\n",
       "      <td>3.490563</td>\n",
       "      <td>[-2.134354, 0.60471165, 0.35341397, -1.1716923...</td>\n",
       "    </tr>\n",
       "    <tr>\n",
       "      <th>3</th>\n",
       "      <td>Lauren Bacall</td>\n",
       "      <td>1924-09-16</td>\n",
       "      <td>0.0</td>\n",
       "      <td>2004</td>\n",
       "      <td>80</td>\n",
       "      <td>image_data/imdb_data/02/nm0000002_rm1346607872...</td>\n",
       "      <td>[ 78.23569407  52.33512938 194.25423516 168.35...</td>\n",
       "      <td>3.479189</td>\n",
       "      <td>[-0.4142363, 0.04628806, -0.04605452, -1.31644...</td>\n",
       "    </tr>\n",
       "    <tr>\n",
       "      <th>4</th>\n",
       "      <td>Lauren Bacall</td>\n",
       "      <td>1924-09-16</td>\n",
       "      <td>0.0</td>\n",
       "      <td>2004</td>\n",
       "      <td>80</td>\n",
       "      <td>image_data/imdb_data/02/nm0000002_rm1363385088...</td>\n",
       "      <td>[ 64.30867104  64.30867104 207.26768087 207.26...</td>\n",
       "      <td>3.870171</td>\n",
       "      <td>[-0.18499404, 0.7116227, 0.44020605, -0.900509...</td>\n",
       "    </tr>\n",
       "  </tbody>\n",
       "</table>\n",
       "</div>"
      ],
      "text/plain": [
       "            name         dob  gender  photo_taken  age_when_taken  \\\n",
       "0   Fred Astaire  1899-05-10     1.0         1968              69   \n",
       "1   Fred Astaire  1899-05-10     1.0         1968              69   \n",
       "2  Lauren Bacall  1924-09-16     0.0         1991              67   \n",
       "3  Lauren Bacall  1924-09-16     0.0         2004              80   \n",
       "4  Lauren Bacall  1924-09-16     0.0         2004              80   \n",
       "\n",
       "                                           file_path  \\\n",
       "0  image_data/imdb_data/01/nm0000001_rm946909184_...   \n",
       "1  image_data/imdb_data/01/nm0000001_rm980463616_...   \n",
       "2  image_data/imdb_data/02/nm0000002_rm1075631616...   \n",
       "3  image_data/imdb_data/02/nm0000002_rm1346607872...   \n",
       "4  image_data/imdb_data/02/nm0000002_rm1363385088...   \n",
       "\n",
       "                                       face_location  face_score  \\\n",
       "0  [622.88550564 424.21750384 844.33900767 645.67...    1.872117   \n",
       "1  [1013.85900236  233.88204221 1201.5861278   42...    1.158766   \n",
       "2  [ 686.67682059  458.46721373 1198.10043604  96...    3.490563   \n",
       "3  [ 78.23569407  52.33512938 194.25423516 168.35...    3.479189   \n",
       "4  [ 64.30867104  64.30867104 207.26768087 207.26...    3.870171   \n",
       "\n",
       "                                       embeddings_fn  \n",
       "0  [0.1044133, -0.80462444, -0.86017245, -0.59309...  \n",
       "1  [-1.3740315, -0.807325, -0.21413553, 0.0199386...  \n",
       "2  [-2.134354, 0.60471165, 0.35341397, -1.1716923...  \n",
       "3  [-0.4142363, 0.04628806, -0.04605452, -1.31644...  \n",
       "4  [-0.18499404, 0.7116227, 0.44020605, -0.900509...  "
      ]
     },
     "execution_count": 10,
     "metadata": {},
     "output_type": "execute_result"
    }
   ],
   "source": [
    "photo_reduced = pd.merge(photo_meta, photo_df, on = \"file_path\")\n",
    "photo_reduced = photo_reduced[['name_x', 'dob_x', 'gender_x', 'photo_taken_x', 'age_when_taken_x', 'file_path', 'face_location_x', 'face_score_x', 'embeddings_fn']]\n",
    "photo_reduced.rename(columns = {'name_x': 'name', 'dob_x': 'dob', 'gender_x': 'gender', 'photo_taken_x': 'photo_taken', 'age_when_taken_x': 'age_when_taken', 'face_location_x': 'face_location', 'face_score_x': 'face_score'}, inplace = True)\n",
    "photo_reduced.head()"
   ]
  },
  {
   "cell_type": "code",
   "execution_count": 11,
   "metadata": {
    "scrolled": true
   },
   "outputs": [
    {
     "name": "stdout",
     "output_type": "stream",
     "text": [
      "<class 'pandas.core.frame.DataFrame'>\n",
      "Int64Index: 264533 entries, 0 to 264532\n",
      "Data columns (total 9 columns):\n",
      "name              264533 non-null object\n",
      "dob               264533 non-null object\n",
      "gender            264533 non-null float64\n",
      "photo_taken       264533 non-null int64\n",
      "age_when_taken    264533 non-null int64\n",
      "file_path         264533 non-null object\n",
      "face_location     264533 non-null object\n",
      "face_score        264533 non-null float64\n",
      "embeddings_fn     264533 non-null object\n",
      "dtypes: float64(2), int64(2), object(5)\n",
      "memory usage: 20.2+ MB\n"
     ]
    }
   ],
   "source": [
    "photo_reduced.info()"
   ]
  },
  {
   "cell_type": "code",
   "execution_count": 12,
   "metadata": {},
   "outputs": [],
   "source": [
    "photo_df_a = photo_reduced[:50000]\n",
    "photo_df_b = photo_reduced[50000:100000]\n",
    "photo_df_c = photo_reduced[100000:150000]\n",
    "photo_df_d = photo_reduced[150000:200000]\n",
    "photo_df_e = photo_reduced[200000:250000]\n",
    "photo_df_f = photo_reduced[250000:]"
   ]
  },
  {
   "cell_type": "code",
   "execution_count": 13,
   "metadata": {},
   "outputs": [],
   "source": [
    "#Save the Dataframes with embeddings\n",
    "photo_df_a.to_csv('Photo_Dataframes/photo_dfs_with_embeddings_fn/photo_dataframe_fn_embeddings_a.csv', index = False)\n",
    "photo_df_b.to_csv('Photo_Dataframes/photo_dfs_with_embeddings_fn/photo_dataframe_fn_embeddings_b.csv', index = False)\n",
    "photo_df_c.to_csv('Photo_Dataframes/photo_dfs_with_embeddings_fn/photo_dataframe_fn_embeddings_c.csv', index = False)\n",
    "photo_df_d.to_csv('Photo_Dataframes/photo_dfs_with_embeddings_fn/photo_dataframe_fn_embeddings_d.csv', index = False)\n",
    "photo_df_e.to_csv('Photo_Dataframes/photo_dfs_with_embeddings_fn/photo_dataframe_fn_embeddings_e.csv', index = False)\n",
    "photo_df_f.to_csv('Photo_Dataframes/photo_dfs_with_embeddings_fn/photo_dataframe_fn_embeddings_f.csv', index = False)"
   ]
  },
  {
   "cell_type": "code",
   "execution_count": null,
   "metadata": {},
   "outputs": [],
   "source": []
  }
 ],
 "metadata": {
  "kernelspec": {
   "display_name": "Python 3",
   "language": "python",
   "name": "python3"
  },
  "language_info": {
   "codemirror_mode": {
    "name": "ipython",
    "version": 3
   },
   "file_extension": ".py",
   "mimetype": "text/x-python",
   "name": "python",
   "nbconvert_exporter": "python",
   "pygments_lexer": "ipython3",
   "version": "3.7.2"
  }
 },
 "nbformat": 4,
 "nbformat_minor": 2
}
